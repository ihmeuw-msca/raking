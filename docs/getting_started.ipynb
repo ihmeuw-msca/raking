{
 "cells": [
  {
   "cell_type": "markdown",
   "id": "22432696-569c-4c5d-a688-b424ad1c0b82",
   "metadata": {},
   "source": [
    "# Getting started with raking"
   ]
  },
  {
   "cell_type": "markdown",
   "id": "70e58af5-b7b1-4c3d-bd3b-676a1c79d9e3",
   "metadata": {},
   "source": [
    "Let us start by importing the raking function to run the raking."
   ]
  },
  {
   "cell_type": "code",
   "execution_count": 4,
   "id": "ccd54cf9-d64d-48f9-86da-22f5c657bd62",
   "metadata": {},
   "outputs": [],
   "source": [
    "import numpy as np\n",
    "import pandas as pd\n",
    "from raking.run_raking import run_raking"
   ]
  },
  {
   "cell_type": "markdown",
   "id": "297cacff-6560-498b-a6dd-b700b5a6f022",
   "metadata": {},
   "source": [
    "Here modify the path to indicate the directory where you have installed the GitHub repository."
   ]
  },
  {
   "cell_type": "code",
   "execution_count": 6,
   "id": "686aa72c-4fa9-4f70-9f2b-c758ffaa412c",
   "metadata": {},
   "outputs": [],
   "source": [
    "YOUR_PATH = \"/Users/ducela/Documents/Raking/ihmeuw-msca/raking/\""
   ]
  },
  {
   "cell_type": "markdown",
   "id": "a396a7ea-2f1d-4084-81de-02266372ac57",
   "metadata": {},
   "source": [
    "## Examples without uncertainty\n",
    "\n",
    "In this examples, we only want the raked values. We do not provide draws for the observations and the margins and we do not want the variances and covariances of the raked values."
   ]
  },
  {
   "cell_type": "markdown",
   "id": "428105c2-ac24-4ef3-ac4e-48be95f7b3d5",
   "metadata": {},
   "source": [
    "### 1D example"
   ]
  },
  {
   "cell_type": "code",
   "execution_count": 9,
   "id": "f9409687-a08e-47ae-b016-5d0ceea49a45",
   "metadata": {},
   "outputs": [],
   "source": [
    "# Read the observations and margin data sets\n",
    "df_obs = pd.read_csv(YOUR_PATH + \"tests/examples/example_1D/observations.csv\")\n",
    "df_margin = pd.read_csv(YOUR_PATH + \"tests/examples/example_1D/margin.csv\")\n",
    "\n",
    "# Run the raking function\n",
    "(df_raked, dummy1, dummy2, dummy3) = run_raking(\n",
    "    1, df_obs, [df_margin], [\"var1\"], cov_mat=False\n",
    ")"
   ]
  },
  {
   "cell_type": "code",
   "execution_count": 10,
   "id": "b37a4a2b-bb06-4bfa-8bb3-b4a985a1c794",
   "metadata": {},
   "outputs": [
    {
     "name": "stdout",
     "output_type": "stream",
     "text": [
      "True\n"
     ]
    }
   ],
   "source": [
    "# We can verify that the raked values add up to the margin\n",
    "print(\n",
    "    np.allclose(\n",
    "        df_raked[\"raked_value\"].sum(), df_margin[\"value_agg_over_var1\"].iloc[0]\n",
    "    )\n",
    ")"
   ]
  },
  {
   "cell_type": "markdown",
   "id": "a13b08f9-5e4f-4433-9673-da8c3236bf55",
   "metadata": {},
   "source": [
    "### 2D example"
   ]
  },
  {
   "cell_type": "code",
   "execution_count": 12,
   "id": "7f0b136c-3f60-4a4c-807e-fe4f03d7912d",
   "metadata": {},
   "outputs": [],
   "source": [
    "# Read the observations and margins data sets\n",
    "df_obs = pd.read_csv(YOUR_PATH + \"tests/examples/example_2D/observations.csv\")\n",
    "df_margins_1 = pd.read_csv(\n",
    "    YOUR_PATH + \"tests/examples/example_2D/margins_1.csv\"\n",
    ")\n",
    "df_margins_2 = pd.read_csv(\n",
    "    YOUR_PATH + \"tests/examples/example_2D/margins_2.csv\"\n",
    ")\n",
    "\n",
    "# Run the raking function\n",
    "(df_raked, dummy1, dummy2, dummy3) = run_raking(\n",
    "    2, df_obs, [df_margins_1, df_margins_2], [\"var1\", \"var2\"], cov_mat=False\n",
    ")"
   ]
  },
  {
   "cell_type": "code",
   "execution_count": 13,
   "id": "7d64eb3b-54af-4fea-a700-4cd80639af43",
   "metadata": {},
   "outputs": [
    {
     "name": "stdout",
     "output_type": "stream",
     "text": [
      "True True\n"
     ]
    }
   ],
   "source": [
    "# We can verify that the raked values add up to the margins\n",
    "sum_over_var1 = (\n",
    "    df_raked.groupby([\"var2\"])\n",
    "    .agg({\"raked_value\": \"sum\"})\n",
    "    .reset_index()\n",
    "    .merge(df_margins_1, on=\"var2\")\n",
    ")\n",
    "sum_over_var2 = (\n",
    "    df_raked.groupby([\"var1\"])\n",
    "    .agg({\"raked_value\": \"sum\"})\n",
    "    .reset_index()\n",
    "    .merge(df_margins_2, on=\"var1\")\n",
    ")\n",
    "print(\n",
    "    np.allclose(\n",
    "        sum_over_var1[\"raked_value\"], sum_over_var1[\"value_agg_over_var1\"]\n",
    "    ),\n",
    "    np.allclose(\n",
    "        sum_over_var2[\"raked_value\"], sum_over_var2[\"value_agg_over_var2\"]\n",
    "    ),\n",
    ")"
   ]
  },
  {
   "cell_type": "markdown",
   "id": "7f3a3d0b-4275-4e5a-ada4-78a33031b54d",
   "metadata": {},
   "source": [
    "### 3D example"
   ]
  },
  {
   "cell_type": "code",
   "execution_count": 15,
   "id": "abf6c041-6721-47ef-b931-c3722620e8be",
   "metadata": {},
   "outputs": [],
   "source": [
    "# Read the observations and margins data sets\n",
    "df_obs = pd.read_csv(YOUR_PATH + \"tests/examples/example_3D/observations.csv\")\n",
    "df_margins_1 = pd.read_csv(\n",
    "    YOUR_PATH + \"tests/examples/example_3D/margins_1.csv\"\n",
    ")\n",
    "df_margins_2 = pd.read_csv(\n",
    "    YOUR_PATH + \"tests/examples/example_3D/margins_2.csv\"\n",
    ")\n",
    "df_margins_3 = pd.read_csv(\n",
    "    YOUR_PATH + \"tests/examples/example_3D/margins_3.csv\"\n",
    ")\n",
    "\n",
    "# Run the raking function\n",
    "(df_raked, dummy1, dummy2, dummy3) = run_raking(\n",
    "    3,\n",
    "    df_obs,\n",
    "    [df_margins_1, df_margins_2, df_margins_3],\n",
    "    [\"var1\", \"var2\", \"var3\"],\n",
    "    cov_mat=False,\n",
    ")"
   ]
  },
  {
   "cell_type": "code",
   "execution_count": 16,
   "id": "ef4c7842-e258-4ffd-b3f7-432acc9699e3",
   "metadata": {},
   "outputs": [
    {
     "name": "stdout",
     "output_type": "stream",
     "text": [
      "True True True\n"
     ]
    }
   ],
   "source": [
    "# We can verify that the raked values add up to the margins\n",
    "sum_over_var1 = (\n",
    "    df_raked.groupby([\"var2\", \"var3\"])\n",
    "    .agg({\"raked_value\": \"sum\"})\n",
    "    .reset_index()\n",
    "    .merge(df_margins_1, on=[\"var2\", \"var3\"])\n",
    ")\n",
    "sum_over_var2 = (\n",
    "    df_raked.groupby([\"var1\", \"var3\"])\n",
    "    .agg({\"raked_value\": \"sum\"})\n",
    "    .reset_index()\n",
    "    .merge(df_margins_2, on=[\"var1\", \"var3\"])\n",
    ")\n",
    "sum_over_var3 = (\n",
    "    df_raked.groupby([\"var1\", \"var2\"])\n",
    "    .agg({\"raked_value\": \"sum\"})\n",
    "    .reset_index()\n",
    "    .merge(df_margins_3, on=[\"var1\", \"var2\"])\n",
    ")\n",
    "print(\n",
    "    np.allclose(\n",
    "        sum_over_var1[\"raked_value\"], sum_over_var1[\"value_agg_over_var1\"]\n",
    "    ),\n",
    "    np.allclose(\n",
    "        sum_over_var2[\"raked_value\"], sum_over_var2[\"value_agg_over_var2\"]\n",
    "    ),\n",
    "    np.allclose(\n",
    "        sum_over_var3[\"raked_value\"], sum_over_var3[\"value_agg_over_var3\"]\n",
    "    ),\n",
    ")"
   ]
  },
  {
   "cell_type": "markdown",
   "id": "8083fd60-d846-411c-bb36-789b50bd3bc0",
   "metadata": {},
   "source": [
    "### USHD example"
   ]
  },
  {
   "cell_type": "code",
   "execution_count": 18,
   "id": "25e762df-fa4b-45d1-afad-955cd7416939",
   "metadata": {},
   "outputs": [],
   "source": [
    "# Read the observations and margins data sets\n",
    "df_obs = pd.read_csv(YOUR_PATH + \"tests/examples/example_USHD/observations.csv\")\n",
    "df_margin = pd.read_csv(YOUR_PATH + \"tests/examples/example_USHD/margins.csv\")\n",
    "\n",
    "# Run the raking function\n",
    "(df_raked, dummy1, dummy2, dummy3) = run_raking(\n",
    "    \"USHD\",\n",
    "    df_obs,\n",
    "    [df_margin],\n",
    "    None,\n",
    "    cov_mat=False,\n",
    ")"
   ]
  },
  {
   "cell_type": "code",
   "execution_count": 19,
   "id": "fec7f797-49bf-4322-9906-513b926156fe",
   "metadata": {},
   "outputs": [
    {
     "name": "stdout",
     "output_type": "stream",
     "text": [
      "True True True True\n"
     ]
    }
   ],
   "source": [
    "# We can verify that the raked values add up to the margins\n",
    "sum_over_cause = (\n",
    "    df_raked.loc[df_raked.cause != \"_all\"]\n",
    "    .groupby([\"race\", \"county\"])\n",
    "    .agg({\"raked_value\": \"sum\"})\n",
    "    .reset_index()\n",
    "    .merge(df_raked.loc[df_raked.cause == \"_all\"], on=[\"race\", \"county\"])\n",
    ")\n",
    "sum_over_race = (\n",
    "    df_raked.loc[df_raked.race != 0]\n",
    "    .groupby([\"cause\", \"county\"])\n",
    "    .agg({\"raked_value\": \"sum\"})\n",
    "    .reset_index()\n",
    "    .merge(df_raked.loc[df_raked.race == 0], on=[\"cause\", \"county\"])\n",
    ")\n",
    "sum_over_cause_race = (\n",
    "    df_raked.loc[(df_raked.cause != \"_all\") & (df_raked.race != 0)]\n",
    "    .groupby([\"county\"])\n",
    "    .agg({\"raked_value\": \"sum\"})\n",
    "    .reset_index()\n",
    "    .merge(\n",
    "        df_raked.loc[(df_raked.cause == \"_all\") & (df_raked.race == 0)],\n",
    "        on=[\"county\"],\n",
    "    )\n",
    ")\n",
    "sum_over_race_county = (\n",
    "    df_raked.loc[df_raked.race != 0]\n",
    "    .groupby([\"cause\"])\n",
    "    .agg({\"raked_value\": \"sum\"})\n",
    "    .reset_index()\n",
    "    .merge(df_margin, on=[\"cause\"])\n",
    ")\n",
    "print(\n",
    "    np.allclose(\n",
    "        sum_over_cause[\"raked_value_x\"],\n",
    "        sum_over_cause[\"raked_value_y\"],\n",
    "        atol=1.0e-4,\n",
    "    ),\n",
    "    np.allclose(\n",
    "        sum_over_race[\"raked_value_x\"],\n",
    "        sum_over_race[\"raked_value_y\"],\n",
    "        atol=1.0e-4,\n",
    "    ),\n",
    "    np.allclose(\n",
    "        sum_over_cause_race[\"raked_value_x\"],\n",
    "        sum_over_cause_race[\"raked_value_y\"],\n",
    "        atol=1.0e-4,\n",
    "    ),\n",
    "    np.allclose(\n",
    "        sum_over_race_county[\"raked_value\"],\n",
    "        sum_over_race_county[\"value_agg_over_race_county\"],\n",
    "        atol=1.0e-5,\n",
    "    ),\n",
    ")"
   ]
  },
  {
   "cell_type": "markdown",
   "id": "ed4c1a66-5d3b-4284-a73b-74a3ab282701",
   "metadata": {},
   "source": [
    "## Examples with uncertainty"
   ]
  },
  {
   "cell_type": "markdown",
   "id": "e7be81d3-9cf8-4d9b-9ef0-79138b199a0d",
   "metadata": {},
   "source": [
    "In this examples, we are interested in the uncertainty on the raked values. We provide draws for both the observations and the margins. The code will compute the mean and the covariance matrix of the observations and margins and return the mean and the covariance matrix of the raked values."
   ]
  },
  {
   "cell_type": "markdown",
   "id": "76edf4d2-99b9-4148-b018-c4899a745ee5",
   "metadata": {},
   "source": [
    "### 1D example"
   ]
  },
  {
   "cell_type": "code",
   "execution_count": 23,
   "id": "5977bf54-cefb-4d86-b8bc-3509a3f3e7b2",
   "metadata": {},
   "outputs": [],
   "source": [
    "# Read the observations and margin data sets\n",
    "df_obs = pd.read_csv(\n",
    "    YOUR_PATH + \"tests/examples/example_1D_draws/observations.csv\"\n",
    ")\n",
    "df_margin = pd.read_csv(\n",
    "    YOUR_PATH + \"tests/examples/example_1D_draws/margin.csv\"\n",
    ")\n",
    "\n",
    "# Run the raking function\n",
    "(df_raked, dummy1, dummy2, sigma) = run_raking(\n",
    "    1,\n",
    "    df_obs,\n",
    "    [df_margin],\n",
    "    [\"var1\"],\n",
    "    draws=\"draws\",\n",
    "    cov_mat=True,\n",
    ")"
   ]
  },
  {
   "cell_type": "code",
   "execution_count": 24,
   "id": "baa10776-edd8-4fc9-8953-33f3c8858602",
   "metadata": {},
   "outputs": [
    {
     "name": "stdout",
     "output_type": "stream",
     "text": [
      "True\n"
     ]
    }
   ],
   "source": [
    "# We can verify that the raked values add up to the margin\n",
    "print(\n",
    "    np.allclose(\n",
    "        df_raked[\"raked_value\"].sum(), df_margin[\"value_agg_over_var1\"].mean()\n",
    "    )\n",
    ")"
   ]
  },
  {
   "cell_type": "markdown",
   "id": "7de9db93-153c-46a5-89f4-d453fdf126e0",
   "metadata": {},
   "source": [
    "### 2D example"
   ]
  },
  {
   "cell_type": "code",
   "execution_count": 26,
   "id": "2426f05e-e593-4bd2-97c4-6c0f1b06fa8e",
   "metadata": {},
   "outputs": [],
   "source": [
    "# Read the observations and margins data sets\n",
    "df_obs = pd.read_csv(\n",
    "    YOUR_PATH + \"tests/examples/example_2D_draws/observations.csv\"\n",
    ")\n",
    "df_margins_1 = pd.read_csv(\n",
    "    YOUR_PATH + \"tests/examples/example_2D_draws/margins_1.csv\"\n",
    ")\n",
    "df_margins_2 = pd.read_csv(\n",
    "    YOUR_PATH + \"tests/examples/example_2D_draws/margins_2.csv\"\n",
    ")\n",
    "\n",
    "# Run the raking function\n",
    "(df_raked, dummy1, dummy2, sigma) = run_raking(\n",
    "    2,\n",
    "    df_obs,\n",
    "    [df_margins_1, df_margins_2],\n",
    "    [\"var1\", \"var2\"],\n",
    "    draws=\"draws\",\n",
    "    cov_mat=True,\n",
    ")"
   ]
  },
  {
   "cell_type": "code",
   "execution_count": 27,
   "id": "cf7a57b7-4552-48e9-af3c-41c8ca86b470",
   "metadata": {},
   "outputs": [
    {
     "name": "stdout",
     "output_type": "stream",
     "text": [
      "True True\n"
     ]
    }
   ],
   "source": [
    "# We can verify that the raked values add up to the margins\n",
    "sum_over_var1 = (\n",
    "    df_raked.groupby([\"var2\"])\n",
    "    .agg({\"raked_value\": \"sum\"})\n",
    "    .reset_index()\n",
    "    .merge(\n",
    "        df_margins_1.groupby([\"var2\"])\n",
    "        .agg({\"value_agg_over_var1\": \"mean\"})\n",
    "        .reset_index(),\n",
    "        on=\"var2\",\n",
    "    )\n",
    ")\n",
    "sum_over_var2 = (\n",
    "    df_raked.groupby([\"var1\"])\n",
    "    .agg({\"raked_value\": \"sum\"})\n",
    "    .reset_index()\n",
    "    .merge(\n",
    "        df_margins_2.groupby([\"var1\"])\n",
    "        .agg({\"value_agg_over_var2\": \"mean\"})\n",
    "        .reset_index(),\n",
    "        on=\"var1\",\n",
    "    )\n",
    ")\n",
    "print(\n",
    "    np.allclose(\n",
    "        sum_over_var1[\"raked_value\"], sum_over_var1[\"value_agg_over_var1\"]\n",
    "    ),\n",
    "    np.allclose(\n",
    "        sum_over_var2[\"raked_value\"], sum_over_var2[\"value_agg_over_var2\"]\n",
    "    ),\n",
    ")"
   ]
  },
  {
   "cell_type": "markdown",
   "id": "3ce66dcf-6234-4177-b4ba-4bd0e0c7e47c",
   "metadata": {},
   "source": [
    "### 3D example"
   ]
  },
  {
   "cell_type": "code",
   "execution_count": 29,
   "id": "5c683ca3-8daf-4e1d-a9bb-14f9e102cf69",
   "metadata": {},
   "outputs": [],
   "source": [
    "# Read the observations and margins data sets\n",
    "df_obs = pd.read_csv(\n",
    "    YOUR_PATH + \"tests/examples/example_3D_draws/observations.csv\"\n",
    ")\n",
    "df_margins_1 = pd.read_csv(\n",
    "    YOUR_PATH + \"tests/examples/example_3D_draws/margins_1.csv\"\n",
    ")\n",
    "df_margins_2 = pd.read_csv(\n",
    "    YOUR_PATH + \"tests/examples/example_3D_draws/margins_2.csv\"\n",
    ")\n",
    "df_margins_3 = pd.read_csv(\n",
    "    YOUR_PATH + \"tests/examples/example_3D_draws/margins_3.csv\"\n",
    ")\n",
    "\n",
    "# Run the raking function\n",
    "(df_raked, dummy1, dummy2, sigma) = run_raking(\n",
    "    3,\n",
    "    df_obs,\n",
    "    [df_margins_1, df_margins_2, df_margins_3],\n",
    "    [\"var1\", \"var2\", \"var3\"],\n",
    "    draws=\"draws\",\n",
    "    cov_mat=True,\n",
    ")"
   ]
  },
  {
   "cell_type": "code",
   "execution_count": 30,
   "id": "b60adde2-753a-4290-bf3e-6e31bc025981",
   "metadata": {},
   "outputs": [
    {
     "name": "stdout",
     "output_type": "stream",
     "text": [
      "True True True\n"
     ]
    }
   ],
   "source": [
    "# We can verify that the raked values add up to the margins\n",
    "sum_over_var1 = (\n",
    "    df_raked.groupby([\"var2\", \"var3\"])\n",
    "    .agg({\"raked_value\": \"sum\"})\n",
    "    .reset_index()\n",
    "    .merge(\n",
    "        df_margins_1.groupby([\"var2\", \"var3\"])\n",
    "        .agg({\"value_agg_over_var1\": \"mean\"})\n",
    "        .reset_index(),\n",
    "        on=[\"var2\", \"var3\"],\n",
    "    )\n",
    ")\n",
    "sum_over_var2 = (\n",
    "    df_raked.groupby([\"var1\", \"var3\"])\n",
    "    .agg({\"raked_value\": \"sum\"})\n",
    "    .reset_index()\n",
    "    .merge(\n",
    "        df_margins_2.groupby([\"var1\", \"var3\"])\n",
    "        .agg({\"value_agg_over_var2\": \"mean\"})\n",
    "        .reset_index(),\n",
    "        on=[\"var1\", \"var3\"],\n",
    "    )\n",
    ")\n",
    "sum_over_var3 = (\n",
    "    df_raked.groupby([\"var1\", \"var2\"])\n",
    "    .agg({\"raked_value\": \"sum\"})\n",
    "    .reset_index()\n",
    "    .merge(\n",
    "        df_margins_3.groupby([\"var1\", \"var2\"])\n",
    "        .agg({\"value_agg_over_var3\": \"mean\"})\n",
    "        .reset_index(),\n",
    "        on=[\"var1\", \"var2\"],\n",
    "    )\n",
    ")\n",
    "print(\n",
    "    np.allclose(\n",
    "        sum_over_var1[\"raked_value\"], sum_over_var1[\"value_agg_over_var1\"]\n",
    "    ),\n",
    "    np.allclose(\n",
    "        sum_over_var2[\"raked_value\"], sum_over_var2[\"value_agg_over_var2\"]\n",
    "    ),\n",
    "    np.allclose(\n",
    "        sum_over_var3[\"raked_value\"], sum_over_var3[\"value_agg_over_var3\"]\n",
    "    ),\n",
    ")"
   ]
  },
  {
   "cell_type": "markdown",
   "id": "c48072d7-c224-4dbc-888b-2dfaa74be7c0",
   "metadata": {},
   "source": [
    "### USHD example"
   ]
  },
  {
   "cell_type": "code",
   "execution_count": 32,
   "id": "f87498d2-8fca-4be0-b12e-393d591cc4bc",
   "metadata": {},
   "outputs": [],
   "source": [
    "# Read the observations and margins data sets\n",
    "df_obs = pd.read_csv(\n",
    "    YOUR_PATH + \"tests/examples/example_USHD_draws/observations.csv\"\n",
    ")\n",
    "df_margin = pd.read_csv(\n",
    "    YOUR_PATH + \"tests/examples/example_USHD_draws/margins.csv\"\n",
    ")\n",
    "\n",
    "# Run the raking function\n",
    "(df_raked, dummy1, dummy2, sigma) = run_raking(\n",
    "    \"USHD\",\n",
    "    df_obs,\n",
    "    [df_margin],\n",
    "    None,\n",
    "    draws=\"draws\",\n",
    "    cov_mat=True,\n",
    ")"
   ]
  },
  {
   "cell_type": "code",
   "execution_count": 33,
   "id": "58cf13dd-5aa7-40a2-b855-f09e54e304b2",
   "metadata": {},
   "outputs": [
    {
     "name": "stdout",
     "output_type": "stream",
     "text": [
      "True True True True\n"
     ]
    }
   ],
   "source": [
    "# We can verify that the raked values add up to the margins\n",
    "sum_over_cause = (\n",
    "    df_raked.loc[df_raked.cause != \"_all\"]\n",
    "    .groupby([\"race\", \"county\"])\n",
    "    .agg({\"raked_value\": \"sum\"})\n",
    "    .reset_index()\n",
    "    .merge(df_raked.loc[df_raked.cause == \"_all\"], on=[\"race\", \"county\"])\n",
    ")\n",
    "sum_over_race = (\n",
    "    df_raked.loc[df_raked.race != 0]\n",
    "    .groupby([\"cause\", \"county\"])\n",
    "    .agg({\"raked_value\": \"sum\"})\n",
    "    .reset_index()\n",
    "    .merge(df_raked.loc[df_raked.race == 0], on=[\"cause\", \"county\"])\n",
    ")\n",
    "sum_over_cause_race = (\n",
    "    df_raked.loc[(df_raked.cause != \"_all\") & (df_raked.race != 0)]\n",
    "    .groupby([\"county\"])\n",
    "    .agg({\"raked_value\": \"sum\"})\n",
    "    .reset_index()\n",
    "    .merge(\n",
    "        df_raked.loc[(df_raked.cause == \"_all\") & (df_raked.race == 0)],\n",
    "        on=[\"county\"],\n",
    "    )\n",
    ")\n",
    "sum_over_race_county = (\n",
    "    df_raked.loc[df_raked.race != 0]\n",
    "    .groupby([\"cause\"])\n",
    "    .agg({\"raked_value\": \"sum\"})\n",
    "    .reset_index()\n",
    "    .merge(\n",
    "        df_margin.groupby([\"cause\"])\n",
    "            .agg({\"value_agg_over_race_county\": \"mean\"})\n",
    "            .reset_index(),\n",
    "            on=[\"cause\"],\n",
    "        )\n",
    ")\n",
    "print(\n",
    "    np.allclose(\n",
    "        sum_over_cause[\"raked_value_x\"],\n",
    "        sum_over_cause[\"raked_value_y\"],\n",
    "        atol=1.0e-4,\n",
    "    ),\n",
    "    np.allclose(\n",
    "        sum_over_race[\"raked_value_x\"],\n",
    "        sum_over_race[\"raked_value_y\"],\n",
    "        atol=1.0e-4,\n",
    "    ),\n",
    "    np.allclose(\n",
    "        sum_over_cause_race[\"raked_value_x\"],\n",
    "        sum_over_cause_race[\"raked_value_y\"],\n",
    "        atol=1.0e-4,\n",
    "    ),\n",
    "    np.allclose(\n",
    "        sum_over_race_county[\"raked_value\"],\n",
    "        sum_over_race_county[\"value_agg_over_race_county\"],\n",
    "        atol=1.0e-4,\n",
    "    ),\n",
    ")"
   ]
  },
  {
   "cell_type": "code",
   "execution_count": null,
   "id": "4eab349e-0591-45cf-8310-fcb59ba552ae",
   "metadata": {},
   "outputs": [],
   "source": []
  }
 ],
 "metadata": {
  "kernelspec": {
   "display_name": "env_pip",
   "language": "python",
   "name": "env_pip"
  },
  "language_info": {
   "codemirror_mode": {
    "name": "ipython",
    "version": 3
   },
   "file_extension": ".py",
   "mimetype": "text/x-python",
   "name": "python",
   "nbconvert_exporter": "python",
   "pygments_lexer": "ipython3",
   "version": "3.11.5"
  }
 },
 "nbformat": 4,
 "nbformat_minor": 5
}
