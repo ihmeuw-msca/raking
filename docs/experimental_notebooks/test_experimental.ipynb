{
 "cells": [
  {
   "cell_type": "markdown",
   "id": "2fbbdf0b-e9d0-4ad5-8337-0a668c556201",
   "metadata": {},
   "source": [
    "# Test experimental code on datasets"
   ]
  },
  {
   "cell_type": "code",
   "execution_count": 1,
   "id": "619f05cd-85d9-4280-9ad8-7dd7956926fa",
   "metadata": {},
   "outputs": [],
   "source": [
    "import altair as alt\n",
    "import matplotlib.pyplot as plt\n",
    "import numpy as np\n",
    "import pandas as pd\n",
    "import os"
   ]
  },
  {
   "cell_type": "code",
   "execution_count": 2,
   "id": "739aafb5-1eda-458f-b981-cec64a107020",
   "metadata": {},
   "outputs": [],
   "source": [
    "os.chdir('/Users/ducela/Documents/Raking/ihmeuw-msca/raking/src/raking/experimental')"
   ]
  },
  {
   "cell_type": "code",
   "execution_count": 3,
   "id": "7ba89382-168e-4b29-8b19-84263e044767",
   "metadata": {},
   "outputs": [],
   "source": [
    "from data import DataBuilder\n",
    "from solver import DualSolver"
   ]
  },
  {
   "cell_type": "code",
   "execution_count": 4,
   "id": "fe439805-5c96-4079-8c15-f04af79fcdd8",
   "metadata": {},
   "outputs": [],
   "source": [
    "os.chdir('/Users/ducela/Documents/Raking/ihmeuw-msca/raking/tests')"
   ]
  },
  {
   "cell_type": "code",
   "execution_count": 5,
   "id": "34956648-39ca-46b2-a3d3-d4cf498da73b",
   "metadata": {},
   "outputs": [],
   "source": [
    "from conftest import *"
   ]
  },
  {
   "cell_type": "code",
   "execution_count": 6,
   "id": "f22c097f-cade-4eb7-a83b-b13b06c7c350",
   "metadata": {},
   "outputs": [],
   "source": [
    "os.chdir('/Users/ducela/Documents/Raking/ihmeuw-msca/raking/src/raking')"
   ]
  },
  {
   "cell_type": "code",
   "execution_count": 7,
   "id": "2efd5f7b-5e3f-4e26-b844-b423ffd4fee4",
   "metadata": {},
   "outputs": [],
   "source": [
    "from run_raking import run_raking"
   ]
  },
  {
   "cell_type": "markdown",
   "id": "1d8410c6-12af-47ea-bf74-176db2fa7727",
   "metadata": {},
   "source": [
    "## 1D example"
   ]
  },
  {
   "cell_type": "markdown",
   "id": "a932ef78-3616-484f-83ed-494e5540e338",
   "metadata": {},
   "source": [
    "Current version of the code."
   ]
  },
  {
   "cell_type": "code",
   "execution_count": 8,
   "id": "35aecb7b-f81c-4b07-8dec-f7c948007247",
   "metadata": {},
   "outputs": [],
   "source": [
    "example_1D = Example1D()"
   ]
  },
  {
   "cell_type": "code",
   "execution_count": 9,
   "id": "ed9455bb-1899-46d7-90ab-867054911a7e",
   "metadata": {},
   "outputs": [],
   "source": [
    "(df_raked, Dphi_y, Dphi_s, sigma) = run_raking(\n",
    "    dim=1,\n",
    "    df_obs=example_1D.df_obs,\n",
    "    df_margins=[example_1D.df_margin],\n",
    "    var_names=['var1'],\n",
    "    method='entropic',\n",
    "    cov_mat=False)"
   ]
  },
  {
   "cell_type": "markdown",
   "id": "f3bf6215-57cf-4389-80c0-c3f5a7fd8b45",
   "metadata": {},
   "source": [
    "Check if margins are respected."
   ]
  },
  {
   "cell_type": "code",
   "execution_count": 10,
   "id": "6955c8c7-4ee9-46a8-aab8-94748e3bf166",
   "metadata": {},
   "outputs": [
    {
     "data": {
      "text/plain": [
       "True"
      ]
     },
     "execution_count": 10,
     "metadata": {},
     "output_type": "execute_result"
    }
   ],
   "source": [
    "np.allclose(df_raked['raked_value'].sum(), example_1D.df_margin['value_agg_over_var1'].iloc[0])"
   ]
  },
  {
   "cell_type": "markdown",
   "id": "a7c4e68a-afa1-44ca-9c73-dc15f876fe2e",
   "metadata": {},
   "source": [
    "Experimental version of the code."
   ]
  },
  {
   "cell_type": "code",
   "execution_count": 11,
   "id": "0f850088-aeee-4ef0-aca5-57d07cd5596c",
   "metadata": {},
   "outputs": [],
   "source": [
    "example_1D = Example1D()"
   ]
  },
  {
   "cell_type": "code",
   "execution_count": 12,
   "id": "c427e9ea-0b42-47fc-9ed9-c435639a1a20",
   "metadata": {},
   "outputs": [],
   "source": [
    "df_obs = example_1D.df_obs\n",
    "df_obs['weights'] = 1.0"
   ]
  },
  {
   "cell_type": "code",
   "execution_count": 13,
   "id": "f73fdf64-af54-4295-a277-479c551cadb0",
   "metadata": {},
   "outputs": [],
   "source": [
    "df_margin = example_1D.df_margin\n",
    "df_margin['var1'] = -1\n",
    "df_margin['weights'] = np.inf\n",
    "df_margin.rename(columns={'value_agg_over_var1': 'value'}, inplace=True)"
   ]
  },
  {
   "cell_type": "code",
   "execution_count": 14,
   "id": "9c9e9646-222e-4755-b707-ccc2ca1fb661",
   "metadata": {},
   "outputs": [],
   "source": [
    "df = pd.concat([df_obs, df_margin])"
   ]
  },
  {
   "cell_type": "code",
   "execution_count": 15,
   "id": "85caf732-3f6c-4627-8663-a05b76e11900",
   "metadata": {},
   "outputs": [],
   "source": [
    "data_builder = DataBuilder(\n",
    "    dim_specs={'var1': -1},\n",
    "    value='value',\n",
    "    weights='weights'\n",
    ")"
   ]
  },
  {
   "cell_type": "code",
   "execution_count": 16,
   "id": "d0fef5c8-c8ed-427d-8b9f-3d2a9192fd9a",
   "metadata": {},
   "outputs": [],
   "source": [
    "data = data_builder.build(df)"
   ]
  },
  {
   "cell_type": "code",
   "execution_count": 17,
   "id": "0f5a4cb1-2c9e-42e9-a0e6-740d2810c8e8",
   "metadata": {},
   "outputs": [],
   "source": [
    "solver = DualSolver(distance='entropic', data=data)"
   ]
  },
  {
   "cell_type": "code",
   "execution_count": 18,
   "id": "4916732b-cda3-44be-8630-5403a8d14d72",
   "metadata": {},
   "outputs": [],
   "source": [
    "df_exp = solver.solve()"
   ]
  },
  {
   "cell_type": "code",
   "execution_count": 19,
   "id": "6015d6c9-5bae-4ac3-94e8-84cee39738bf",
   "metadata": {},
   "outputs": [
    {
     "data": {
      "text/plain": [
       " message: Optimization terminated successfully.\n",
       " success: True\n",
       "  status: 0\n",
       "     fun: 6.940801058998988\n",
       "       x: [-9.961e-04]\n",
       "     nit: 2\n",
       "     jac: [-3.448e-06]\n",
       "    nfev: 3\n",
       "    njev: 3\n",
       "    nhev: 2"
      ]
     },
     "execution_count": 19,
     "metadata": {},
     "output_type": "execute_result"
    }
   ],
   "source": [
    "solver.result"
   ]
  },
  {
   "cell_type": "markdown",
   "id": "1ff4ef3c-0afe-447a-99b1-e6b0f7e4d66b",
   "metadata": {},
   "source": [
    "Check if margins are respected."
   ]
  },
  {
   "cell_type": "code",
   "execution_count": 20,
   "id": "a6544d48-3fd4-4a4b-a433-8ec47cc2b6d9",
   "metadata": {},
   "outputs": [
    {
     "data": {
      "text/plain": [
       "True"
      ]
     },
     "execution_count": 20,
     "metadata": {},
     "output_type": "execute_result"
    }
   ],
   "source": [
    "np.allclose(df_exp['soln'].sum(), example_1D.df_margin['value'].iloc[0])"
   ]
  },
  {
   "cell_type": "markdown",
   "id": "29c08d85-318b-4528-ad16-7beb8996e4f9",
   "metadata": {},
   "source": [
    "Create data frame for plotting."
   ]
  },
  {
   "cell_type": "code",
   "execution_count": 21,
   "id": "119ed185-53b9-45cd-83e7-fb7bb778b435",
   "metadata": {},
   "outputs": [],
   "source": [
    "df_raked['version'] = 'current'\n",
    "df_exp['version'] = 'experimental'"
   ]
  },
  {
   "cell_type": "code",
   "execution_count": 22,
   "id": "4a283a76-11d9-4f00-9096-bb9bf9daeb2e",
   "metadata": {},
   "outputs": [],
   "source": [
    "df_exp = df_exp.merge(df, how='inner', on=['var1'])\n",
    "df_exp = df_exp.drop(columns=['weights']).rename(columns={'soln': 'raked_value'})"
   ]
  },
  {
   "cell_type": "code",
   "execution_count": 23,
   "id": "09e42141-2d6a-4415-82b5-22bebf4f3bda",
   "metadata": {},
   "outputs": [],
   "source": [
    "df_comp = pd.concat([df_raked, df_exp])"
   ]
  },
  {
   "cell_type": "markdown",
   "id": "c4866d15-cee0-4d23-9286-49c4c3745e10",
   "metadata": {},
   "source": [
    "Plot."
   ]
  },
  {
   "cell_type": "code",
   "execution_count": 24,
   "id": "b7ccb1a4-e56a-4a4d-94b9-27d1762a5648",
   "metadata": {},
   "outputs": [],
   "source": [
    "min_value = min(df_comp['raked_value'].min(), df_comp['value'].min())\n",
    "max_value = max(df_comp['raked_value'].max(), df_comp['value'].max())\n",
    "\n",
    "x1, x2 = alt.param(value=min_value), alt.param(value=max_value)\n",
    "y1, y2 = alt.param(value=min_value), alt.param(value=max_value)\n",
    "line = alt.Chart().mark_rule(color='grey').encode(\n",
    "    x=alt.datum(x1, type='quantitative'),\n",
    "    x2=alt.datum(x2, type='quantitative'),\n",
    "    y=alt.datum(y1, type='quantitative'),\n",
    "    y2=alt.datum(y2, type='quantitative')\n",
    ").add_params(x1, x2, y1, y2)\n",
    "\n",
    "mx = alt.Chart().mark_point(size=80, filled=True).encode(\n",
    "        x=alt.X('value:Q', axis=alt.Axis(title='Observations'), scale=alt.Scale(domain=[x1, x2])),\n",
    "        y=alt.Y('raked_value:Q', axis=alt.Axis(title='Raked values'), scale=alt.Scale(domain=[y1, y2])),\n",
    "        color=alt.Color('version:N', legend=alt.Legend(title='Version')),\n",
    "        shape=alt.Shape('version:N', legend=alt.Legend(title='Version'))\n",
    "    )\n",
    "chart = alt.layer(line, mx, data=df_comp).configure_axis(\n",
    "        labelFontSize=18,\n",
    "        titleFontSize=18\n",
    "    ).configure_legend(\n",
    "        labelFontSize=12,\n",
    "        titleFontSize=12\n",
    "    )"
   ]
  },
  {
   "cell_type": "code",
   "execution_count": 25,
   "id": "87c1d9b7-4ff1-409e-b322-6c8033a75f2b",
   "metadata": {},
   "outputs": [
    {
     "data": {
      "text/html": [
       "\n",
       "<style>\n",
       "  #altair-viz-b799088f985e4513a74a42ae0298a5e5.vega-embed {\n",
       "    width: 100%;\n",
       "    display: flex;\n",
       "  }\n",
       "\n",
       "  #altair-viz-b799088f985e4513a74a42ae0298a5e5.vega-embed details,\n",
       "  #altair-viz-b799088f985e4513a74a42ae0298a5e5.vega-embed details summary {\n",
       "    position: relative;\n",
       "  }\n",
       "</style>\n",
       "<div id=\"altair-viz-b799088f985e4513a74a42ae0298a5e5\"></div>\n",
       "<script type=\"text/javascript\">\n",
       "  var VEGA_DEBUG = (typeof VEGA_DEBUG == \"undefined\") ? {} : VEGA_DEBUG;\n",
       "  (function(spec, embedOpt){\n",
       "    let outputDiv = document.currentScript.previousElementSibling;\n",
       "    if (outputDiv.id !== \"altair-viz-b799088f985e4513a74a42ae0298a5e5\") {\n",
       "      outputDiv = document.getElementById(\"altair-viz-b799088f985e4513a74a42ae0298a5e5\");\n",
       "    }\n",
       "\n",
       "    const paths = {\n",
       "      \"vega\": \"https://cdn.jsdelivr.net/npm/vega@5?noext\",\n",
       "      \"vega-lib\": \"https://cdn.jsdelivr.net/npm/vega-lib?noext\",\n",
       "      \"vega-lite\": \"https://cdn.jsdelivr.net/npm/vega-lite@5.20.1?noext\",\n",
       "      \"vega-embed\": \"https://cdn.jsdelivr.net/npm/vega-embed@6?noext\",\n",
       "    };\n",
       "\n",
       "    function maybeLoadScript(lib, version) {\n",
       "      var key = `${lib.replace(\"-\", \"\")}_version`;\n",
       "      return (VEGA_DEBUG[key] == version) ?\n",
       "        Promise.resolve(paths[lib]) :\n",
       "        new Promise(function(resolve, reject) {\n",
       "          var s = document.createElement('script');\n",
       "          document.getElementsByTagName(\"head\")[0].appendChild(s);\n",
       "          s.async = true;\n",
       "          s.onload = () => {\n",
       "            VEGA_DEBUG[key] = version;\n",
       "            return resolve(paths[lib]);\n",
       "          };\n",
       "          s.onerror = () => reject(`Error loading script: ${paths[lib]}`);\n",
       "          s.src = paths[lib];\n",
       "        });\n",
       "    }\n",
       "\n",
       "    function showError(err) {\n",
       "      outputDiv.innerHTML = `<div class=\"error\" style=\"color:red;\">${err}</div>`;\n",
       "      throw err;\n",
       "    }\n",
       "\n",
       "    function displayChart(vegaEmbed) {\n",
       "      vegaEmbed(outputDiv, spec, embedOpt)\n",
       "        .catch(err => showError(`Javascript Error: ${err.message}<br>This usually means there's a typo in your chart specification. See the javascript console for the full traceback.`));\n",
       "    }\n",
       "\n",
       "    if(typeof define === \"function\" && define.amd) {\n",
       "      requirejs.config({paths});\n",
       "      let deps = [\"vega-embed\"];\n",
       "      require(deps, displayChart, err => showError(`Error loading script: ${err.message}`));\n",
       "    } else {\n",
       "      maybeLoadScript(\"vega\", \"5\")\n",
       "        .then(() => maybeLoadScript(\"vega-lite\", \"5.20.1\"))\n",
       "        .then(() => maybeLoadScript(\"vega-embed\", \"6\"))\n",
       "        .catch(showError)\n",
       "        .then(() => displayChart(vegaEmbed));\n",
       "    }\n",
       "  })({\"config\": {\"view\": {\"continuousWidth\": 300, \"continuousHeight\": 300}, \"axis\": {\"labelFontSize\": 18, \"titleFontSize\": 18}, \"legend\": {\"labelFontSize\": 12, \"titleFontSize\": 12}}, \"layer\": [{\"mark\": {\"type\": \"rule\", \"color\": \"grey\"}, \"encoding\": {\"x\": {\"type\": \"quantitative\", \"datum\": {\"expr\": \"param_1\"}}, \"x2\": {\"datum\": {\"expr\": \"param_2\"}, \"type\": \"quantitative\"}, \"y\": {\"type\": \"quantitative\", \"datum\": {\"expr\": \"param_3\"}}, \"y2\": {\"datum\": {\"expr\": \"param_4\"}, \"type\": \"quantitative\"}}}, {\"mark\": {\"type\": \"point\", \"filled\": true, \"size\": 80}, \"encoding\": {\"color\": {\"field\": \"version\", \"legend\": {\"title\": \"Version\"}, \"type\": \"nominal\"}, \"shape\": {\"field\": \"version\", \"legend\": {\"title\": \"Version\"}, \"type\": \"nominal\"}, \"x\": {\"axis\": {\"title\": \"Observations\"}, \"field\": \"value\", \"scale\": {\"domain\": [{\"expr\": \"param_1\"}, {\"expr\": \"param_2\"}]}, \"type\": \"quantitative\"}, \"y\": {\"axis\": {\"title\": \"Raked values\"}, \"field\": \"raked_value\", \"scale\": {\"domain\": [{\"expr\": \"param_3\"}, {\"expr\": \"param_4\"}]}, \"type\": \"quantitative\"}}}], \"data\": {\"name\": \"data-949d48e18d47a69c47e8935dbda4af4b\"}, \"params\": [{\"name\": \"param_1\", \"value\": 2.077133029427143}, {\"name\": \"param_2\", \"value\": 2.650090231156789}, {\"name\": \"param_3\", \"value\": 2.077133029427143}, {\"name\": \"param_4\", \"value\": 2.650090231156789}], \"$schema\": \"https://vega.github.io/schema/vega-lite/v5.20.1.json\", \"datasets\": {\"data-949d48e18d47a69c47e8935dbda4af4b\": [{\"value\": 2.6474516990367585, \"var1\": 0, \"raked_value\": 2.6500902311567884, \"version\": \"current\"}, {\"value\": 2.216219776447759, \"var1\": 1, \"raked_value\": 2.218428529516731, \"version\": \"current\"}, {\"value\": 2.077133029427143, \"var1\": 2, \"raked_value\": 2.0792031643488538, \"version\": \"current\"}, {\"value\": 2.6474516990367585, \"var1\": 0, \"raked_value\": 2.650090231156789, \"version\": \"experimental\"}, {\"value\": 2.216219776447759, \"var1\": 1, \"raked_value\": 2.2184285295167316, \"version\": \"experimental\"}, {\"value\": 2.077133029427143, \"var1\": 2, \"raked_value\": 2.079203164348854, \"version\": \"experimental\"}]}}, {\"mode\": \"vega-lite\"});\n",
       "</script>"
      ],
      "text/plain": [
       "alt.LayerChart(...)"
      ]
     },
     "execution_count": 25,
     "metadata": {},
     "output_type": "execute_result"
    }
   ],
   "source": [
    "chart"
   ]
  },
  {
   "cell_type": "markdown",
   "id": "0e4ba30e-6894-47e9-b638-21d7e01fb0dc",
   "metadata": {},
   "source": [
    "Sort values and compare."
   ]
  },
  {
   "cell_type": "code",
   "execution_count": 26,
   "id": "3617af10-a76a-4cf3-b4b4-f16ab7650b17",
   "metadata": {},
   "outputs": [
    {
     "data": {
      "text/plain": [
       "[<matplotlib.lines.Line2D at 0x145b864e0>]"
      ]
     },
     "execution_count": 26,
     "metadata": {},
     "output_type": "execute_result"
    },
    {
     "data": {
      "image/png": "[encoded data removed]",
      "text/plain": [
       "<Figure size 640x480 with 1 Axes>"
      ]
     },
     "metadata": {},
     "output_type": "display_data"
    }
   ],
   "source": [
    "current = df_raked.sort_values(by='var1').raked_value.to_numpy()\n",
    "experimental = df_exp.sort_values(by='var1').raked_value.to_numpy()\n",
    "plt.plot(current, current, 'k-')\n",
    "plt.plot(current, experimental, 'ro')"
   ]
  },
  {
   "cell_type": "code",
   "execution_count": 27,
   "id": "0cb7e041-ea8a-4c15-a87c-9d6506bea049",
   "metadata": {},
   "outputs": [
    {
     "data": {
      "text/plain": [
       "True"
      ]
     },
     "execution_count": 27,
     "metadata": {},
     "output_type": "execute_result"
    }
   ],
   "source": [
    "np.allclose(current, experimental)"
   ]
  },
  {
   "cell_type": "markdown",
   "id": "541b2475-8ef7-4845-b0a7-8add8c8f05bc",
   "metadata": {},
   "source": [
    "## 2D example"
   ]
  },
  {
   "cell_type": "markdown",
   "id": "19d91cd1-78c8-43b8-a10c-aeb927d6ed59",
   "metadata": {},
   "source": [
    "Current version of the code."
   ]
  },
  {
   "cell_type": "code",
   "execution_count": 28,
   "id": "f9403c5a-36e4-4b49-9b37-c7eb5a51c55f",
   "metadata": {},
   "outputs": [],
   "source": [
    "example_2D = Example2D()"
   ]
  },
  {
   "cell_type": "code",
   "execution_count": 29,
   "id": "c6734064-fcbc-4e1a-9713-604dd91da089",
   "metadata": {},
   "outputs": [],
   "source": [
    "(df_raked, Dphi_y, Dphi_s, sigma) = run_raking(\n",
    "    dim=2,\n",
    "    df_obs=example_2D.df_obs,\n",
    "    df_margins=[example_2D.df_margins_1, example_2D.df_margins_2],\n",
    "    var_names=['var1', 'var2'],\n",
    "    method='entropic',\n",
    "    cov_mat=False)"
   ]
  },
  {
   "cell_type": "markdown",
   "id": "184508d1-7755-499c-9c27-50f1df20ff07",
   "metadata": {},
   "source": [
    "Check if margins are respected."
   ]
  },
  {
   "cell_type": "code",
   "execution_count": 30,
   "id": "d80ef93e-26f6-49f6-b440-7a0814509fa3",
   "metadata": {},
   "outputs": [
    {
     "name": "stdout",
     "output_type": "stream",
     "text": [
      "True True\n"
     ]
    }
   ],
   "source": [
    "sum_over_var1 = (\n",
    "    df_raked.groupby(['var2'])\n",
    "    .agg({'raked_value': 'sum'})\n",
    "    .reset_index()\n",
    "    .merge(example_2D.df_margins_1, on='var2')\n",
    ")\n",
    "sum_over_var2 = (\n",
    "    df_raked.groupby(['var1'])\n",
    "    .agg({'raked_value': 'sum'})\n",
    "    .reset_index()\n",
    "    .merge(example_2D.df_margins_2, on='var1')\n",
    ")\n",
    "print(\n",
    "    np.allclose(\n",
    "        sum_over_var1['raked_value'], sum_over_var1['value_agg_over_var1']\n",
    "    ),\n",
    "    np.allclose(\n",
    "        sum_over_var2['raked_value'], sum_over_var2['value_agg_over_var2']\n",
    "    ),\n",
    ")"
   ]
  },
  {
   "cell_type": "markdown",
   "id": "e449d665-fd11-4a23-b431-1acbd5c6c62d",
   "metadata": {},
   "source": [
    "Experimental version of the code."
   ]
  },
  {
   "cell_type": "code",
   "execution_count": 31,
   "id": "20cecc7d-d3a8-487e-aad0-440b821b0cfc",
   "metadata": {},
   "outputs": [],
   "source": [
    "example_2D = Example2D()"
   ]
  },
  {
   "cell_type": "code",
   "execution_count": 32,
   "id": "241a267f-15e5-42af-963f-0c1a346d0808",
   "metadata": {},
   "outputs": [],
   "source": [
    "df_obs = example_2D.df_obs\n",
    "df_obs['weights'] = 1.0"
   ]
  },
  {
   "cell_type": "code",
   "execution_count": 33,
   "id": "62500471-2ef5-4fa0-8b56-d1eb411ce178",
   "metadata": {},
   "outputs": [],
   "source": [
    "df_margins_1 = example_2D.df_margins_1\n",
    "df_margins_1['var1'] = -1\n",
    "df_margins_1['weights'] = np.inf\n",
    "df_margins_1.rename(columns={'value_agg_over_var1': 'value'}, inplace=True)"
   ]
  },
  {
   "cell_type": "code",
   "execution_count": 34,
   "id": "0fdb505c-39c0-4a34-aa8a-751ee6147ac3",
   "metadata": {},
   "outputs": [],
   "source": [
    "df_margins_2 = example_2D.df_margins_2\n",
    "df_margins_2['var2'] = -1\n",
    "df_margins_2['weights'] = np.inf\n",
    "df_margins_2.rename(columns={'value_agg_over_var2': 'value'}, inplace=True)"
   ]
  },
  {
   "cell_type": "code",
   "execution_count": 35,
   "id": "c1d3f630-eb21-4a41-988a-8ee075acbd49",
   "metadata": {},
   "outputs": [],
   "source": [
    "df = pd.concat([df_obs, df_margins_1, df_margins_2])"
   ]
  },
  {
   "cell_type": "code",
   "execution_count": 36,
   "id": "8e870179-8e4a-452e-b793-7e8f3bbb5fd3",
   "metadata": {},
   "outputs": [],
   "source": [
    "data_builder = DataBuilder(\n",
    "    dim_specs={'var1': -1, 'var2': -1},\n",
    "    value='value',\n",
    "    weights='weights'\n",
    ")"
   ]
  },
  {
   "cell_type": "code",
   "execution_count": 37,
   "id": "866fe2ef-f51f-4113-9bf7-ff108920f1ec",
   "metadata": {},
   "outputs": [],
   "source": [
    "data = data_builder.build(df)"
   ]
  },
  {
   "cell_type": "code",
   "execution_count": 38,
   "id": "06168c0b-4824-47ee-8b8d-5371010c1fdf",
   "metadata": {},
   "outputs": [],
   "source": [
    "solver = DualSolver(distance='entropic', data=data)"
   ]
  },
  {
   "cell_type": "code",
   "execution_count": 39,
   "id": "86cf9a75-9781-498f-b786-ba3b64b0bbd6",
   "metadata": {},
   "outputs": [],
   "source": [
    "df_exp = solver.solve()"
   ]
  },
  {
   "cell_type": "code",
   "execution_count": 40,
   "id": "5cc40cee-4312-40e9-ba96-e9961b1668d4",
   "metadata": {},
   "outputs": [
    {
     "data": {
      "text/plain": [
       " message: Optimization terminated successfully.\n",
       " success: True\n",
       "  status: 0\n",
       "     fun: 37.927277836336025\n",
       "       x: [-4.717e-03 -1.792e-02 -1.830e-02 -5.281e-03  3.278e-02\n",
       "            2.807e-02  1.769e-02]\n",
       "     nit: 5\n",
       "     jac: [-1.368e-07 -1.837e-08  2.653e-07 -4.103e-07  1.124e-06\n",
       "           -6.452e-07  1.265e-08]\n",
       "    nfev: 6\n",
       "    njev: 6\n",
       "    nhev: 5"
      ]
     },
     "execution_count": 40,
     "metadata": {},
     "output_type": "execute_result"
    }
   ],
   "source": [
    "solver.result"
   ]
  },
  {
   "cell_type": "markdown",
   "id": "051dd0b2-b131-4a29-a940-1941538ba4c7",
   "metadata": {},
   "source": [
    "Check if margins are respected."
   ]
  },
  {
   "cell_type": "code",
   "execution_count": 41,
   "id": "ffe8e5fe-ef23-4a7f-920b-56388456bc4f",
   "metadata": {},
   "outputs": [
    {
     "name": "stdout",
     "output_type": "stream",
     "text": [
      "True True\n"
     ]
    }
   ],
   "source": [
    "sum_over_var1 = (\n",
    "    df_exp.groupby(['var2'])\n",
    "    .agg({'soln': 'sum'})\n",
    "    .reset_index()\n",
    "    .merge(example_2D.df_margins_1, on='var2')\n",
    ")\n",
    "sum_over_var2 = (\n",
    "    df_exp.groupby(['var1'])\n",
    "    .agg({'soln': 'sum'})\n",
    "    .reset_index()\n",
    "    .merge(example_2D.df_margins_2, on='var1')\n",
    ")\n",
    "print(\n",
    "    np.allclose(\n",
    "        sum_over_var1['soln'], sum_over_var1['value']\n",
    "    ),\n",
    "    np.allclose(\n",
    "        sum_over_var2['soln'], sum_over_var2['value']\n",
    "    ),\n",
    ")"
   ]
  },
  {
   "cell_type": "markdown",
   "id": "0c58f812-21bf-469a-9710-c3bad731a057",
   "metadata": {},
   "source": [
    "Create data frame for plotting."
   ]
  },
  {
   "cell_type": "code",
   "execution_count": 42,
   "id": "69d3b0fd-7b05-41ef-8257-e39b26fad428",
   "metadata": {},
   "outputs": [],
   "source": [
    "df_raked['version'] = 'current'\n",
    "df_exp['version'] = 'experimental'"
   ]
  },
  {
   "cell_type": "code",
   "execution_count": 43,
   "id": "3470f20c-904a-4faa-968d-83281f7e31bb",
   "metadata": {},
   "outputs": [],
   "source": [
    "df_exp = df_exp.merge(df, how='inner', on=['var1', 'var2'])\n",
    "df_exp = df_exp.drop(columns=['weights']).rename(columns={'soln': 'raked_value'})"
   ]
  },
  {
   "cell_type": "code",
   "execution_count": 44,
   "id": "e030c8ca-052b-4fdf-b19c-d1c7375968e5",
   "metadata": {},
   "outputs": [],
   "source": [
    "df_comp = pd.concat([df_raked, df_exp])"
   ]
  },
  {
   "cell_type": "markdown",
   "id": "0d9edd5d-70e7-4c27-babe-1b3c597fd6e7",
   "metadata": {},
   "source": [
    "Plot."
   ]
  },
  {
   "cell_type": "code",
   "execution_count": 45,
   "id": "23bb5adc-7f7e-46e5-83fe-41b16b662932",
   "metadata": {},
   "outputs": [],
   "source": [
    "min_value = min(df_comp['raked_value'].min(), df_comp['value'].min())\n",
    "max_value = max(df_comp['raked_value'].max(), df_comp['value'].max())\n",
    "\n",
    "x1, x2 = alt.param(value=min_value), alt.param(value=max_value)\n",
    "y1, y2 = alt.param(value=min_value), alt.param(value=max_value)\n",
    "line = alt.Chart().mark_rule(color='grey').encode(\n",
    "    x=alt.datum(x1, type='quantitative'),\n",
    "    x2=alt.datum(x2, type='quantitative'),\n",
    "    y=alt.datum(y1, type='quantitative'),\n",
    "    y2=alt.datum(y2, type='quantitative')\n",
    ").add_params(x1, x2, y1, y2)\n",
    "\n",
    "mx = alt.Chart().mark_point(size=80, filled=True).encode(\n",
    "        x=alt.X('value:Q', axis=alt.Axis(title='Observations'), scale=alt.Scale(domain=[x1, x2])),\n",
    "        y=alt.Y('raked_value:Q', axis=alt.Axis(title='Raked values'), scale=alt.Scale(domain=[y1, y2])),\n",
    "        color=alt.Color('version:N', legend=alt.Legend(title='Version')),\n",
    "        shape=alt.Shape('version:N', legend=alt.Legend(title='Version'))\n",
    "    )\n",
    "chart = alt.layer(line, mx, data=df_comp).configure_axis(\n",
    "        labelFontSize=18,\n",
    "        titleFontSize=18\n",
    "    ).configure_legend(\n",
    "        labelFontSize=12,\n",
    "        titleFontSize=12\n",
    "    )"
   ]
  },
  {
   "cell_type": "code",
   "execution_count": 46,
   "id": "450a01d3-6520-4129-a740-060728c37320",
   "metadata": {},
   "outputs": [
    {
     "data": {
      "text/html": [
       "\n",
       "<style>\n",
       "  #altair-viz-d4304bacdc13487d8247c374ac10ef91.vega-embed {\n",
       "    width: 100%;\n",
       "    display: flex;\n",
       "  }\n",
       "\n",
       "  #altair-viz-d4304bacdc13487d8247c374ac10ef91.vega-embed details,\n",
       "  #altair-viz-d4304bacdc13487d8247c374ac10ef91.vega-embed details summary {\n",
       "    position: relative;\n",
       "  }\n",
       "</style>\n",
       "<div id=\"altair-viz-d4304bacdc13487d8247c374ac10ef91\"></div>\n",
       "<script type=\"text/javascript\">\n",
       "  var VEGA_DEBUG = (typeof VEGA_DEBUG == \"undefined\") ? {} : VEGA_DEBUG;\n",
       "  (function(spec, embedOpt){\n",
       "    let outputDiv = document.currentScript.previousElementSibling;\n",
       "    if (outputDiv.id !== \"altair-viz-d4304bacdc13487d8247c374ac10ef91\") {\n",
       "      outputDiv = document.getElementById(\"altair-viz-d4304bacdc13487d8247c374ac10ef91\");\n",
       "    }\n",
       "\n",
       "    const paths = {\n",
       "      \"vega\": \"https://cdn.jsdelivr.net/npm/vega@5?noext\",\n",
       "      \"vega-lib\": \"https://cdn.jsdelivr.net/npm/vega-lib?noext\",\n",
       "      \"vega-lite\": \"https://cdn.jsdelivr.net/npm/vega-lite@5.20.1?noext\",\n",
       "      \"vega-embed\": \"https://cdn.jsdelivr.net/npm/vega-embed@6?noext\",\n",
       "    };\n",
       "\n",
       "    function maybeLoadScript(lib, version) {\n",
       "      var key = `${lib.replace(\"-\", \"\")}_version`;\n",
       "      return (VEGA_DEBUG[key] == version) ?\n",
       "        Promise.resolve(paths[lib]) :\n",
       "        new Promise(function(resolve, reject) {\n",
       "          var s = document.createElement('script');\n",
       "          document.getElementsByTagName(\"head\")[0].appendChild(s);\n",
       "          s.async = true;\n",
       "          s.onload = () => {\n",
       "            VEGA_DEBUG[key] = version;\n",
       "            return resolve(paths[lib]);\n",
       "          };\n",
       "          s.onerror = () => reject(`Error loading script: ${paths[lib]}`);\n",
       "          s.src = paths[lib];\n",
       "        });\n",
       "    }\n",
       "\n",
       "    function showError(err) {\n",
       "      outputDiv.innerHTML = `<div class=\"error\" style=\"color:red;\">${err}</div>`;\n",
       "      throw err;\n",
       "    }\n",
       "\n",
       "    function displayChart(vegaEmbed) {\n",
       "      vegaEmbed(outputDiv, spec, embedOpt)\n",
       "        .catch(err => showError(`Javascript Error: ${err.message}<br>This usually means there's a typo in your chart specification. See the javascript console for the full traceback.`));\n",
       "    }\n",
       "\n",
       "    if(typeof define === \"function\" && define.amd) {\n",
       "      requirejs.config({paths});\n",
       "      let deps = [\"vega-embed\"];\n",
       "      require(deps, displayChart, err => showError(`Error loading script: ${err.message}`));\n",
       "    } else {\n",
       "      maybeLoadScript(\"vega\", \"5\")\n",
       "        .then(() => maybeLoadScript(\"vega-lite\", \"5.20.1\"))\n",
       "        .then(() => maybeLoadScript(\"vega-embed\", \"6\"))\n",
       "        .catch(showError)\n",
       "        .then(() => displayChart(vegaEmbed));\n",
       "    }\n",
       "  })({\"config\": {\"view\": {\"continuousWidth\": 300, \"continuousHeight\": 300}, \"axis\": {\"labelFontSize\": 18, \"titleFontSize\": 18}, \"legend\": {\"labelFontSize\": 12, \"titleFontSize\": 12}}, \"layer\": [{\"mark\": {\"type\": \"rule\", \"color\": \"grey\"}, \"encoding\": {\"x\": {\"type\": \"quantitative\", \"datum\": {\"expr\": \"param_5\"}}, \"x2\": {\"datum\": {\"expr\": \"param_6\"}, \"type\": \"quantitative\"}, \"y\": {\"type\": \"quantitative\", \"datum\": {\"expr\": \"param_7\"}}, \"y2\": {\"datum\": {\"expr\": \"param_8\"}, \"type\": \"quantitative\"}}}, {\"mark\": {\"type\": \"point\", \"filled\": true, \"size\": 80}, \"encoding\": {\"color\": {\"field\": \"version\", \"legend\": {\"title\": \"Version\"}, \"type\": \"nominal\"}, \"shape\": {\"field\": \"version\", \"legend\": {\"title\": \"Version\"}, \"type\": \"nominal\"}, \"x\": {\"axis\": {\"title\": \"Observations\"}, \"field\": \"value\", \"scale\": {\"domain\": [{\"expr\": \"param_5\"}, {\"expr\": \"param_6\"}]}, \"type\": \"quantitative\"}, \"y\": {\"axis\": {\"title\": \"Raked values\"}, \"field\": \"raked_value\", \"scale\": {\"domain\": [{\"expr\": \"param_7\"}, {\"expr\": \"param_8\"}]}, \"type\": \"quantitative\"}}}], \"data\": {\"name\": \"data-a3765a409b9f758733d96c02dc4ef35e\"}, \"params\": [{\"name\": \"param_5\", \"value\": 1.9592356503700832}, {\"name\": \"param_6\", \"value\": 2.9415509063418557}, {\"name\": \"param_7\", \"value\": 1.9592356503700832}, {\"name\": \"param_8\", \"value\": 2.9415509063418557}], \"$schema\": \"https://vega.github.io/schema/vega-lite/v5.20.1.json\", \"datasets\": {\"data-a3765a409b9f758733d96c02dc4ef35e\": [{\"value\": 2.5637349518511092, \"var1\": 0, \"var2\": 0, \"raked_value\": 2.5894952740615693, \"version\": \"current\"}, {\"value\": 2.858329678991991, \"var1\": 1, \"var2\": 0, \"raked_value\": 2.92542844344104, \"version\": \"current\"}, {\"value\": 2.784223538484617, \"var1\": 2, \"var2\": 0, \"raked_value\": 2.850647101218102, \"version\": \"current\"}, {\"value\": 2.3109497674012833, \"var1\": 0, \"var2\": 1, \"raked_value\": 2.246993200769613, \"version\": \"current\"}, {\"value\": 2.710887112711448, \"var1\": 1, \"var2\": 1, \"raked_value\": 2.67090135379212, \"version\": \"current\"}, {\"value\": 1.9898850338757448, \"var1\": 2, \"var2\": 1, \"raked_value\": 1.9612664351394673, \"version\": \"current\"}, {\"value\": 2.177619870991163, \"var1\": 0, \"var2\": 2, \"raked_value\": 2.127356760771135, \"version\": \"current\"}, {\"value\": 2.662977093635337, \"var1\": 1, \"var2\": 2, \"raked_value\": 2.6360937418096686, \"version\": \"current\"}, {\"value\": 2.8925552835968715, \"var1\": 2, \"var2\": 2, \"raked_value\": 2.8644238589269597, \"version\": \"current\"}, {\"value\": 2.10687465369371, \"var1\": 0, \"var2\": 3, \"raked_value\": 2.079710966948749, \"version\": \"current\"}, {\"value\": 2.5530262212415105, \"var1\": 1, \"var2\": 3, \"raked_value\": 2.5536108868502416, \"version\": \"current\"}, {\"value\": 1.9592356503700832, \"var1\": 2, \"var2\": 3, \"raked_value\": 1.9604163485004251, \"version\": \"current\"}, {\"value\": 2.7210977015744304, \"var1\": 0, \"var2\": 4, \"raked_value\": 2.7339635971992533, \"version\": \"current\"}, {\"value\": 2.8892998412210344, \"var1\": 1, \"var2\": 4, \"raked_value\": 2.9415509033890226, \"version\": \"current\"}, {\"value\": 2.751674958776949, \"var1\": 2, \"var2\": 4, \"raked_value\": 2.80248360882971, \"version\": \"current\"}, {\"value\": 2.5637349518511092, \"var1\": 0, \"var2\": 0, \"raked_value\": 2.5894952738359316, \"version\": \"experimental\"}, {\"value\": 2.3109497674012833, \"var1\": 0, \"var2\": 1, \"raked_value\": 2.2469932002046744, \"version\": \"experimental\"}, {\"value\": 2.177619870991163, \"var1\": 0, \"var2\": 2, \"raked_value\": 2.127356760125568, \"version\": \"experimental\"}, {\"value\": 2.10687465369371, \"var1\": 0, \"var2\": 3, \"raked_value\": 2.07971096605866, \"version\": \"experimental\"}, {\"value\": 2.7210977015744304, \"var1\": 0, \"var2\": 4, \"raked_value\": 2.733963600069237, \"version\": \"experimental\"}, {\"value\": 2.858329678991991, \"var1\": 1, \"var2\": 0, \"raked_value\": 2.9254284430518047, \"version\": \"experimental\"}, {\"value\": 2.710887112711448, \"var1\": 1, \"var2\": 1, \"raked_value\": 2.670901352997964, \"version\": \"experimental\"}, {\"value\": 2.662977093635337, \"var1\": 1, \"var2\": 2, \"raked_value\": 2.6360937408886818, \"version\": \"experimental\"}, {\"value\": 2.5530262212415105, \"var1\": 1, \"var2\": 3, \"raked_value\": 2.553610885640077, \"version\": \"experimental\"}, {\"value\": 2.8892998412210344, \"var1\": 1, \"var2\": 4, \"raked_value\": 2.9415509063418557, \"version\": \"experimental\"}, {\"value\": 2.784223538484617, \"var1\": 2, \"var2\": 0, \"raked_value\": 2.8506471011185552, \"version\": \"experimental\"}, {\"value\": 1.9898850338757448, \"var1\": 2, \"var2\": 1, \"raked_value\": 1.9612664347487736, \"version\": \"experimental\"}, {\"value\": 2.8925552835968715, \"var1\": 2, \"var2\": 2, \"raked_value\": 2.864423858207289, \"version\": \"experimental\"}, {\"value\": 1.9592356503700832, \"var1\": 2, \"var2\": 3, \"raked_value\": 1.9604163477637562, \"version\": \"experimental\"}, {\"value\": 2.751674958776949, \"var1\": 2, \"var2\": 4, \"raked_value\": 2.8024836119179546, \"version\": \"experimental\"}]}}, {\"mode\": \"vega-lite\"});\n",
       "</script>"
      ],
      "text/plain": [
       "alt.LayerChart(...)"
      ]
     },
     "execution_count": 46,
     "metadata": {},
     "output_type": "execute_result"
    }
   ],
   "source": [
    "chart"
   ]
  },
  {
   "cell_type": "markdown",
   "id": "6ef7a08a-db50-4eee-9cb9-6150d663f95c",
   "metadata": {},
   "source": [
    "Sort values and compare."
   ]
  },
  {
   "cell_type": "code",
   "execution_count": 47,
   "id": "be41c5f3-3d43-43ea-9770-892586748c84",
   "metadata": {},
   "outputs": [
    {
     "data": {
      "text/plain": [
       "[<matplotlib.lines.Line2D at 0x145c5f9e0>]"
      ]
     },
     "execution_count": 47,
     "metadata": {},
     "output_type": "execute_result"
    },
    {
     "data": {
      "image/png": "[encoded data removed]",
      "text/plain": [
       "<Figure size 640x480 with 1 Axes>"
      ]
     },
     "metadata": {},
     "output_type": "display_data"
    }
   ],
   "source": [
    "current = df_raked.sort_values(by=['var1', 'var2']).raked_value.to_numpy()\n",
    "experimental = df_exp.sort_values(by=['var1', 'var2']).raked_value.to_numpy()\n",
    "plt.plot(current, current, 'k-')\n",
    "plt.plot(current, experimental, 'ro')"
   ]
  },
  {
   "cell_type": "code",
   "execution_count": 48,
   "id": "c3a72582-cafa-4b01-9688-e963035e094d",
   "metadata": {},
   "outputs": [
    {
     "data": {
      "text/plain": [
       "True"
      ]
     },
     "execution_count": 48,
     "metadata": {},
     "output_type": "execute_result"
    }
   ],
   "source": [
    "np.allclose(current, experimental)"
   ]
  },
  {
   "cell_type": "markdown",
   "id": "0aa95d84-c48a-4471-bb2b-34ec3ed79002",
   "metadata": {},
   "source": [
    "## 3D example"
   ]
  },
  {
   "cell_type": "markdown",
   "id": "1dd3ddaa-2e96-4c88-9a97-5c763e510cb1",
   "metadata": {},
   "source": [
    "Current version of the code."
   ]
  },
  {
   "cell_type": "code",
   "execution_count": 49,
   "id": "a3bfdcd0-fe95-4c3e-b84a-bffae3197d98",
   "metadata": {},
   "outputs": [],
   "source": [
    "example_3D = Example3D()"
   ]
  },
  {
   "cell_type": "code",
   "execution_count": 50,
   "id": "c96818d5-873e-476a-a532-96159791f887",
   "metadata": {},
   "outputs": [],
   "source": [
    "(df_raked, Dphi_y, Dphi_s, sigma) = run_raking(\n",
    "    dim=3,\n",
    "    df_obs=example_3D.df_obs,\n",
    "    df_margins=[example_3D.df_margins_1, example_3D.df_margins_2, example_3D.df_margins_3],\n",
    "    var_names=['var1', 'var2', 'var3'],\n",
    "    method='entropic',\n",
    "    cov_mat=False)"
   ]
  },
  {
   "cell_type": "markdown",
   "id": "18981941-e803-4b6d-9768-2e47c4f89a5d",
   "metadata": {},
   "source": [
    "Check if margins are respected."
   ]
  },
  {
   "cell_type": "code",
   "execution_count": 51,
   "id": "cb9827c8-b73f-4068-8359-d65e7015743d",
   "metadata": {},
   "outputs": [
    {
     "name": "stdout",
     "output_type": "stream",
     "text": [
      "True True True\n"
     ]
    }
   ],
   "source": [
    "sum_over_var1 = (\n",
    "    df_raked.groupby([\"var2\", \"var3\"])\n",
    "    .agg({\"raked_value\": \"sum\"})\n",
    "    .reset_index()\n",
    "    .merge(example_3D.df_margins_1, on=[\"var2\", \"var3\"])\n",
    ")\n",
    "sum_over_var2 = (\n",
    "    df_raked.groupby([\"var1\", \"var3\"])\n",
    "    .agg({\"raked_value\": \"sum\"})\n",
    "    .reset_index()\n",
    "    .merge(example_3D.df_margins_2, on=[\"var1\", \"var3\"])\n",
    ")\n",
    "sum_over_var3 = (\n",
    "    df_raked.groupby([\"var1\", \"var2\"])\n",
    "    .agg({\"raked_value\": \"sum\"})\n",
    "    .reset_index()\n",
    "    .merge(example_3D.df_margins_3, on=[\"var1\", \"var2\"])\n",
    ")\n",
    "print(\n",
    "    np.allclose(\n",
    "        sum_over_var1[\"raked_value\"], sum_over_var1[\"value_agg_over_var1\"]\n",
    "    ),\n",
    "    np.allclose(\n",
    "        sum_over_var2[\"raked_value\"], sum_over_var2[\"value_agg_over_var2\"]\n",
    "    ),\n",
    "    np.allclose(\n",
    "        sum_over_var3[\"raked_value\"], sum_over_var3[\"value_agg_over_var3\"]\n",
    "    ),\n",
    ")"
   ]
  },
  {
   "cell_type": "markdown",
   "id": "6a73a7e4-a47f-46fb-9d9d-f79a3cb9cc59",
   "metadata": {},
   "source": [
    "Experimental version of the code."
   ]
  },
  {
   "cell_type": "code",
   "execution_count": 52,
   "id": "85f0f128-e4ab-4ecf-89ee-f175a7f1f2cc",
   "metadata": {},
   "outputs": [],
   "source": [
    "example_3D = Example3D()"
   ]
  },
  {
   "cell_type": "code",
   "execution_count": 53,
   "id": "d5052a6b-5205-46fe-bc7d-8c098522d9b1",
   "metadata": {},
   "outputs": [],
   "source": [
    "df_obs = example_3D.df_obs\n",
    "df_obs['weights'] = 1.0"
   ]
  },
  {
   "cell_type": "code",
   "execution_count": 54,
   "id": "16023de3-5c2e-4bde-ae20-576d8bfe63c1",
   "metadata": {},
   "outputs": [],
   "source": [
    "df_margins_1 = example_3D.df_margins_1\n",
    "df_margins_1['var1'] = -1\n",
    "df_margins_1['weights'] = np.inf\n",
    "df_margins_1.rename(columns={'value_agg_over_var1': 'value'}, inplace=True)"
   ]
  },
  {
   "cell_type": "code",
   "execution_count": 55,
   "id": "09beb48d-8b59-46d1-a5b0-390fcc75cd73",
   "metadata": {},
   "outputs": [],
   "source": [
    "df_margins_2 = example_3D.df_margins_2\n",
    "df_margins_2['var2'] = -1\n",
    "df_margins_2['weights'] = np.inf\n",
    "df_margins_2.rename(columns={'value_agg_over_var2': 'value'}, inplace=True)"
   ]
  },
  {
   "cell_type": "code",
   "execution_count": 56,
   "id": "7f9f6d9a-a34d-4d0d-afa9-90e21196bd76",
   "metadata": {},
   "outputs": [],
   "source": [
    "df_margins_3 = example_3D.df_margins_3\n",
    "df_margins_3['var3'] = -1\n",
    "df_margins_3['weights'] = np.inf\n",
    "df_margins_3.rename(columns={'value_agg_over_var3': 'value'}, inplace=True)"
   ]
  },
  {
   "cell_type": "code",
   "execution_count": 57,
   "id": "c65dba14-b7c7-4499-bffa-6e39d29f99f2",
   "metadata": {},
   "outputs": [],
   "source": [
    "df = pd.concat([df_obs, df_margins_1, df_margins_2, df_margins_3])"
   ]
  },
  {
   "cell_type": "code",
   "execution_count": 58,
   "id": "c2c14417-1169-45ec-b7a9-c182cdb3782e",
   "metadata": {},
   "outputs": [],
   "source": [
    "data_builder = DataBuilder(\n",
    "    dim_specs={'var1': -1, 'var2': -1, 'var3': -1},\n",
    "    value='value',\n",
    "    weights='weights'\n",
    ")"
   ]
  },
  {
   "cell_type": "code",
   "execution_count": 59,
   "id": "f1915178-b792-43c6-b9cc-fcdd07aad95b",
   "metadata": {},
   "outputs": [],
   "source": [
    "data = data_builder.build(df)"
   ]
  },
  {
   "cell_type": "code",
   "execution_count": 60,
   "id": "17bbcf53-301f-49f2-b0d5-02e40e70e9ae",
   "metadata": {},
   "outputs": [],
   "source": [
    "solver = DualSolver(distance='entropic', data=data)"
   ]
  },
  {
   "cell_type": "code",
   "execution_count": 61,
   "id": "1e62bbbe-a24c-4056-8219-aaf30a863fe7",
   "metadata": {},
   "outputs": [],
   "source": [
    "df_exp = solver.solve()"
   ]
  },
  {
   "cell_type": "code",
   "execution_count": 62,
   "id": "5e47f1c7-df93-4cd7-a9f8-dc35355c5703",
   "metadata": {},
   "outputs": [
    {
     "data": {
      "text/plain": [
       " message: Optimization terminated successfully.\n",
       " success: True\n",
       "  status: 0\n",
       "     fun: 150.769985560086\n",
       "       x: [-4.606e-02 -9.942e-03 ...  2.921e-02  3.609e-02]\n",
       "     nit: 8\n",
       "     jac: [-8.534e-06  5.736e-07 ...  2.122e-05  1.035e-05]\n",
       "    nfev: 9\n",
       "    njev: 9\n",
       "    nhev: 8"
      ]
     },
     "execution_count": 62,
     "metadata": {},
     "output_type": "execute_result"
    }
   ],
   "source": [
    "solver.result"
   ]
  },
  {
   "cell_type": "markdown",
   "id": "e2febc65-bac8-465d-a0dd-91c29dbd7ef0",
   "metadata": {},
   "source": [
    "Check if margins are respected."
   ]
  },
  {
   "cell_type": "code",
   "execution_count": 63,
   "id": "f018b422-c24f-4f31-a459-ae2db4230783",
   "metadata": {},
   "outputs": [
    {
     "name": "stdout",
     "output_type": "stream",
     "text": [
      "True True True\n"
     ]
    }
   ],
   "source": [
    "sum_over_var1 = (\n",
    "    df_exp.groupby(['var2', 'var3'])\n",
    "    .agg({'soln': 'sum'})\n",
    "    .reset_index()\n",
    "    .merge(example_3D.df_margins_1, on=['var2', 'var3'])\n",
    ")\n",
    "sum_over_var2 = (\n",
    "    df_exp.groupby(['var1', 'var3'])\n",
    "    .agg({'soln': 'sum'})\n",
    "    .reset_index()\n",
    "    .merge(example_3D.df_margins_2, on=['var1', 'var3'])\n",
    ")\n",
    "sum_over_var3 = (\n",
    "    df_exp.groupby(['var1', 'var2'])\n",
    "    .agg({'soln': 'sum'})\n",
    "    .reset_index()\n",
    "    .merge(example_3D.df_margins_3, on=['var1', 'var2'])\n",
    ")\n",
    "print(\n",
    "    np.allclose(\n",
    "        sum_over_var1['soln'], sum_over_var1['value']\n",
    "    ),\n",
    "    np.allclose(\n",
    "        sum_over_var2['soln'], sum_over_var2['value']\n",
    "    ),\n",
    "    np.allclose(\n",
    "        sum_over_var3['soln'], sum_over_var3['value']\n",
    "    ),\n",
    ")"
   ]
  },
  {
   "cell_type": "markdown",
   "id": "6bf91249-bab7-4e83-a244-b486b958381c",
   "metadata": {},
   "source": [
    "Create data frame for plotting."
   ]
  },
  {
   "cell_type": "code",
   "execution_count": 64,
   "id": "9d645c6c-d855-4343-b204-ad371b9af863",
   "metadata": {},
   "outputs": [],
   "source": [
    "df_raked['version'] = 'current'\n",
    "df_exp['version'] = 'experimental'"
   ]
  },
  {
   "cell_type": "code",
   "execution_count": 65,
   "id": "79137282-5635-4c88-a877-c475cf95165b",
   "metadata": {},
   "outputs": [],
   "source": [
    "df_exp = df_exp.merge(df, how='inner', on=['var1', 'var2', 'var3'])\n",
    "df_exp = df_exp.drop(columns=['weights']).rename(columns={'soln': 'raked_value'})"
   ]
  },
  {
   "cell_type": "code",
   "execution_count": 66,
   "id": "e849ae49-7cd7-4c78-af85-8a4f0acd83ac",
   "metadata": {},
   "outputs": [],
   "source": [
    "df_comp = pd.concat([df_raked, df_exp])"
   ]
  },
  {
   "cell_type": "markdown",
   "id": "836ad8d1-688c-4993-a211-41483a914a64",
   "metadata": {},
   "source": [
    "Plot."
   ]
  },
  {
   "cell_type": "code",
   "execution_count": 67,
   "id": "e41bfb8e-bba2-445c-a703-76cbcfc98c5e",
   "metadata": {},
   "outputs": [],
   "source": [
    "min_value = min(df_comp['raked_value'].min(), df_comp['value'].min())\n",
    "max_value = max(df_comp['raked_value'].max(), df_comp['value'].max())\n",
    "\n",
    "x1, x2 = alt.param(value=min_value), alt.param(value=max_value)\n",
    "y1, y2 = alt.param(value=min_value), alt.param(value=max_value)\n",
    "line = alt.Chart().mark_rule(color='grey').encode(\n",
    "    x=alt.datum(x1, type='quantitative'),\n",
    "    x2=alt.datum(x2, type='quantitative'),\n",
    "    y=alt.datum(y1, type='quantitative'),\n",
    "    y2=alt.datum(y2, type='quantitative')\n",
    ").add_params(x1, x2, y1, y2)\n",
    "\n",
    "mx = alt.Chart().mark_point(size=80, filled=True).encode(\n",
    "        x=alt.X('value:Q', axis=alt.Axis(title='Observations'), scale=alt.Scale(domain=[x1, x2])),\n",
    "        y=alt.Y('raked_value:Q', axis=alt.Axis(title='Raked values'), scale=alt.Scale(domain=[y1, y2])),\n",
    "        color=alt.Color('version:N', legend=alt.Legend(title='Version')),\n",
    "        shape=alt.Shape('version:N', legend=alt.Legend(title='Version'))\n",
    "    )\n",
    "chart = alt.layer(line, mx, data=df_comp).configure_axis(\n",
    "        labelFontSize=18,\n",
    "        titleFontSize=18\n",
    "    ).configure_legend(\n",
    "        labelFontSize=12,\n",
    "        titleFontSize=12\n",
    "    )"
   ]
  },
  {
   "cell_type": "code",
   "execution_count": 68,
   "id": "fdfa1b51-ec81-4454-8565-a877bfe64c03",
   "metadata": {},
   "outputs": [
    {
     "data": {
      "text/html": [
       "\n",
       "<style>\n",
       "  #altair-viz-b914a2e1f5104e658c778e13e0e828c0.vega-embed {\n",
       "    width: 100%;\n",
       "    display: flex;\n",
       "  }\n",
       "\n",
       "  #altair-viz-b914a2e1f5104e658c778e13e0e828c0.vega-embed details,\n",
       "  #altair-viz-b914a2e1f5104e658c778e13e0e828c0.vega-embed details summary {\n",
       "    position: relative;\n",
       "  }\n",
       "</style>\n",
       "<div id=\"altair-viz-b914a2e1f5104e658c778e13e0e828c0\"></div>\n",
       "<script type=\"text/javascript\">\n",
       "  var VEGA_DEBUG = (typeof VEGA_DEBUG == \"undefined\") ? {} : VEGA_DEBUG;\n",
       "  (function(spec, embedOpt){\n",
       "    let outputDiv = document.currentScript.previousElementSibling;\n",
       "    if (outputDiv.id !== \"altair-viz-b914a2e1f5104e658c778e13e0e828c0\") {\n",
       "      outputDiv = document.getElementById(\"altair-viz-b914a2e1f5104e658c778e13e0e828c0\");\n",
       "    }\n",
       "\n",
       "    const paths = {\n",
       "      \"vega\": \"https://cdn.jsdelivr.net/npm/vega@5?noext\",\n",
       "      \"vega-lib\": \"https://cdn.jsdelivr.net/npm/vega-lib?noext\",\n",
       "      \"vega-lite\": \"https://cdn.jsdelivr.net/npm/vega-lite@5.20.1?noext\",\n",
       "      \"vega-embed\": \"https://cdn.jsdelivr.net/npm/vega-embed@6?noext\",\n",
       "    };\n",
       "\n",
       "    function maybeLoadScript(lib, version) {\n",
       "      var key = `${lib.replace(\"-\", \"\")}_version`;\n",
       "      return (VEGA_DEBUG[key] == version) ?\n",
       "        Promise.resolve(paths[lib]) :\n",
       "        new Promise(function(resolve, reject) {\n",
       "          var s = document.createElement('script');\n",
       "          document.getElementsByTagName(\"head\")[0].appendChild(s);\n",
       "          s.async = true;\n",
       "          s.onload = () => {\n",
       "            VEGA_DEBUG[key] = version;\n",
       "            return resolve(paths[lib]);\n",
       "          };\n",
       "          s.onerror = () => reject(`Error loading script: ${paths[lib]}`);\n",
       "          s.src = paths[lib];\n",
       "        });\n",
       "    }\n",
       "\n",
       "    function showError(err) {\n",
       "      outputDiv.innerHTML = `<div class=\"error\" style=\"color:red;\">${err}</div>`;\n",
       "      throw err;\n",
       "    }\n",
       "\n",
       "    function displayChart(vegaEmbed) {\n",
       "      vegaEmbed(outputDiv, spec, embedOpt)\n",
       "        .catch(err => showError(`Javascript Error: ${err.message}<br>This usually means there's a typo in your chart specification. See the javascript console for the full traceback.`));\n",
       "    }\n",
       "\n",
       "    if(typeof define === \"function\" && define.amd) {\n",
       "      requirejs.config({paths});\n",
       "      let deps = [\"vega-embed\"];\n",
       "      require(deps, displayChart, err => showError(`Error loading script: ${err.message}`));\n",
       "    } else {\n",
       "      maybeLoadScript(\"vega\", \"5\")\n",
       "        .then(() => maybeLoadScript(\"vega-lite\", \"5.20.1\"))\n",
       "        .then(() => maybeLoadScript(\"vega-embed\", \"6\"))\n",
       "        .catch(showError)\n",
       "        .then(() => displayChart(vegaEmbed));\n",
       "    }\n",
       "  })({\"config\": {\"view\": {\"continuousWidth\": 300, \"continuousHeight\": 300}, \"axis\": {\"labelFontSize\": 18, \"titleFontSize\": 18}, \"legend\": {\"labelFontSize\": 12, \"titleFontSize\": 12}}, \"layer\": [{\"mark\": {\"type\": \"rule\", \"color\": \"grey\"}, \"encoding\": {\"x\": {\"type\": \"quantitative\", \"datum\": {\"expr\": \"param_9\"}}, \"x2\": {\"datum\": {\"expr\": \"param_10\"}, \"type\": \"quantitative\"}, \"y\": {\"type\": \"quantitative\", \"datum\": {\"expr\": \"param_11\"}}, \"y2\": {\"datum\": {\"expr\": \"param_12\"}, \"type\": \"quantitative\"}}}, {\"mark\": {\"type\": \"point\", \"filled\": true, \"size\": 80}, \"encoding\": {\"color\": {\"field\": \"version\", \"legend\": {\"title\": \"Version\"}, \"type\": \"nominal\"}, \"shape\": {\"field\": \"version\", \"legend\": {\"title\": \"Version\"}, \"type\": \"nominal\"}, \"x\": {\"axis\": {\"title\": \"Observations\"}, \"field\": \"value\", \"scale\": {\"domain\": [{\"expr\": \"param_9\"}, {\"expr\": \"param_10\"}]}, \"type\": \"quantitative\"}, \"y\": {\"axis\": {\"title\": \"Raked values\"}, \"field\": \"raked_value\", \"scale\": {\"domain\": [{\"expr\": \"param_11\"}, {\"expr\": \"param_12\"}]}, \"type\": \"quantitative\"}}}], \"data\": {\"name\": \"data-feb4cfa689211570f87d29bc748ad73f\"}, \"params\": [{\"name\": \"param_9\", \"value\": 1.9113394803681765}, {\"name\": \"param_10\", \"value\": 2.9934439520091387}, {\"name\": \"param_11\", \"value\": 1.9113394803681765}, {\"name\": \"param_12\", \"value\": 2.9934439520091387}], \"$schema\": \"https://vega.github.io/schema/vega-lite/v5.20.1.json\", \"datasets\": {\"data-feb4cfa689211570f87d29bc748ad73f\": [{\"value\": 2.593318162607132, \"var1\": 0, \"var2\": 0, \"var3\": 0, \"raked_value\": 2.650591140729791, \"version\": \"current\"}, {\"value\": 1.9113394803681765, \"var1\": 1, \"var2\": 0, \"var3\": 0, \"raked_value\": 1.9148264322455548, \"version\": \"current\"}, {\"value\": 2.7454666184427743, \"var1\": 2, \"var2\": 0, \"var3\": 0, \"raked_value\": 2.6713936162125553, \"version\": \"current\"}, {\"value\": 2.863164504433507, \"var1\": 0, \"var2\": 1, \"var3\": 0, \"raked_value\": 2.938916501816928, \"version\": \"current\"}, {\"value\": 2.416574517207904, \"var1\": 1, \"var2\": 1, \"var3\": 0, \"raked_value\": 2.4474929212071395, \"version\": \"current\"}, {\"value\": 2.8644170974574, \"var1\": 2, \"var2\": 1, \"var3\": 0, \"raked_value\": 2.800298060511515, \"version\": \"current\"}, {\"value\": 2.9742008420017445, \"var1\": 0, \"var2\": 2, \"var3\": 0, \"raked_value\": 2.8794126925336125, \"version\": \"current\"}, {\"value\": 2.820482829279124, \"var1\": 1, \"var2\": 2, \"var3\": 0, \"raked_value\": 2.6913919159525834, \"version\": \"current\"}, {\"value\": 2.850433569771175, \"var1\": 2, \"var2\": 2, \"var3\": 0, \"raked_value\": 2.7205939837149065, \"version\": \"current\"}, {\"value\": 1.955304632537894, \"var1\": 0, \"var2\": 3, \"var3\": 0, \"raked_value\": 2.072306104233558, \"version\": \"current\"}, {\"value\": 2.3154447729849443, \"var1\": 1, \"var2\": 3, \"var3\": 0, \"raked_value\": 2.3569745621323897, \"version\": \"current\"}, {\"value\": 2.2186480859724926, \"var1\": 2, \"var2\": 3, \"var3\": 0, \"raked_value\": 2.2068962966936168, \"version\": \"current\"}, {\"value\": 2.3701828713480873, \"var1\": 0, \"var2\": 0, \"var3\": 1, \"raked_value\": 2.3254383578231708, \"version\": \"current\"}, {\"value\": 2.0624925720288037, \"var1\": 1, \"var2\": 0, \"var3\": 1, \"raked_value\": 2.0063404032361403, \"version\": \"current\"}, {\"value\": 2.5040705274087744, \"var1\": 2, \"var2\": 0, \"var3\": 1, \"raked_value\": 2.38416062031894, \"version\": \"current\"}, {\"value\": 2.4745926787658505, \"var1\": 0, \"var2\": 1, \"var3\": 1, \"raked_value\": 2.532128010929616, \"version\": \"current\"}, {\"value\": 2.9310571336076894, \"var1\": 1, \"var2\": 1, \"var3\": 1, \"raked_value\": 2.9934439520091387, \"version\": \"current\"}, {\"value\": 2.320662592344782, \"var1\": 2, \"var2\": 1, \"var3\": 1, \"raked_value\": 2.3054313421417247, \"version\": \"current\"}, {\"value\": 2.007643961552679, \"var1\": 0, \"var2\": 2, \"var3\": 1, \"raked_value\": 1.941051441274392, \"version\": \"current\"}, {\"value\": 2.5891606823436293, \"var1\": 1, \"var2\": 2, \"var3\": 1, \"raked_value\": 2.4958232095499326, \"version\": \"current\"}, {\"value\": 2.2582213622441984, \"var1\": 2, \"var2\": 2, \"var3\": 1, \"raked_value\": 2.194154716284955, \"version\": \"current\"}, {\"value\": 2.799859513330664, \"var1\": 0, \"var2\": 3, \"var3\": 1, \"raked_value\": 2.9437221020310576, \"version\": \"current\"}, {\"value\": 2.448079008308508, \"var1\": 1, \"var2\": 3, \"var3\": 1, \"raked_value\": 2.5006424303200627, \"version\": \"current\"}, {\"value\": 2.3412247548873673, \"var1\": 2, \"var2\": 3, \"var3\": 1, \"raked_value\": 2.3549891154953566, \"version\": \"current\"}, {\"value\": 1.9132055072975336, \"var1\": 0, \"var2\": 0, \"var3\": 2, \"raked_value\": 1.9637208750638089, \"version\": \"current\"}, {\"value\": 2.733665563770453, \"var1\": 1, \"var2\": 0, \"var3\": 2, \"raked_value\": 2.734635021849689, \"version\": \"current\"}, {\"value\": 2.652416611440977, \"var1\": 2, \"var2\": 0, \"var3\": 2, \"raked_value\": 2.6075420719185014, \"version\": \"current\"}, {\"value\": 2.85895244292811, \"var1\": 0, \"var2\": 1, \"var3\": 2, \"raked_value\": 2.841454075754803, \"version\": \"current\"}, {\"value\": 2.905374759650237, \"var1\": 1, \"var2\": 1, \"var3\": 2, \"raked_value\": 2.8330053080802062, \"version\": \"current\"}, {\"value\": 2.79209788993041, \"var1\": 2, \"var2\": 1, \"var3\": 2, \"raked_value\": 2.6590596606099037, \"version\": \"current\"}, {\"value\": 2.8286655058067027, \"var1\": 0, \"var2\": 2, \"var3\": 2, \"raked_value\": 2.822683927799507, \"version\": \"current\"}, {\"value\": 2.29253733290687, \"var1\": 1, \"var2\": 2, \"var3\": 2, \"raked_value\": 2.242064724158892, \"version\": \"current\"}, {\"value\": 2.8332056460924444, \"var1\": 2, \"var2\": 2, \"var3\": 2, \"raked_value\": 2.8042363604634266, \"version\": \"current\"}, {\"value\": 2.467912891014864, \"var1\": 0, \"var2\": 3, \"var3\": 2, \"raked_value\": 2.541476703145689, \"version\": \"current\"}, {\"value\": 2.9144663715048673, \"var1\": 1, \"var2\": 3, \"var3\": 2, \"raked_value\": 2.8663390387641567, \"version\": \"current\"}, {\"value\": 2.8994695787742413, \"var1\": 2, \"var2\": 3, \"var3\": 2, \"raked_value\": 2.8194575829810997, \"version\": \"current\"}, {\"value\": 2.0326285932000636, \"var1\": 0, \"var2\": 0, \"var3\": 3, \"raked_value\": 2.1275223827402026, \"version\": \"current\"}, {\"value\": 2.5886366291619165, \"var1\": 1, \"var2\": 0, \"var3\": 3, \"raked_value\": 2.6782214213974487, \"version\": \"current\"}, {\"value\": 2.2037892540994664, \"var1\": 2, \"var2\": 0, \"var3\": 3, \"raked_value\": 2.195884568475328, \"version\": \"current\"}, {\"value\": 2.4034729699736803, \"var1\": 0, \"var2\": 1, \"var3\": 3, \"raked_value\": 2.439649920860194, \"version\": \"current\"}, {\"value\": 2.7358102694681814, \"var1\": 1, \"var2\": 1, \"var3\": 3, \"raked_value\": 2.763180074154257, \"version\": \"current\"}, {\"value\": 2.1829866469109653, \"var1\": 2, \"var2\": 1, \"var3\": 3, \"raked_value\": 2.110352324507315, \"version\": \"current\"}, {\"value\": 2.017156116042935, \"var1\": 0, \"var2\": 2, \"var3\": 3, \"raked_value\": 2.04193886856696, \"version\": \"current\"}, {\"value\": 2.614051854371238, \"var1\": 1, \"var2\": 2, \"var3\": 3, \"raked_value\": 2.630219063508202, \"version\": \"current\"}, {\"value\": 2.1458722500673653, \"var1\": 2, \"var2\": 2, \"var3\": 3, \"raked_value\": 2.141484018259856, \"version\": \"current\"}, {\"value\": 2.171672496065927, \"var1\": 0, \"var2\": 3, \"var3\": 3, \"raked_value\": 2.284338920671503, \"version\": \"current\"}, {\"value\": 2.862736706450322, \"var1\": 1, \"var2\": 3, \"var3\": 3, \"raked_value\": 2.916642793115695, \"version\": \"current\"}, {\"value\": 2.292743994347757, \"var1\": 2, \"var2\": 3, \"var3\": 3, \"raked_value\": 2.2634159016845397, \"version\": \"current\"}, {\"value\": 2.588256121842813, \"var1\": 0, \"var2\": 0, \"var3\": 4, \"raked_value\": 2.71024704339623, \"version\": \"current\"}, {\"value\": 2.6540220712378844, \"var1\": 1, \"var2\": 0, \"var3\": 4, \"raked_value\": 2.7517787066647754, \"version\": \"current\"}, {\"value\": 2.3334549168872107, \"var1\": 2, \"var2\": 0, \"var3\": 4, \"raked_value\": 2.3582486011155503, \"version\": \"current\"}, {\"value\": 2.9460003935355497, \"var1\": 0, \"var2\": 1, \"var3\": 4, \"raked_value\": 2.9754368199170926, \"version\": \"current\"}, {\"value\": 2.642889123645734, \"var1\": 1, \"var2\": 1, \"var3\": 4, \"raked_value\": 2.6606018341240314, \"version\": \"current\"}, {\"value\": 2.852855587157794, \"var1\": 2, \"var2\": 1, \"var3\": 4, \"raked_value\": 2.782137193691142, \"version\": \"current\"}, {\"value\": 2.7990726401006447, \"var1\": 0, \"var2\": 2, \"var3\": 4, \"raked_value\": 2.7541504224355795, \"version\": \"current\"}, {\"value\": 2.4495173473858847, \"var1\": 1, \"var2\": 2, \"var3\": 4, \"raked_value\": 2.3998084090680494, \"version\": \"current\"}, {\"value\": 2.478215262776852, \"var1\": 2, \"var2\": 2, \"var3\": 4, \"raked_value\": 2.43716799793891, \"version\": \"current\"}, {\"value\": 2.4952966000924346, \"var1\": 0, \"var2\": 3, \"var3\": 4, \"raked_value\": 2.460851044851427, \"version\": \"current\"}, {\"value\": 2.442168462939397, \"var1\": 1, \"var2\": 3, \"var3\": 4, \"raked_value\": 2.3368049570771663, \"version\": \"current\"}, {\"value\": 2.168507699175513, \"var1\": 2, \"var2\": 3, \"var3\": 4, \"raked_value\": 2.0348477170414108, \"version\": \"current\"}, {\"value\": 2.593318162607132, \"var1\": 0, \"var2\": 0, \"var3\": 0, \"raked_value\": 2.6505911793163732, \"version\": \"experimental\"}, {\"value\": 2.3701828713480873, \"var1\": 0, \"var2\": 0, \"var3\": 1, \"raked_value\": 2.3254384022551853, \"version\": \"experimental\"}, {\"value\": 1.9132055072975336, \"var1\": 0, \"var2\": 0, \"var3\": 2, \"raked_value\": 1.9637209002406486, \"version\": \"experimental\"}, {\"value\": 2.0326285932000636, \"var1\": 0, \"var2\": 0, \"var3\": 3, \"raked_value\": 2.127522407637324, \"version\": \"experimental\"}, {\"value\": 2.588256121842813, \"var1\": 0, \"var2\": 0, \"var3\": 4, \"raked_value\": 2.7102464169440905, \"version\": \"experimental\"}, {\"value\": 2.863164504433507, \"var1\": 0, \"var2\": 1, \"var3\": 0, \"raked_value\": 2.9389164966422716, \"version\": \"experimental\"}, {\"value\": 2.4745926787658505, \"var1\": 0, \"var2\": 1, \"var3\": 1, \"raked_value\": 2.5321280387101868, \"version\": \"experimental\"}, {\"value\": 2.85895244292811, \"var1\": 0, \"var2\": 1, \"var3\": 2, \"raked_value\": 2.841454173946832, \"version\": \"experimental\"}, {\"value\": 2.4034729699736803, \"var1\": 0, \"var2\": 1, \"var3\": 3, \"raked_value\": 2.4396499684109245, \"version\": \"experimental\"}, {\"value\": 2.9460003935355497, \"var1\": 0, \"var2\": 1, \"var3\": 4, \"raked_value\": 2.9754363581729795, \"version\": \"experimental\"}, {\"value\": 2.9742008420017445, \"var1\": 0, \"var2\": 2, \"var3\": 0, \"raked_value\": 2.879412771834354, \"version\": \"experimental\"}, {\"value\": 2.007643961552679, \"var1\": 0, \"var2\": 2, \"var3\": 1, \"raked_value\": 1.9410514355947288, \"version\": \"experimental\"}, {\"value\": 2.8286655058067027, \"var1\": 0, \"var2\": 2, \"var3\": 2, \"raked_value\": 2.8226838917615575, \"version\": \"experimental\"}, {\"value\": 2.017156116042935, \"var1\": 0, \"var2\": 2, \"var3\": 3, \"raked_value\": 2.0419389055213335, \"version\": \"experimental\"}, {\"value\": 2.7990726401006447, \"var1\": 0, \"var2\": 2, \"var3\": 4, \"raked_value\": 2.75415002866445, \"version\": \"experimental\"}, {\"value\": 1.955304632537894, \"var1\": 0, \"var2\": 3, \"var3\": 0, \"raked_value\": 2.072305878906305, \"version\": \"experimental\"}, {\"value\": 2.799859513330664, \"var1\": 0, \"var2\": 3, \"var3\": 1, \"raked_value\": 2.9437220192181357, \"version\": \"experimental\"}, {\"value\": 2.467912891014864, \"var1\": 0, \"var2\": 3, \"var3\": 2, \"raked_value\": 2.541476572901523, \"version\": \"experimental\"}, {\"value\": 2.171672496065927, \"var1\": 0, \"var2\": 3, \"var3\": 3, \"raked_value\": 2.2843388197950696, \"version\": \"experimental\"}, {\"value\": 2.4952966000924346, \"var1\": 0, \"var2\": 3, \"var3\": 4, \"raked_value\": 2.460851334107453, \"version\": \"experimental\"}, {\"value\": 1.9113394803681765, \"var1\": 1, \"var2\": 0, \"var3\": 0, \"raked_value\": 1.9148265014446557, \"version\": \"experimental\"}, {\"value\": 2.0624925720288037, \"var1\": 1, \"var2\": 0, \"var3\": 1, \"raked_value\": 2.006340346392522, \"version\": \"experimental\"}, {\"value\": 2.733665563770453, \"var1\": 1, \"var2\": 0, \"var3\": 2, \"raked_value\": 2.7346350716080594, \"version\": \"experimental\"}, {\"value\": 2.5886366291619165, \"var1\": 1, \"var2\": 0, \"var3\": 3, \"raked_value\": 2.678221447919406, \"version\": \"experimental\"}, {\"value\": 2.6540220712378844, \"var1\": 1, \"var2\": 0, \"var3\": 4, \"raked_value\": 2.751778217985306, \"version\": \"experimental\"}, {\"value\": 2.416574517207904, \"var1\": 1, \"var2\": 1, \"var3\": 0, \"raked_value\": 2.4474929785150517, \"version\": \"experimental\"}, {\"value\": 2.9310571336076894, \"var1\": 1, \"var2\": 1, \"var3\": 1, \"raked_value\": 2.993443853606058, \"version\": \"experimental\"}, {\"value\": 2.905374759650237, \"var1\": 1, \"var2\": 1, \"var3\": 2, \"raked_value\": 2.833005431390805, \"version\": \"experimental\"}, {\"value\": 2.7358102694681814, \"var1\": 1, \"var2\": 1, \"var3\": 3, \"raked_value\": 2.7631801329714634, \"version\": \"experimental\"}, {\"value\": 2.642889123645734, \"var1\": 1, \"var2\": 1, \"var3\": 4, \"raked_value\": 2.6606015732914914, \"version\": \"experimental\"}, {\"value\": 2.820482829279124, \"var1\": 1, \"var2\": 2, \"var3\": 0, \"raked_value\": 2.6913920424047073, \"version\": \"experimental\"}, {\"value\": 2.5891606823436293, \"var1\": 1, \"var2\": 2, \"var3\": 1, \"raked_value\": 2.495823078512876, \"version\": \"experimental\"}, {\"value\": 2.29253733290687, \"var1\": 1, \"var2\": 2, \"var3\": 2, \"raked_value\": 2.242064702791642, \"version\": \"experimental\"}, {\"value\": 2.614051854371238, \"var1\": 1, \"var2\": 2, \"var3\": 3, \"raked_value\": 2.630219100753627, \"version\": \"experimental\"}, {\"value\": 2.4495173473858847, \"var1\": 1, \"var2\": 2, \"var3\": 4, \"raked_value\": 2.399808189351362, \"version\": \"experimental\"}, {\"value\": 2.3154447729849443, \"var1\": 1, \"var2\": 3, \"var3\": 0, \"raked_value\": 2.3569743910403433, \"version\": \"experimental\"}, {\"value\": 2.448079008308508, \"var1\": 1, \"var2\": 3, \"var3\": 1, \"raked_value\": 2.5006422777586237, \"version\": \"experimental\"}, {\"value\": 2.9144663715048673, \"var1\": 1, \"var2\": 3, \"var3\": 2, \"raked_value\": 2.8663389490169884, \"version\": \"experimental\"}, {\"value\": 2.862736706450322, \"var1\": 1, \"var2\": 3, \"var3\": 3, \"raked_value\": 2.9166427015403706, \"version\": \"experimental\"}, {\"value\": 2.442168462939397, \"var1\": 1, \"var2\": 3, \"var3\": 4, \"raked_value\": 2.3368053909295514, \"version\": \"experimental\"}, {\"value\": 2.7454666184427743, \"var1\": 2, \"var2\": 0, \"var3\": 0, \"raked_value\": 2.6713937231026645, \"version\": \"experimental\"}, {\"value\": 2.5040705274087744, \"var1\": 2, \"var2\": 0, \"var3\": 1, \"raked_value\": 2.3841606380032294, \"version\": \"experimental\"}, {\"value\": 2.652416611440977, \"var1\": 2, \"var2\": 0, \"var3\": 2, \"raked_value\": 2.6075421544671844, \"version\": \"experimental\"}, {\"value\": 2.2037892540994664, \"var1\": 2, \"var2\": 0, \"var3\": 3, \"raked_value\": 2.195884570886263, \"version\": \"experimental\"}, {\"value\": 2.3334549168872107, \"var1\": 2, \"var2\": 0, \"var3\": 4, \"raked_value\": 2.3582481559531545, \"version\": \"experimental\"}, {\"value\": 2.8644170974574, \"var1\": 2, \"var2\": 1, \"var3\": 0, \"raked_value\": 2.8002981196503383, \"version\": \"experimental\"}, {\"value\": 2.320662592344782, \"var1\": 2, \"var2\": 1, \"var3\": 1, \"raked_value\": 2.3054313345477726, \"version\": \"experimental\"}, {\"value\": 2.79209788993041, \"var1\": 2, \"var2\": 1, \"var3\": 2, \"raked_value\": 2.659059795737996, \"version\": \"experimental\"}, {\"value\": 2.1829866469109653, \"var1\": 2, \"var2\": 1, \"var3\": 3, \"raked_value\": 2.110352337825099, \"version\": \"experimental\"}, {\"value\": 2.852855587157794, \"var1\": 2, \"var2\": 1, \"var3\": 4, \"raked_value\": 2.7821368726684046, \"version\": \"experimental\"}, {\"value\": 2.850433569771175, \"var1\": 2, \"var2\": 2, \"var3\": 0, \"raked_value\": 2.7205941249437404, \"version\": \"experimental\"}, {\"value\": 2.2582213622441984, \"var1\": 2, \"var2\": 2, \"var3\": 1, \"raked_value\": 2.194154681836038, \"version\": \"experimental\"}, {\"value\": 2.8332056460924444, \"var1\": 2, \"var2\": 2, \"var3\": 2, \"raked_value\": 2.804236374441721, \"version\": \"experimental\"}, {\"value\": 2.1458722500673653, \"var1\": 2, \"var2\": 2, \"var3\": 3, \"raked_value\": 2.141484031983591, \"version\": \"experimental\"}, {\"value\": 2.478215262776852, \"var1\": 2, \"var2\": 2, \"var3\": 4, \"raked_value\": 2.4371677501165503, \"version\": \"experimental\"}, {\"value\": 2.2186480859724926, \"var1\": 2, \"var2\": 3, \"var3\": 0, \"raked_value\": 2.206896142497731, \"version\": \"experimental\"}, {\"value\": 2.3412247548873673, \"var1\": 2, \"var2\": 3, \"var3\": 1, \"raked_value\": 2.3549890532903914, \"version\": \"experimental\"}, {\"value\": 2.8994695787742413, \"var1\": 2, \"var2\": 3, \"var3\": 2, \"raked_value\": 2.819457529402088, \"version\": \"experimental\"}, {\"value\": 2.292743994347757, \"var1\": 2, \"var2\": 3, \"var3\": 3, \"raked_value\": 2.263415808076401, \"version\": \"experimental\"}, {\"value\": 2.168507699175513, \"var1\": 2, \"var2\": 3, \"var3\": 4, \"raked_value\": 2.0348480697302107, \"version\": \"experimental\"}]}}, {\"mode\": \"vega-lite\"});\n",
       "</script>"
      ],
      "text/plain": [
       "alt.LayerChart(...)"
      ]
     },
     "execution_count": 68,
     "metadata": {},
     "output_type": "execute_result"
    }
   ],
   "source": [
    "chart"
   ]
  },
  {
   "cell_type": "markdown",
   "id": "06d2cec3-99e2-4b07-84e5-74ea77dea34b",
   "metadata": {},
   "source": [
    "Sort values and compare."
   ]
  },
  {
   "cell_type": "code",
   "execution_count": 69,
   "id": "599e1b25-deba-4ffe-a5cb-da2ac8e6c119",
   "metadata": {},
   "outputs": [
    {
     "data": {
      "text/plain": [
       "[<matplotlib.lines.Line2D at 0x145cfed20>]"
      ]
     },
     "execution_count": 69,
     "metadata": {},
     "output_type": "execute_result"
    },
    {
     "data": {
      "image/png": "[encoded data removed]",
      "text/plain": [
       "<Figure size 640x480 with 1 Axes>"
      ]
     },
     "metadata": {},
     "output_type": "display_data"
    }
   ],
   "source": [
    "current = df_raked.sort_values(by=['var1', 'var2', 'var3']).raked_value.to_numpy()\n",
    "experimental = df_exp.sort_values(by=['var1', 'var2', 'var3']).raked_value.to_numpy()\n",
    "plt.plot(current, current, 'k-')\n",
    "plt.plot(current, experimental, 'ro')"
   ]
  },
  {
   "cell_type": "code",
   "execution_count": 70,
   "id": "6f25438a-31da-4c13-84b1-a064a01ce36d",
   "metadata": {},
   "outputs": [
    {
     "data": {
      "text/plain": [
       "True"
      ]
     },
     "execution_count": 70,
     "metadata": {},
     "output_type": "execute_result"
    }
   ],
   "source": [
    "np.allclose(current, experimental)"
   ]
  },
  {
   "cell_type": "markdown",
   "id": "8515b650-cc02-4d65-8a7d-b44f4a6fcd90",
   "metadata": {},
   "source": [
    "## USHD example"
   ]
  },
  {
   "cell_type": "markdown",
   "id": "4e9c9d18-a03a-454c-afd7-f0386654acee",
   "metadata": {},
   "source": [
    "Current version of the code."
   ]
  },
  {
   "cell_type": "code",
   "execution_count": 71,
   "id": "70820c38-61d4-49bb-9a91-daabc3607066",
   "metadata": {},
   "outputs": [],
   "source": [
    "example_USHD = ExampleUSHD()"
   ]
  },
  {
   "cell_type": "code",
   "execution_count": 72,
   "id": "c3821a0e-d1be-4c14-8c4b-b7826fd2e909",
   "metadata": {},
   "outputs": [],
   "source": [
    "(df_raked, Dphi_y, Dphi_s, sigma) = run_raking(\n",
    "    dim='USHD',\n",
    "    df_obs=example_USHD.df_obs,\n",
    "    df_margins=[example_USHD.df_margins],\n",
    "    var_names=None,\n",
    "    method='entropic',\n",
    "    cov_mat=False)"
   ]
  },
  {
   "cell_type": "markdown",
   "id": "5c63794d-9054-46ae-bb23-f6f01bceb6b9",
   "metadata": {},
   "source": [
    "Check if margins are respected."
   ]
  },
  {
   "cell_type": "code",
   "execution_count": 73,
   "id": "071df759-d451-4b08-aafc-eb5f95c21c28",
   "metadata": {},
   "outputs": [
    {
     "data": {
      "text/plain": [
       "True"
      ]
     },
     "execution_count": 73,
     "metadata": {},
     "output_type": "execute_result"
    }
   ],
   "source": [
    "sum_over_race_county = (\n",
    "    df_raked.loc[df_raked.race != 0].groupby(['cause'])\n",
    "    .agg({'raked_value': 'sum'})\n",
    "    .reset_index()\n",
    "    .merge(example_USHD.df_margins, on=['cause'])\n",
    "    )\n",
    "np.allclose(\n",
    "    sum_over_race_county['raked_value'],\n",
    "    sum_over_race_county['value_agg_over_race_county'],\n",
    "    atol=1.0e-5,\n",
    ")"
   ]
  },
  {
   "cell_type": "markdown",
   "id": "b06808c2-bd09-4fe8-8911-d0be23a3d182",
   "metadata": {},
   "source": [
    "Rename values for merging with experimental results."
   ]
  },
  {
   "cell_type": "code",
   "execution_count": 74,
   "id": "096c37ac-801a-43f0-bf64-48478cf218bc",
   "metadata": {},
   "outputs": [],
   "source": [
    "df_raked.replace({'cause': '_all', 'race': 0}, -1, inplace=True)\n",
    "df_raked.drop(columns=['upper'], inplace=True)\n",
    "df_raked.replace({'cause': {'_comm': 1, '_inj': 2, '_ncd': 3}}, inplace=True)"
   ]
  },
  {
   "cell_type": "markdown",
   "id": "8556f02d-799c-412d-b8e7-5aa38f91554c",
   "metadata": {},
   "source": [
    "Experimental version of the code."
   ]
  },
  {
   "cell_type": "code",
   "execution_count": 75,
   "id": "ca929e56-6e24-4f8a-a6d7-10ace9e75a14",
   "metadata": {},
   "outputs": [],
   "source": [
    "example_USHD = ExampleUSHD()"
   ]
  },
  {
   "cell_type": "code",
   "execution_count": 76,
   "id": "d1b41c93-d685-4dd2-991b-553522c5fcdd",
   "metadata": {},
   "outputs": [],
   "source": [
    "df_obs = example_USHD.df_obs\n",
    "df_obs['weights'] = 1.0\n",
    "df_obs.replace({'cause': '_all', 'race': 0}, -1, inplace=True)\n",
    "df_obs.drop(columns=['upper'], inplace=True)\n",
    "df_obs.replace({'cause': {'_comm': 1, '_inj': 2, '_ncd': 3}}, inplace=True)"
   ]
  },
  {
   "cell_type": "code",
   "execution_count": 77,
   "id": "3f7212f2-6eec-4da1-bb59-d1c458c607ce",
   "metadata": {},
   "outputs": [],
   "source": [
    "df_margin = example_USHD.df_margins\n",
    "df_margin['race'] = -1\n",
    "df_margin['county'] = -1\n",
    "df_margin['weights'] = np.inf\n",
    "df_margin.rename(columns={'value_agg_over_race_county': 'value'}, inplace=True)\n",
    "df_margin.replace({'cause': {'_all': -1, '_comm': 1, '_inj': 2, '_ncd': 3}}, inplace=True)"
   ]
  },
  {
   "cell_type": "code",
   "execution_count": 78,
   "id": "a197f86b-d870-4688-899b-b0f5c8e4ca7b",
   "metadata": {},
   "outputs": [],
   "source": [
    "df = pd.concat([df_obs, df_margin])"
   ]
  },
  {
   "cell_type": "code",
   "execution_count": 79,
   "id": "0be1b563-a273-408b-b1b9-4014dce73f23",
   "metadata": {},
   "outputs": [],
   "source": [
    "df = df.astype({'cause': 'int64'})"
   ]
  },
  {
   "cell_type": "code",
   "execution_count": 80,
   "id": "f059a5a5-24e3-4e21-8ced-d6b53b67c6e2",
   "metadata": {},
   "outputs": [],
   "source": [
    "data_builder = DataBuilder(\n",
    "    dim_specs={'cause': -1, 'race': -1, 'county': -1},\n",
    "    value='value',\n",
    "    weights='weights'\n",
    ")"
   ]
  },
  {
   "cell_type": "code",
   "execution_count": 81,
   "id": "c66fdda2-1ef1-479a-b5cf-d60c567393f6",
   "metadata": {},
   "outputs": [
    {
     "name": "stderr",
     "output_type": "stream",
     "text": [
      "/Users/ducela/Documents/Raking/ihmeuw-msca/raking/src/raking/experimental/data.py:231: FutureWarning: The behavior of DataFrame concatenation with empty or all-NA entries is deprecated. In a future version, this will no longer exclude empty or all-NA columns when determining the result dtypes. To retain the old behavior, exclude the relevant entries before the concat operation.\n",
      "  df_i_to_j = pd.concat(\n"
     ]
    }
   ],
   "source": [
    "data = data_builder.build(df)"
   ]
  },
  {
   "cell_type": "code",
   "execution_count": 82,
   "id": "8cd7139d-db67-4d8d-9575-3c540c4618d8",
   "metadata": {},
   "outputs": [],
   "source": [
    "solver = DualSolver(distance='entropic', data=data)"
   ]
  },
  {
   "cell_type": "code",
   "execution_count": 83,
   "id": "44ec2aba-997f-437f-8e8d-129d4a2c19e3",
   "metadata": {},
   "outputs": [],
   "source": [
    "df_exp = solver.solve()"
   ]
  },
  {
   "cell_type": "code",
   "execution_count": 84,
   "id": "190dc242-19e1-49cc-be2d-2f80fcaebca0",
   "metadata": {},
   "outputs": [
    {
     "data": {
      "text/plain": [
       " message: Optimization terminated successfully.\n",
       " success: True\n",
       "  status: 0\n",
       "     fun: 284.8357864265298\n",
       "       x: [ 1.740e-01  1.455e-01 ... -5.936e-02 -2.589e-01]\n",
       "     nit: 10\n",
       "     jac: [-5.704e-07 -1.625e-07 ...  7.660e-06  2.108e-06]\n",
       "    nfev: 11\n",
       "    njev: 11\n",
       "    nhev: 10"
      ]
     },
     "execution_count": 84,
     "metadata": {},
     "output_type": "execute_result"
    }
   ],
   "source": [
    "solver.result"
   ]
  },
  {
   "cell_type": "markdown",
   "id": "9ef708bb-522b-488a-b182-4888eaea82dd",
   "metadata": {},
   "source": [
    "Check if margins are respected."
   ]
  },
  {
   "cell_type": "code",
   "execution_count": 85,
   "id": "733f3b8e-503d-409f-9913-ae4c26ead3df",
   "metadata": {},
   "outputs": [
    {
     "data": {
      "text/plain": [
       "True"
      ]
     },
     "execution_count": 85,
     "metadata": {},
     "output_type": "execute_result"
    }
   ],
   "source": [
    "sum_over_race_county = (\n",
    "    df_exp.groupby(['cause'])\n",
    "    .agg({'soln': 'sum'})\n",
    "    .reset_index()\n",
    "    .merge(df_margin, on=['cause'])\n",
    "    )\n",
    "np.allclose(\n",
    "    sum_over_race_county['soln'],\n",
    "    sum_over_race_county['value'],\n",
    "    atol=1.0e-5,\n",
    ")"
   ]
  },
  {
   "cell_type": "markdown",
   "id": "207ae38e-3a70-4e94-8032-98b5c411311f",
   "metadata": {},
   "source": [
    "Add partial sums to dataset."
   ]
  },
  {
   "cell_type": "code",
   "execution_count": 86,
   "id": "609a2f17-079a-42d8-93c2-0a96d4acd2eb",
   "metadata": {},
   "outputs": [],
   "source": [
    "sum_over_cause = (\n",
    "    df_exp.groupby(['race', 'county'])\n",
    "    .agg({'soln': 'sum'})\n",
    "    .reset_index()\n",
    ")\n",
    "sum_over_cause['cause'] = -1"
   ]
  },
  {
   "cell_type": "code",
   "execution_count": 87,
   "id": "dfd70e00-8432-421d-b3ef-b6f278dc8262",
   "metadata": {},
   "outputs": [],
   "source": [
    "sum_over_race = (\n",
    "    df_exp.groupby(['cause', 'county'])\n",
    "    .agg({'soln': 'sum'})\n",
    "    .reset_index()\n",
    ")\n",
    "sum_over_race['race'] = -1"
   ]
  },
  {
   "cell_type": "code",
   "execution_count": 88,
   "id": "e63c2b9e-21f1-4837-ab48-67b19ae5d7f2",
   "metadata": {},
   "outputs": [],
   "source": [
    "sum_over_cause_race = (\n",
    "    df_exp.groupby(['county'])\n",
    "    .agg({'soln': 'sum'})\n",
    "    .reset_index()\n",
    ")\n",
    "sum_over_cause_race['cause'] = -1\n",
    "sum_over_cause_race['race'] = -1"
   ]
  },
  {
   "cell_type": "code",
   "execution_count": 89,
   "id": "7ffc3144-8e4c-478a-bdfc-cca7c8f7aef2",
   "metadata": {},
   "outputs": [],
   "source": [
    "df_exp = pd.concat([df_exp, sum_over_cause, sum_over_race, sum_over_cause_race])"
   ]
  },
  {
   "cell_type": "markdown",
   "id": "21b6ae58-0974-490a-a7a0-c38c44c2e7f7",
   "metadata": {},
   "source": [
    "Create data frame for plotting."
   ]
  },
  {
   "cell_type": "code",
   "execution_count": 90,
   "id": "52ca9479-985f-4751-957c-752597b68e5d",
   "metadata": {},
   "outputs": [],
   "source": [
    "df_raked['version'] = 'current'\n",
    "df_exp['version'] = 'experimental'"
   ]
  },
  {
   "cell_type": "code",
   "execution_count": 91,
   "id": "f6af2947-321a-49a8-ab32-a6ab33bc75db",
   "metadata": {},
   "outputs": [],
   "source": [
    "df_exp = df_exp.merge(df, how='inner', on=['cause', 'race', 'county'])\n",
    "df_exp = df_exp.drop(columns=['weights']).rename(columns={'soln': 'raked_value'})"
   ]
  },
  {
   "cell_type": "code",
   "execution_count": 92,
   "id": "8f91cec8-d385-4ac9-a31a-f8f27dc12881",
   "metadata": {},
   "outputs": [],
   "source": [
    "df_comp = pd.concat([df_raked, df_exp])"
   ]
  },
  {
   "cell_type": "markdown",
   "id": "d09342bd-2748-4af3-8b77-cdfecaa7acfd",
   "metadata": {},
   "source": [
    "Plot."
   ]
  },
  {
   "cell_type": "code",
   "execution_count": 93,
   "id": "dc068aa4-c8db-4e42-8d5c-9568e0ed77f0",
   "metadata": {},
   "outputs": [],
   "source": [
    "min_value = min(df_comp['raked_value'].min(), df_comp['value'].min())\n",
    "max_value = max(df_comp['raked_value'].max(), df_comp['value'].max())\n",
    "\n",
    "x1, x2 = alt.param(value=min_value), alt.param(value=max_value)\n",
    "y1, y2 = alt.param(value=min_value), alt.param(value=max_value)\n",
    "line = alt.Chart().mark_rule(color='grey').encode(\n",
    "    x=alt.datum(x1, type='quantitative'),\n",
    "    x2=alt.datum(x2, type='quantitative'),\n",
    "    y=alt.datum(y1, type='quantitative'),\n",
    "    y2=alt.datum(y2, type='quantitative')\n",
    ").add_params(x1, x2, y1, y2)\n",
    "\n",
    "mx = alt.Chart().mark_point(size=80, filled=True).encode(\n",
    "        x=alt.X('value:Q', axis=alt.Axis(title='Observations'), scale=alt.Scale(domain=[x1, x2])),\n",
    "        y=alt.Y('raked_value:Q', axis=alt.Axis(title='Raked values'), scale=alt.Scale(domain=[y1, y2])),\n",
    "        color=alt.Color('version:N', legend=alt.Legend(title='Version')),\n",
    "        shape=alt.Shape('version:N', legend=alt.Legend(title='Version'))\n",
    "    )\n",
    "chart = alt.layer(line, mx, data=df_comp).configure_axis(\n",
    "        labelFontSize=18,\n",
    "        titleFontSize=18\n",
    "    ).configure_legend(\n",
    "        labelFontSize=12,\n",
    "        titleFontSize=12\n",
    "    )"
   ]
  },
  {
   "cell_type": "code",
   "execution_count": 94,
   "id": "ed1b8750-0b73-4aa2-a021-7d7e15acae26",
   "metadata": {},
   "outputs": [
    {
     "data": {
      "text/html": [
       "\n",
       "<style>\n",
       "  #altair-viz-aa870a7b151a41749b4c98c8f6e08afa.vega-embed {\n",
       "    width: 100%;\n",
       "    display: flex;\n",
       "  }\n",
       "\n",
       "  #altair-viz-aa870a7b151a41749b4c98c8f6e08afa.vega-embed details,\n",
       "  #altair-viz-aa870a7b151a41749b4c98c8f6e08afa.vega-embed details summary {\n",
       "    position: relative;\n",
       "  }\n",
       "</style>\n",
       "<div id=\"altair-viz-aa870a7b151a41749b4c98c8f6e08afa\"></div>\n",
       "<script type=\"text/javascript\">\n",
       "  var VEGA_DEBUG = (typeof VEGA_DEBUG == \"undefined\") ? {} : VEGA_DEBUG;\n",
       "  (function(spec, embedOpt){\n",
       "    let outputDiv = document.currentScript.previousElementSibling;\n",
       "    if (outputDiv.id !== \"altair-viz-aa870a7b151a41749b4c98c8f6e08afa\") {\n",
       "      outputDiv = document.getElementById(\"altair-viz-aa870a7b151a41749b4c98c8f6e08afa\");\n",
       "    }\n",
       "\n",
       "    const paths = {\n",
       "      \"vega\": \"https://cdn.jsdelivr.net/npm/vega@5?noext\",\n",
       "      \"vega-lib\": \"https://cdn.jsdelivr.net/npm/vega-lib?noext\",\n",
       "      \"vega-lite\": \"https://cdn.jsdelivr.net/npm/vega-lite@5.20.1?noext\",\n",
       "      \"vega-embed\": \"https://cdn.jsdelivr.net/npm/vega-embed@6?noext\",\n",
       "    };\n",
       "\n",
       "    function maybeLoadScript(lib, version) {\n",
       "      var key = `${lib.replace(\"-\", \"\")}_version`;\n",
       "      return (VEGA_DEBUG[key] == version) ?\n",
       "        Promise.resolve(paths[lib]) :\n",
       "        new Promise(function(resolve, reject) {\n",
       "          var s = document.createElement('script');\n",
       "          document.getElementsByTagName(\"head\")[0].appendChild(s);\n",
       "          s.async = true;\n",
       "          s.onload = () => {\n",
       "            VEGA_DEBUG[key] = version;\n",
       "            return resolve(paths[lib]);\n",
       "          };\n",
       "          s.onerror = () => reject(`Error loading script: ${paths[lib]}`);\n",
       "          s.src = paths[lib];\n",
       "        });\n",
       "    }\n",
       "\n",
       "    function showError(err) {\n",
       "      outputDiv.innerHTML = `<div class=\"error\" style=\"color:red;\">${err}</div>`;\n",
       "      throw err;\n",
       "    }\n",
       "\n",
       "    function displayChart(vegaEmbed) {\n",
       "      vegaEmbed(outputDiv, spec, embedOpt)\n",
       "        .catch(err => showError(`Javascript Error: ${err.message}<br>This usually means there's a typo in your chart specification. See the javascript console for the full traceback.`));\n",
       "    }\n",
       "\n",
       "    if(typeof define === \"function\" && define.amd) {\n",
       "      requirejs.config({paths});\n",
       "      let deps = [\"vega-embed\"];\n",
       "      require(deps, displayChart, err => showError(`Error loading script: ${err.message}`));\n",
       "    } else {\n",
       "      maybeLoadScript(\"vega\", \"5\")\n",
       "        .then(() => maybeLoadScript(\"vega-lite\", \"5.20.1\"))\n",
       "        .then(() => maybeLoadScript(\"vega-embed\", \"6\"))\n",
       "        .catch(showError)\n",
       "        .then(() => displayChart(vegaEmbed));\n",
       "    }\n",
       "  })({\"config\": {\"view\": {\"continuousWidth\": 300, \"continuousHeight\": 300}, \"axis\": {\"labelFontSize\": 18, \"titleFontSize\": 18}, \"legend\": {\"labelFontSize\": 12, \"titleFontSize\": 12}}, \"layer\": [{\"mark\": {\"type\": \"rule\", \"color\": \"grey\"}, \"encoding\": {\"x\": {\"type\": \"quantitative\", \"datum\": {\"expr\": \"param_13\"}}, \"x2\": {\"datum\": {\"expr\": \"param_14\"}, \"type\": \"quantitative\"}, \"y\": {\"type\": \"quantitative\", \"datum\": {\"expr\": \"param_15\"}}, \"y2\": {\"datum\": {\"expr\": \"param_16\"}, \"type\": \"quantitative\"}}}, {\"mark\": {\"type\": \"point\", \"filled\": true, \"size\": 80}, \"encoding\": {\"color\": {\"field\": \"version\", \"legend\": {\"title\": \"Version\"}, \"type\": \"nominal\"}, \"shape\": {\"field\": \"version\", \"legend\": {\"title\": \"Version\"}, \"type\": \"nominal\"}, \"x\": {\"axis\": {\"title\": \"Observations\"}, \"field\": \"value\", \"scale\": {\"domain\": [{\"expr\": \"param_13\"}, {\"expr\": \"param_14\"}]}, \"type\": \"quantitative\"}, \"y\": {\"axis\": {\"title\": \"Raked values\"}, \"field\": \"raked_value\", \"scale\": {\"domain\": [{\"expr\": \"param_15\"}, {\"expr\": \"param_16\"}]}, \"type\": \"quantitative\"}}}], \"data\": {\"name\": \"data-5f571c24299f36a841085206ccad3a48\"}, \"params\": [{\"name\": \"param_13\", \"value\": 0.0027200795366139592}, {\"name\": \"param_14\", \"value\": 46.96912053773495}, {\"name\": \"param_15\", \"value\": 0.0027200795366139592}, {\"name\": \"param_16\", \"value\": 46.96912053773495}], \"$schema\": \"https://vega.github.io/schema/vega-lite/v5.20.1.json\", \"datasets\": {\"data-5f571c24299f36a841085206ccad3a48\": [{\"value\": 14.677893078874286, \"cause\": -1, \"race\": -1, \"county\": 301, \"raked_value\": 16.166888383963325, \"version\": \"current\"}, {\"value\": 7.993014151560152, \"cause\": 1, \"race\": -1, \"county\": 301, \"raked_value\": 9.512360793336144, \"version\": \"current\"}, {\"value\": 1.136816028012426, \"cause\": 2, \"race\": -1, \"county\": 301, \"raked_value\": 1.1387929558271828, \"version\": \"current\"}, {\"value\": 5.203133316454257, \"cause\": 3, \"race\": -1, \"county\": 301, \"raked_value\": 5.51573463480049, \"version\": \"current\"}, {\"value\": 7.059582111821383, \"cause\": -1, \"race\": 1, \"county\": 301, \"raked_value\": 7.374846219684183, \"version\": \"current\"}, {\"value\": 3.54645746226416, \"cause\": 1, \"race\": 1, \"county\": 301, \"raked_value\": 3.9031343412634576, \"version\": \"current\"}, {\"value\": 0.5812282777162782, \"cause\": 2, \"race\": 1, \"county\": 301, \"raked_value\": 0.5351001330739834, \"version\": \"current\"}, {\"value\": 2.7649797020478637, \"cause\": 3, \"race\": 1, \"county\": 301, \"raked_value\": 2.936611745347073, \"version\": \"current\"}, {\"value\": 7.096473073487695, \"cause\": -1, \"race\": 2, \"county\": 301, \"raked_value\": 7.3917051531195055, \"version\": \"current\"}, {\"value\": 4.3270822589083915, \"cause\": 1, \"race\": 2, \"county\": 301, \"raked_value\": 4.776236187145981, \"version\": \"current\"}, {\"value\": 0.569003040707177, \"cause\": 2, \"race\": 2, \"county\": 301, \"raked_value\": 0.5253815409708361, \"version\": \"current\"}, {\"value\": 1.962176044479792, \"cause\": 3, \"race\": 2, \"county\": 301, \"raked_value\": 2.090087425003002, \"version\": \"current\"}, {\"value\": 0.0490881206077501, \"cause\": -1, \"race\": 3, \"county\": 301, \"raked_value\": 0.049392034523330235, \"version\": \"current\"}, {\"value\": 0.0177587403768576, \"cause\": 1, \"race\": 3, \"county\": 301, \"raked_value\": 0.020291977243677456, \"version\": \"current\"}, {\"value\": 0.0042833823146504, \"cause\": 2, \"race\": 3, \"county\": 301, \"raked_value\": 0.0040941959754793415, \"version\": \"current\"}, {\"value\": 0.0226774265957626, \"cause\": 3, \"race\": 3, \"county\": 301, \"raked_value\": 0.0250058613033911, \"version\": \"current\"}, {\"value\": 0.1623514401991393, \"cause\": -1, \"race\": 4, \"county\": 301, \"raked_value\": 0.17469785400273008, \"version\": \"current\"}, {\"value\": 0.1015859699634812, \"cause\": 1, \"race\": 4, \"county\": 301, \"raked_value\": 0.10854130187047113, \"version\": \"current\"}, {\"value\": 0.0086562054651239, \"cause\": 2, \"race\": 4, \"county\": 301, \"raked_value\": 0.007736747626293236, \"version\": \"current\"}, {\"value\": 0.0566582250394634, \"cause\": 3, \"race\": 4, \"county\": 301, \"raked_value\": 0.058419804506099904, \"version\": \"current\"}, {\"value\": 1.0700035264010763, \"cause\": -1, \"race\": 7, \"county\": 301, \"raked_value\": 1.1762471226328624, \"version\": \"current\"}, {\"value\": 0.6732713560907986, \"cause\": 1, \"race\": 7, \"county\": 301, \"raked_value\": 0.7041569858122437, \"version\": \"current\"}, {\"value\": 0.0759878727053878, \"cause\": 2, \"race\": 7, \"county\": 301, \"raked_value\": 0.06648033818057371, \"version\": \"current\"}, {\"value\": 0.4018770857318859, \"cause\": 3, \"race\": 7, \"county\": 301, \"raked_value\": 0.4056097986400754, \"version\": \"current\"}, {\"value\": 40.19466928193167, \"cause\": -1, \"race\": -1, \"county\": 302, \"raked_value\": 46.96912053425144, \"version\": \"current\"}, {\"value\": 25.48724593978178, \"cause\": 1, \"race\": -1, \"county\": 302, \"raked_value\": 29.4800115749417, \"version\": \"current\"}, {\"value\": 3.0336506278697297, \"cause\": 2, \"race\": -1, \"county\": 302, \"raked_value\": 3.001492220309231, \"version\": \"current\"}, {\"value\": 14.120819163105876, \"cause\": 3, \"race\": -1, \"county\": 302, \"raked_value\": 14.487616739000364, \"version\": \"current\"}, {\"value\": 15.284045454433103, \"cause\": -1, \"race\": 1, \"county\": 302, \"raked_value\": 15.932865508937125, \"version\": \"current\"}, {\"value\": 8.09506618481639, \"cause\": 1, \"race\": 1, \"county\": 302, \"raked_value\": 8.65863230242401, \"version\": \"current\"}, {\"value\": 1.1863663398873456, \"cause\": 2, \"race\": 1, \"county\": 302, \"raked_value\": 1.0445451625837416, \"version\": \"current\"}, {\"value\": 6.009982478241061, \"cause\": 3, \"race\": 1, \"county\": 302, \"raked_value\": 6.2296880439290225, \"version\": \"current\"}, {\"value\": 22.016990638655596, \"cause\": -1, \"race\": 2, \"county\": 302, \"raked_value\": 23.89228909289444, \"version\": \"current\"}, {\"value\": 16.031272437197103, \"cause\": 1, \"race\": 2, \"county\": 302, \"raked_value\": 16.472239738689677, \"version\": \"current\"}, {\"value\": 1.923215047207301, \"cause\": 2, \"race\": 2, \"county\": 302, \"raked_value\": 1.6266421459181426, \"version\": \"current\"}, {\"value\": 5.818153770466452, \"cause\": 3, \"race\": 2, \"county\": 302, \"raked_value\": 5.793407208286437, \"version\": \"current\"}, {\"value\": 0.0300939313679438, \"cause\": -1, \"race\": 3, \"county\": 302, \"raked_value\": 0.0320938541621765, \"version\": \"current\"}, {\"value\": 0.0156249529797551, \"cause\": 1, \"race\": 3, \"county\": 302, \"raked_value\": 0.01633654575690895, \"version\": \"current\"}, {\"value\": 0.0031605347975274, \"cause\": 2, \"race\": 3, \"county\": 302, \"raked_value\": 0.0027200795366139592, \"version\": \"current\"}, {\"value\": 0.0128670673690589, \"cause\": 3, \"race\": 3, \"county\": 302, \"raked_value\": 0.013037228867445821, \"version\": \"current\"}, {\"value\": 1.736007988742877, \"cause\": -1, \"race\": 4, \"county\": 302, \"raked_value\": 1.9090554031229399, \"version\": \"current\"}, {\"value\": 1.2080820158512535, \"cause\": 1, \"race\": 4, \"county\": 302, \"raked_value\": 1.2249378922274163, \"version\": \"current\"}, {\"value\": 0.0848565770176806, \"cause\": 2, \"race\": 4, \"county\": 302, \"raked_value\": 0.07082436210295312, \"version\": \"current\"}, {\"value\": 0.6241461022397048, \"cause\": 3, \"race\": 4, \"county\": 302, \"raked_value\": 0.6132931487925857, \"version\": \"current\"}, {\"value\": 4.850779585750163, \"cause\": -1, \"race\": 7, \"county\": 302, \"raked_value\": 5.2028166751347165, \"version\": \"current\"}, {\"value\": 2.9895421310981765, \"cause\": 1, \"race\": 7, \"county\": 302, \"raked_value\": 3.107865095843861, \"version\": \"current\"}, {\"value\": 0.3000482989662547, \"cause\": 2, \"race\": 7, \"county\": 302, \"raked_value\": 0.2567604701677597, \"version\": \"current\"}, {\"value\": 1.8246055019885947, \"cause\": 3, \"race\": 7, \"county\": 302, \"raked_value\": 1.8381911091231424, \"version\": \"current\"}, {\"value\": 13.912294004256838, \"cause\": -1, \"race\": -1, \"county\": 303, \"raked_value\": 14.63781426103392, \"version\": \"current\"}, {\"value\": 7.410078585904202, \"cause\": 1, \"race\": -1, \"county\": 303, \"raked_value\": 8.451345716550904, \"version\": \"current\"}, {\"value\": 1.1755414073102264, \"cause\": 2, \"race\": -1, \"county\": 303, \"raked_value\": 1.1331728324970634, \"version\": \"current\"}, {\"value\": 4.881196971742203, \"cause\": 3, \"race\": -1, \"county\": 303, \"raked_value\": 5.05329571198603, \"version\": \"current\"}, {\"value\": 6.241849162845116, \"cause\": -1, \"race\": 1, \"county\": 303, \"raked_value\": 6.858086268565994, \"version\": \"current\"}, {\"value\": 3.236550592575251, \"cause\": 1, \"race\": 1, \"county\": 303, \"raked_value\": 3.6995198216137752, \"version\": \"current\"}, {\"value\": 0.5538425228532007, \"cause\": 2, \"race\": 1, \"county\": 303, \"raked_value\": 0.5274004761826991, \"version\": \"current\"}, {\"value\": 2.430715297187142, \"cause\": 3, \"race\": 1, \"county\": 303, \"raked_value\": 2.6311659707697097, \"version\": \"current\"}, {\"value\": 5.004894421171879, \"cause\": -1, \"race\": 2, \"county\": 303, \"raked_value\": 5.208925375749359, \"version\": \"current\"}, {\"value\": 2.6617000240631903, \"cause\": 1, \"race\": 2, \"county\": 303, \"raked_value\": 3.2118741937583426, \"version\": \"current\"}, {\"value\": 0.4183673880597572, \"cause\": 2, \"race\": 2, \"county\": 303, \"raked_value\": 0.4205798903571086, \"version\": \"current\"}, {\"value\": 1.379543685834585, \"cause\": 3, \"race\": 2, \"county\": 303, \"raked_value\": 1.5764712916340404, \"version\": \"current\"}, {\"value\": 0.0698547617989175, \"cause\": -1, \"race\": 3, \"county\": 303, \"raked_value\": 0.0676736481027686, \"version\": \"current\"}, {\"value\": 0.0191755738368906, \"cause\": 1, \"race\": 3, \"county\": 303, \"raked_value\": 0.024858643682140663, \"version\": \"current\"}, {\"value\": 0.004482726843721, \"cause\": 2, \"race\": 3, \"county\": 303, \"raked_value\": 0.004841306719693466, \"version\": \"current\"}, {\"value\": 0.0309316179619552, \"cause\": 3, \"race\": 3, \"county\": 303, \"raked_value\": 0.03797369770107196, \"version\": \"current\"}, {\"value\": 0.1357038752629502, \"cause\": -1, \"race\": 4, \"county\": 303, \"raked_value\": 0.1543402530792939, \"version\": \"current\"}, {\"value\": 0.088222602057403, \"cause\": 1, \"race\": 4, \"county\": 303, \"raked_value\": 0.09741941950081529, \"version\": \"current\"}, {\"value\": 0.0079691613194681, \"cause\": 2, \"race\": 4, \"county\": 303, \"raked_value\": 0.007331106948043354, \"version\": \"current\"}, {\"value\": 0.0474214521021569, \"cause\": 3, \"race\": 4, \"county\": 303, \"raked_value\": 0.04958972663104805, \"version\": \"current\"}, {\"value\": 2.055415037390876, \"cause\": -1, \"race\": 7, \"county\": 303, \"raked_value\": 2.348788715536177, \"version\": \"current\"}, {\"value\": 1.2899356724879472, \"cause\": 1, \"race\": 7, \"county\": 303, \"raked_value\": 1.4176736379958161, \"version\": \"current\"}, {\"value\": 0.1889717853463372, \"cause\": 2, \"race\": 7, \"county\": 303, \"raked_value\": 0.17302005228948694, \"version\": \"current\"}, {\"value\": 0.7283904533236634, \"cause\": 3, \"race\": 7, \"county\": 303, \"raked_value\": 0.758095025250936, \"version\": \"current\"}, {\"value\": 3.54645746226416, \"cause\": 1, \"race\": 1, \"county\": 301, \"raked_value\": 3.9031343414298107, \"version\": \"experimental\"}, {\"value\": 4.3270822589083915, \"cause\": 1, \"race\": 2, \"county\": 301, \"raked_value\": 4.77623618737385, \"version\": \"experimental\"}, {\"value\": 0.0177587403768576, \"cause\": 1, \"race\": 3, \"county\": 301, \"raked_value\": 0.020291976903429133, \"version\": \"experimental\"}, {\"value\": 0.1015859699634812, \"cause\": 1, \"race\": 4, \"county\": 301, \"raked_value\": 0.10854130196783073, \"version\": \"experimental\"}, {\"value\": 0.6732713560907986, \"cause\": 1, \"race\": 7, \"county\": 301, \"raked_value\": 0.7041569858383805, \"version\": \"experimental\"}, {\"value\": 8.09506618481639, \"cause\": 1, \"race\": 1, \"county\": 302, \"raked_value\": 8.6586323026282, \"version\": \"experimental\"}, {\"value\": 16.031272437197103, \"cause\": 1, \"race\": 2, \"county\": 302, \"raked_value\": 16.47223973940082, \"version\": \"experimental\"}, {\"value\": 0.0156249529797551, \"cause\": 1, \"race\": 3, \"county\": 302, \"raked_value\": 0.01633654610258579, \"version\": \"experimental\"}, {\"value\": 1.2080820158512535, \"cause\": 1, \"race\": 4, \"county\": 302, \"raked_value\": 1.2249378922453675, \"version\": \"experimental\"}, {\"value\": 2.9895421310981765, \"cause\": 1, \"race\": 7, \"county\": 302, \"raked_value\": 3.1078650959234584, \"version\": \"experimental\"}, {\"value\": 3.236550592575251, \"cause\": 1, \"race\": 1, \"county\": 303, \"raked_value\": 3.699519822590122, \"version\": \"experimental\"}, {\"value\": 2.6617000240631903, \"cause\": 1, \"race\": 2, \"county\": 303, \"raked_value\": 3.2118741946494045, \"version\": \"experimental\"}, {\"value\": 0.0191755738368906, \"cause\": 1, \"race\": 3, \"county\": 303, \"raked_value\": 0.024858640227870193, \"version\": \"experimental\"}, {\"value\": 0.088222602057403, \"cause\": 1, \"race\": 4, \"county\": 303, \"raked_value\": 0.0974194192372987, \"version\": \"experimental\"}, {\"value\": 1.2899356724879472, \"cause\": 1, \"race\": 7, \"county\": 303, \"raked_value\": 1.4176736383684747, \"version\": \"experimental\"}, {\"value\": 0.5812282777162782, \"cause\": 2, \"race\": 1, \"county\": 301, \"raked_value\": 0.5351001331152774, \"version\": \"experimental\"}, {\"value\": 0.569003040707177, \"cause\": 2, \"race\": 2, \"county\": 301, \"raked_value\": 0.5253815410140533, \"version\": \"experimental\"}, {\"value\": 0.0042833823146504, \"cause\": 2, \"race\": 3, \"county\": 301, \"raked_value\": 0.004094195906970842, \"version\": \"experimental\"}, {\"value\": 0.0086562054651239, \"cause\": 2, \"race\": 4, \"county\": 301, \"raked_value\": 0.007736747633500262, \"version\": \"experimental\"}, {\"value\": 0.0759878727053878, \"cause\": 2, \"race\": 7, \"county\": 301, \"raked_value\": 0.0664803381853382, \"version\": \"experimental\"}, {\"value\": 1.1863663398873456, \"cause\": 2, \"race\": 1, \"county\": 302, \"raked_value\": 1.0445451626355402, \"version\": \"experimental\"}, {\"value\": 1.923215047207301, \"cause\": 2, \"race\": 2, \"county\": 302, \"raked_value\": 1.6266421460306733, \"version\": \"experimental\"}, {\"value\": 0.0031605347975274, \"cause\": 2, \"race\": 3, \"county\": 302, \"raked_value\": 0.00272007959424084, \"version\": \"experimental\"}, {\"value\": 0.0848565770176806, \"cause\": 2, \"race\": 4, \"county\": 302, \"raked_value\": 0.07082436210583297, \"version\": \"experimental\"}, {\"value\": 0.3000482989662547, \"cause\": 2, \"race\": 7, \"county\": 302, \"raked_value\": 0.2567604701810133, \"version\": \"experimental\"}, {\"value\": 0.5538425228532007, \"cause\": 2, \"race\": 1, \"county\": 303, \"raked_value\": 0.5274004763953271, \"version\": \"experimental\"}, {\"value\": 0.4183673880597572, \"cause\": 2, \"race\": 2, \"county\": 303, \"raked_value\": 0.4205798905323549, \"version\": \"experimental\"}, {\"value\": 0.004482726843721, \"cause\": 2, \"race\": 3, \"county\": 303, \"raked_value\": 0.004841306047636515, \"version\": \"experimental\"}, {\"value\": 0.0079691613194681, \"cause\": 2, \"race\": 4, \"county\": 303, \"raked_value\": 0.00733110692923379, \"version\": \"experimental\"}, {\"value\": 0.1889717853463372, \"cause\": 2, \"race\": 7, \"county\": 303, \"raked_value\": 0.17302005235906123, \"version\": \"experimental\"}, {\"value\": 2.7649797020478637, \"cause\": 3, \"race\": 1, \"county\": 301, \"raked_value\": 2.9366117457760113, \"version\": \"experimental\"}, {\"value\": 1.962176044479792, \"cause\": 3, \"race\": 2, \"county\": 301, \"raked_value\": 2.090087425318927, \"version\": \"experimental\"}, {\"value\": 0.0226774265957626, \"cause\": 3, \"race\": 3, \"county\": 301, \"raked_value\": 0.025005860886688866, \"version\": \"experimental\"}, {\"value\": 0.0566582250394634, \"cause\": 3, \"race\": 4, \"county\": 301, \"raked_value\": 0.05841980456454466, \"version\": \"experimental\"}, {\"value\": 0.4018770857318859, \"cause\": 3, \"race\": 7, \"county\": 301, \"raked_value\": 0.40560979869708913, \"version\": \"experimental\"}, {\"value\": 6.009982478241061, \"cause\": 3, \"race\": 1, \"county\": 302, \"raked_value\": 6.229688044574575, \"version\": \"experimental\"}, {\"value\": 5.818153770466452, \"cause\": 3, \"race\": 2, \"county\": 302, \"raked_value\": 5.793407209000272, \"version\": \"experimental\"}, {\"value\": 0.0128670673690589, \"cause\": 3, \"race\": 3, \"county\": 302, \"raked_value\": 0.013037229144353558, \"version\": \"experimental\"}, {\"value\": 0.6241461022397048, \"cause\": 3, \"race\": 4, \"county\": 302, \"raked_value\": 0.6132931488506631, \"version\": \"experimental\"}, {\"value\": 1.8246055019885947, \"cause\": 3, \"race\": 7, \"county\": 302, \"raked_value\": 1.8381911093173549, \"version\": \"experimental\"}, {\"value\": 2.430715297187142, \"cause\": 3, \"race\": 1, \"county\": 303, \"raked_value\": 2.6311659725194723, \"version\": \"experimental\"}, {\"value\": 1.379543685834585, \"cause\": 3, \"race\": 2, \"county\": 303, \"raked_value\": 1.5764712927037232, \"version\": \"experimental\"}, {\"value\": 0.0309316179619552, \"cause\": 3, \"race\": 3, \"county\": 303, \"raked_value\": 0.037973692439610636, \"version\": \"experimental\"}, {\"value\": 0.0474214521021569, \"cause\": 3, \"race\": 4, \"county\": 303, \"raked_value\": 0.049589726516799895, \"version\": \"experimental\"}, {\"value\": 0.7283904533236634, \"cause\": 3, \"race\": 7, \"county\": 303, \"raked_value\": 0.7580950257542876, \"version\": \"experimental\"}, {\"value\": 7.059582111821383, \"cause\": -1, \"race\": 1, \"county\": 301, \"raked_value\": 7.3748462203211, \"version\": \"experimental\"}, {\"value\": 15.284045454433103, \"cause\": -1, \"race\": 1, \"county\": 302, \"raked_value\": 15.932865509838315, \"version\": \"experimental\"}, {\"value\": 6.241849162845116, \"cause\": -1, \"race\": 1, \"county\": 303, \"raked_value\": 6.858086271504921, \"version\": \"experimental\"}, {\"value\": 7.096473073487695, \"cause\": -1, \"race\": 2, \"county\": 301, \"raked_value\": 7.39170515370683, \"version\": \"experimental\"}, {\"value\": 22.016990638655596, \"cause\": -1, \"race\": 2, \"county\": 302, \"raked_value\": 23.892289094431767, \"version\": \"experimental\"}, {\"value\": 5.004894421171879, \"cause\": -1, \"race\": 2, \"county\": 303, \"raked_value\": 5.208925377885483, \"version\": \"experimental\"}, {\"value\": 0.0490881206077501, \"cause\": -1, \"race\": 3, \"county\": 301, \"raked_value\": 0.04939203369708884, \"version\": \"experimental\"}, {\"value\": 0.0300939313679438, \"cause\": -1, \"race\": 3, \"county\": 302, \"raked_value\": 0.032093854841180186, \"version\": \"experimental\"}, {\"value\": 0.0698547617989175, \"cause\": -1, \"race\": 3, \"county\": 303, \"raked_value\": 0.06767363871511733, \"version\": \"experimental\"}, {\"value\": 0.1623514401991393, \"cause\": -1, \"race\": 4, \"county\": 301, \"raked_value\": 0.17469785416587563, \"version\": \"experimental\"}, {\"value\": 1.736007988742877, \"cause\": -1, \"race\": 4, \"county\": 302, \"raked_value\": 1.9090554032018636, \"version\": \"experimental\"}, {\"value\": 0.1357038752629502, \"cause\": -1, \"race\": 4, \"county\": 303, \"raked_value\": 0.1543402526833324, \"version\": \"experimental\"}, {\"value\": 1.0700035264010763, \"cause\": -1, \"race\": 7, \"county\": 301, \"raked_value\": 1.1762471227208078, \"version\": \"experimental\"}, {\"value\": 4.850779585750163, \"cause\": -1, \"race\": 7, \"county\": 302, \"raked_value\": 5.202816675421826, \"version\": \"experimental\"}, {\"value\": 2.055415037390876, \"cause\": -1, \"race\": 7, \"county\": 303, \"raked_value\": 2.3487887164818235, \"version\": \"experimental\"}, {\"value\": 7.993014151560152, \"cause\": 1, \"race\": -1, \"county\": 301, \"raked_value\": 9.5123607935133, \"version\": \"experimental\"}, {\"value\": 25.48724593978178, \"cause\": 1, \"race\": -1, \"county\": 302, \"raked_value\": 29.48001157630043, \"version\": \"experimental\"}, {\"value\": 7.410078585904202, \"cause\": 1, \"race\": -1, \"county\": 303, \"raked_value\": 8.45134571507317, \"version\": \"experimental\"}, {\"value\": 1.136816028012426, \"cause\": 2, \"race\": -1, \"county\": 301, \"raked_value\": 1.13879295585514, \"version\": \"experimental\"}, {\"value\": 3.0336506278697297, \"cause\": 2, \"race\": -1, \"county\": 302, \"raked_value\": 3.0014922205473007, \"version\": \"experimental\"}, {\"value\": 1.1755414073102264, \"cause\": 2, \"race\": -1, \"county\": 303, \"raked_value\": 1.1331728322636134, \"version\": \"experimental\"}, {\"value\": 5.203133316454257, \"cause\": 3, \"race\": -1, \"county\": 301, \"raked_value\": 5.515734635243261, \"version\": \"experimental\"}, {\"value\": 14.120819163105876, \"cause\": 3, \"race\": -1, \"county\": 302, \"raked_value\": 14.48761674088722, \"version\": \"experimental\"}, {\"value\": 4.881196971742203, \"cause\": 3, \"race\": -1, \"county\": 303, \"raked_value\": 5.053295709933893, \"version\": \"experimental\"}, {\"value\": 14.677893078874286, \"cause\": -1, \"race\": -1, \"county\": 301, \"raked_value\": 16.166888384611703, \"version\": \"experimental\"}, {\"value\": 40.19466928193167, \"cause\": -1, \"race\": -1, \"county\": 302, \"raked_value\": 46.96912053773495, \"version\": \"experimental\"}, {\"value\": 13.912294004256838, \"cause\": -1, \"race\": -1, \"county\": 303, \"raked_value\": 14.637814257270676, \"version\": \"experimental\"}]}}, {\"mode\": \"vega-lite\"});\n",
       "</script>"
      ],
      "text/plain": [
       "alt.LayerChart(...)"
      ]
     },
     "execution_count": 94,
     "metadata": {},
     "output_type": "execute_result"
    }
   ],
   "source": [
    "chart"
   ]
  },
  {
   "cell_type": "markdown",
   "id": "17895faf-2adb-452c-b0ae-504c51f414ad",
   "metadata": {},
   "source": [
    "Sort values and compare."
   ]
  },
  {
   "cell_type": "code",
   "execution_count": 95,
   "id": "b188fb4f-0c5f-48e3-bd33-0d7d592581ab",
   "metadata": {},
   "outputs": [
    {
     "data": {
      "text/plain": [
       "[<matplotlib.lines.Line2D at 0x14710fbf0>]"
      ]
     },
     "execution_count": 95,
     "metadata": {},
     "output_type": "execute_result"
    },
    {
     "data": {
      "image/png": "[encoded data removed]",
      "text/plain": [
       "<Figure size 640x480 with 1 Axes>"
      ]
     },
     "metadata": {},
     "output_type": "display_data"
    }
   ],
   "source": [
    "current = df_raked.raked_value.to_numpy()\n",
    "current.sort()\n",
    "experimental = df_exp.raked_value.to_numpy()\n",
    "experimental.sort()\n",
    "plt.plot(current, current, 'k-')\n",
    "plt.plot(current, experimental, 'ro')"
   ]
  },
  {
   "cell_type": "code",
   "execution_count": 96,
   "id": "7d832760-ef58-447a-9d9f-46816bb8e9b9",
   "metadata": {},
   "outputs": [
    {
     "data": {
      "text/plain": [
       "True"
      ]
     },
     "execution_count": 96,
     "metadata": {},
     "output_type": "execute_result"
    }
   ],
   "source": [
    "np.allclose(current, experimental)"
   ]
  },
  {
   "cell_type": "code",
   "execution_count": null,
   "id": "81cf817c-1c54-48e8-a728-86f96e324f87",
   "metadata": {},
   "outputs": [],
   "source": []
  }
 ],
 "metadata": {
  "kernelspec": {
   "display_name": "Python 3 (ipykernel)",
   "language": "python",
   "name": "python3"
  },
  "language_info": {
   "codemirror_mode": {
    "name": "ipython",
    "version": 3
   },
   "file_extension": ".py",
   "mimetype": "text/x-python",
   "name": "python",
   "nbconvert_exporter": "python",
   "pygments_lexer": "ipython3",
   "version": "3.12.10"
  }
 },
 "nbformat": 4,
 "nbformat_minor": 5
}
