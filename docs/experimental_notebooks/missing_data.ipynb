{
 "cells": [
  {
   "cell_type": "markdown",
   "id": "e781bb70-6aba-4eef-b504-c5ab9dba6325",
   "metadata": {},
   "source": [
    "# Missing data use case"
   ]
  },
  {
   "cell_type": "code",
   "execution_count": 33,
   "id": "f8c43a58-e56c-4517-ac14-3853732c6944",
   "metadata": {},
   "outputs": [],
   "source": [
    "import matplotlib.pyplot as plt\n",
    "import numpy as np\n",
    "import pandas as pd\n",
    "\n",
    "from raking.experimental import  DataBuilder , DualSolver, PrimalSolver\n",
    "\n",
    "pd.set_option('mode.chained_assignment', None)"
   ]
  },
  {
   "cell_type": "markdown",
   "id": "73174d1c-36d2-49ed-80ff-01666a14691e",
   "metadata": {},
   "source": [
    "Load the data and get theam at the right format."
   ]
  },
  {
   "cell_type": "code",
   "execution_count": 3,
   "id": "016c0ef3-b26c-40f4-92b5-75a4ce95bf10",
   "metadata": {},
   "outputs": [],
   "source": [
    "observations = pd.read_csv('/Users/ducela/Documents/Raking/perso/Raking_paper/methods/observations.csv')\n",
    "margins = pd.read_csv('/Users/ducela/Documents/Raking/perso/Raking_paper/methods/margins.csv')\n",
    "\n",
    "observations['weights'] = np.where( \\\n",
    "    observations['value'].isna(), 0.0, 1.0)\n",
    "\n",
    "margins['race'] = 0\n",
    "margins['county'] = 0\n",
    "margins = margins.loc[margins.cause!='_all']\n",
    "margins.rename(columns={'value_agg_over_race_county': 'value'}, inplace=True)\n",
    "margins['weights'] = np.inf\n",
    "\n",
    "df = pd.concat([ \\\n",
    "    observations[['value', 'cause', 'race', 'county', 'weights']], \\\n",
    "    margins[['value', 'cause', 'race', 'county', 'weights']]])"
   ]
  },
  {
   "cell_type": "markdown",
   "id": "f2483eb5-1a62-43fe-b5fc-b6784cfac9bc",
   "metadata": {},
   "source": [
    "Rake initial dataset."
   ]
  },
  {
   "cell_type": "code",
   "execution_count": 8,
   "id": "10f32058-9c86-42a3-8b03-06c919e38a9c",
   "metadata": {},
   "outputs": [
    {
     "name": "stderr",
     "output_type": "stream",
     "text": [
      "/Users/ducela/Documents/Raking/ihmeuw-msca/raking/src/raking/experimental/data.py:231: FutureWarning: The behavior of DataFrame concatenation with empty or all-NA entries is deprecated. In a future version, this will no longer exclude empty or all-NA columns when determining the result dtypes. To retain the old behavior, exclude the relevant entries before the concat operation.\n",
      "  df_i_to_j = pd.concat(\n"
     ]
    },
    {
     "ename": "ValueError",
     "evalue": "operands could not be broadcast together with shapes (93,) (92,) ",
     "output_type": "error",
     "traceback": [
      "\u001b[31m---------------------------------------------------------------------------\u001b[39m",
      "\u001b[31mValueError\u001b[39m                                Traceback (most recent call last)",
      "\u001b[36mCell\u001b[39m\u001b[36m \u001b[39m\u001b[32mIn[8]\u001b[39m\u001b[32m, line 9\u001b[39m\n\u001b[32m      6\u001b[39m data = data_builder.build(df)\n\u001b[32m      8\u001b[39m solver = DualSolver(distance=\u001b[33m'\u001b[39m\u001b[33mentropic\u001b[39m\u001b[33m'\u001b[39m, data=data)\n\u001b[32m----> \u001b[39m\u001b[32m9\u001b[39m soln = \u001b[43msolver\u001b[49m\u001b[43m.\u001b[49m\u001b[43msolve\u001b[49m\u001b[43m(\u001b[49m\u001b[43m)\u001b[49m\n",
      "\u001b[36mFile \u001b[39m\u001b[32m~/Documents/Raking/ihmeuw-msca/raking/src/raking/experimental/solver.py:71\u001b[39m, in \u001b[36mDualSolver.solve\u001b[39m\u001b[34m(self, x0, method, options)\u001b[39m\n\u001b[32m     68\u001b[39m \u001b[38;5;28;01mif\u001b[39;00m method \u001b[38;5;129;01mis\u001b[39;00m \u001b[38;5;28;01mNone\u001b[39;00m:\n\u001b[32m     69\u001b[39m     method = \u001b[33m\"\u001b[39m\u001b[33mNewton-CG\u001b[39m\u001b[33m\"\u001b[39m \u001b[38;5;28;01mif\u001b[39;00m \u001b[38;5;28mself\u001b[39m.vec_c.size == \u001b[32m0\u001b[39m \u001b[38;5;28;01melse\u001b[39;00m \u001b[33m\"\u001b[39m\u001b[33mtrust-constr\u001b[39m\u001b[33m\"\u001b[39m\n\u001b[32m---> \u001b[39m\u001b[32m71\u001b[39m \u001b[38;5;28mself\u001b[39m.result = \u001b[43mminimize\u001b[49m\u001b[43m(\u001b[49m\n\u001b[32m     72\u001b[39m \u001b[43m    \u001b[49m\u001b[38;5;28;43mself\u001b[39;49m\u001b[43m.\u001b[49m\u001b[43mobjective\u001b[49m\u001b[43m,\u001b[49m\n\u001b[32m     73\u001b[39m \u001b[43m    \u001b[49m\u001b[43mx0\u001b[49m\u001b[43m,\u001b[49m\n\u001b[32m     74\u001b[39m \u001b[43m    \u001b[49m\u001b[43mmethod\u001b[49m\u001b[43m=\u001b[49m\u001b[43mmethod\u001b[49m\u001b[43m,\u001b[49m\n\u001b[32m     75\u001b[39m \u001b[43m    \u001b[49m\u001b[43mjac\u001b[49m\u001b[43m=\u001b[49m\u001b[38;5;28;43mself\u001b[39;49m\u001b[43m.\u001b[49m\u001b[43mgradient\u001b[49m\u001b[43m,\u001b[49m\n\u001b[32m     76\u001b[39m \u001b[43m    \u001b[49m\u001b[43mhess\u001b[49m\u001b[43m=\u001b[49m\u001b[38;5;28;43mself\u001b[39;49m\u001b[43m.\u001b[49m\u001b[43mhessian\u001b[49m\u001b[43m,\u001b[49m\n\u001b[32m     77\u001b[39m \u001b[43m    \u001b[49m\u001b[43mconstraints\u001b[49m\u001b[43m=\u001b[49m\u001b[43mconstraints\u001b[49m\u001b[43m,\u001b[49m\n\u001b[32m     78\u001b[39m \u001b[43m    \u001b[49m\u001b[43moptions\u001b[49m\u001b[43m=\u001b[49m\u001b[43moptions\u001b[49m\u001b[43m,\u001b[49m\n\u001b[32m     79\u001b[39m \u001b[43m\u001b[49m\u001b[43m)\u001b[49m\n\u001b[32m     81\u001b[39m soln = \u001b[38;5;28mself\u001b[39m.data[\u001b[33m\"\u001b[39m\u001b[33mspan\u001b[39m\u001b[33m\"\u001b[39m].copy()\n\u001b[32m     82\u001b[39m soln[\u001b[33m\"\u001b[39m\u001b[33msoln\u001b[39m\u001b[33m\"\u001b[39m] = \u001b[38;5;28mself\u001b[39m.dual_to_primal(\u001b[38;5;28mself\u001b[39m.result.x)\n",
      "\u001b[36mFile \u001b[39m\u001b[32m~/anaconda3/envs/env_raking/lib/python3.12/site-packages/scipy/optimize/_minimize.py:753\u001b[39m, in \u001b[36mminimize\u001b[39m\u001b[34m(fun, x0, args, method, jac, hess, hessp, bounds, constraints, tol, callback, options)\u001b[39m\n\u001b[32m    750\u001b[39m     res = _minimize_slsqp(fun, x0, args, jac, bounds,\n\u001b[32m    751\u001b[39m                           constraints, callback=callback, **options)\n\u001b[32m    752\u001b[39m \u001b[38;5;28;01melif\u001b[39;00m meth == \u001b[33m'\u001b[39m\u001b[33mtrust-constr\u001b[39m\u001b[33m'\u001b[39m:\n\u001b[32m--> \u001b[39m\u001b[32m753\u001b[39m     res = \u001b[43m_minimize_trustregion_constr\u001b[49m\u001b[43m(\u001b[49m\u001b[43mfun\u001b[49m\u001b[43m,\u001b[49m\u001b[43m \u001b[49m\u001b[43mx0\u001b[49m\u001b[43m,\u001b[49m\u001b[43m \u001b[49m\u001b[43margs\u001b[49m\u001b[43m,\u001b[49m\u001b[43m \u001b[49m\u001b[43mjac\u001b[49m\u001b[43m,\u001b[49m\u001b[43m \u001b[49m\u001b[43mhess\u001b[49m\u001b[43m,\u001b[49m\u001b[43m \u001b[49m\u001b[43mhessp\u001b[49m\u001b[43m,\u001b[49m\n\u001b[32m    754\u001b[39m \u001b[43m                                       \u001b[49m\u001b[43mbounds\u001b[49m\u001b[43m,\u001b[49m\u001b[43m \u001b[49m\u001b[43mconstraints\u001b[49m\u001b[43m,\u001b[49m\n\u001b[32m    755\u001b[39m \u001b[43m                                       \u001b[49m\u001b[43mcallback\u001b[49m\u001b[43m=\u001b[49m\u001b[43mcallback\u001b[49m\u001b[43m,\u001b[49m\u001b[43m \u001b[49m\u001b[43m*\u001b[49m\u001b[43m*\u001b[49m\u001b[43moptions\u001b[49m\u001b[43m)\u001b[49m\n\u001b[32m    756\u001b[39m \u001b[38;5;28;01melif\u001b[39;00m meth == \u001b[33m'\u001b[39m\u001b[33mdogleg\u001b[39m\u001b[33m'\u001b[39m:\n\u001b[32m    757\u001b[39m     res = _minimize_dogleg(fun, x0, args, jac, hess,\n\u001b[32m    758\u001b[39m                            callback=callback, **options)\n",
      "\u001b[36mFile \u001b[39m\u001b[32m~/anaconda3/envs/env_raking/lib/python3.12/site-packages/scipy/optimize/_trustregion_constr/minimize_trustregion_constr.py:345\u001b[39m, in \u001b[36m_minimize_trustregion_constr\u001b[39m\u001b[34m(fun, x0, args, grad, hess, hessp, bounds, constraints, xtol, gtol, barrier_tol, sparse_jacobian, callback, maxiter, verbose, finite_diff_rel_step, initial_constr_penalty, initial_tr_radius, initial_barrier_parameter, initial_barrier_tolerance, factorization_method, disp)\u001b[39m\n\u001b[32m    342\u001b[39m     finite_diff_bounds = (-np.inf, np.inf)\n\u001b[32m    344\u001b[39m \u001b[38;5;66;03m# Define Objective Function\u001b[39;00m\n\u001b[32m--> \u001b[39m\u001b[32m345\u001b[39m objective = \u001b[43mScalarFunction\u001b[49m\u001b[43m(\u001b[49m\u001b[43mfun\u001b[49m\u001b[43m,\u001b[49m\u001b[43m \u001b[49m\u001b[43mx0\u001b[49m\u001b[43m,\u001b[49m\u001b[43m \u001b[49m\u001b[43margs\u001b[49m\u001b[43m,\u001b[49m\u001b[43m \u001b[49m\u001b[43mgrad\u001b[49m\u001b[43m,\u001b[49m\u001b[43m \u001b[49m\u001b[43mhess\u001b[49m\u001b[43m,\u001b[49m\n\u001b[32m    346\u001b[39m \u001b[43m                           \u001b[49m\u001b[43mfinite_diff_rel_step\u001b[49m\u001b[43m,\u001b[49m\u001b[43m \u001b[49m\u001b[43mfinite_diff_bounds\u001b[49m\u001b[43m)\u001b[49m\n\u001b[32m    348\u001b[39m \u001b[38;5;66;03m# Put constraints in list format when needed.\u001b[39;00m\n\u001b[32m    349\u001b[39m \u001b[38;5;28;01mif\u001b[39;00m \u001b[38;5;28misinstance\u001b[39m(constraints, (NonlinearConstraint | LinearConstraint)):\n",
      "\u001b[36mFile \u001b[39m\u001b[32m~/anaconda3/envs/env_raking/lib/python3.12/site-packages/scipy/optimize/_differentiable_functions.py:223\u001b[39m, in \u001b[36mScalarFunction.__init__\u001b[39m\u001b[34m(self, fun, x0, args, grad, hess, finite_diff_rel_step, finite_diff_bounds, epsilon)\u001b[39m\n\u001b[32m    220\u001b[39m     finite_diff_options[\u001b[33m\"\u001b[39m\u001b[33mas_linear_operator\u001b[39m\u001b[33m\"\u001b[39m] = \u001b[38;5;28;01mTrue\u001b[39;00m\n\u001b[32m    222\u001b[39m \u001b[38;5;66;03m# Initial function evaluation\u001b[39;00m\n\u001b[32m--> \u001b[39m\u001b[32m223\u001b[39m \u001b[38;5;28;43mself\u001b[39;49m\u001b[43m.\u001b[49m\u001b[43m_update_fun\u001b[49m\u001b[43m(\u001b[49m\u001b[43m)\u001b[49m\n\u001b[32m    225\u001b[39m \u001b[38;5;66;03m# Initial gradient evaluation\u001b[39;00m\n\u001b[32m    226\u001b[39m \u001b[38;5;28mself\u001b[39m._wrapped_grad, \u001b[38;5;28mself\u001b[39m._ngev = _wrapper_grad(\n\u001b[32m    227\u001b[39m     grad,\n\u001b[32m    228\u001b[39m     fun=\u001b[38;5;28mself\u001b[39m._wrapped_fun,\n\u001b[32m    229\u001b[39m     args=args,\n\u001b[32m    230\u001b[39m     finite_diff_options=finite_diff_options\n\u001b[32m    231\u001b[39m )\n",
      "\u001b[36mFile \u001b[39m\u001b[32m~/anaconda3/envs/env_raking/lib/python3.12/site-packages/scipy/optimize/_differentiable_functions.py:295\u001b[39m, in \u001b[36mScalarFunction._update_fun\u001b[39m\u001b[34m(self)\u001b[39m\n\u001b[32m    293\u001b[39m \u001b[38;5;28;01mdef\u001b[39;00m\u001b[38;5;250m \u001b[39m\u001b[34m_update_fun\u001b[39m(\u001b[38;5;28mself\u001b[39m):\n\u001b[32m    294\u001b[39m     \u001b[38;5;28;01mif\u001b[39;00m \u001b[38;5;129;01mnot\u001b[39;00m \u001b[38;5;28mself\u001b[39m.f_updated:\n\u001b[32m--> \u001b[39m\u001b[32m295\u001b[39m         fx = \u001b[38;5;28;43mself\u001b[39;49m\u001b[43m.\u001b[49m\u001b[43m_wrapped_fun\u001b[49m\u001b[43m(\u001b[49m\u001b[38;5;28;43mself\u001b[39;49m\u001b[43m.\u001b[49m\u001b[43mx\u001b[49m\u001b[43m)\u001b[49m\n\u001b[32m    296\u001b[39m         \u001b[38;5;28;01mif\u001b[39;00m fx < \u001b[38;5;28mself\u001b[39m._lowest_f:\n\u001b[32m    297\u001b[39m             \u001b[38;5;28mself\u001b[39m._lowest_x = \u001b[38;5;28mself\u001b[39m.x\n",
      "\u001b[36mFile \u001b[39m\u001b[32m~/anaconda3/envs/env_raking/lib/python3.12/site-packages/scipy/optimize/_differentiable_functions.py:21\u001b[39m, in \u001b[36m_wrapper_fun.<locals>.wrapped\u001b[39m\u001b[34m(x)\u001b[39m\n\u001b[32m     17\u001b[39m ncalls[\u001b[32m0\u001b[39m] += \u001b[32m1\u001b[39m\n\u001b[32m     18\u001b[39m \u001b[38;5;66;03m# Send a copy because the user may overwrite it.\u001b[39;00m\n\u001b[32m     19\u001b[39m \u001b[38;5;66;03m# Overwriting results in undefined behaviour because\u001b[39;00m\n\u001b[32m     20\u001b[39m \u001b[38;5;66;03m# fun(self.x) will change self.x, with the two no longer linked.\u001b[39;00m\n\u001b[32m---> \u001b[39m\u001b[32m21\u001b[39m fx = \u001b[43mfun\u001b[49m\u001b[43m(\u001b[49m\u001b[43mnp\u001b[49m\u001b[43m.\u001b[49m\u001b[43mcopy\u001b[49m\u001b[43m(\u001b[49m\u001b[43mx\u001b[49m\u001b[43m)\u001b[49m\u001b[43m,\u001b[49m\u001b[43m \u001b[49m\u001b[43m*\u001b[49m\u001b[43margs\u001b[49m\u001b[43m)\u001b[49m\n\u001b[32m     22\u001b[39m \u001b[38;5;66;03m# Make sure the function returns a true scalar\u001b[39;00m\n\u001b[32m     23\u001b[39m \u001b[38;5;28;01mif\u001b[39;00m \u001b[38;5;129;01mnot\u001b[39;00m np.isscalar(fx):\n",
      "\u001b[36mFile \u001b[39m\u001b[32m~/Documents/Raking/ihmeuw-msca/raking/src/raking/experimental/solver.py:31\u001b[39m, in \u001b[36mDualSolver.objective\u001b[39m\u001b[34m(self, x)\u001b[39m\n\u001b[32m     30\u001b[39m \u001b[38;5;28;01mdef\u001b[39;00m\u001b[38;5;250m \u001b[39m\u001b[34mobjective\u001b[39m(\u001b[38;5;28mself\u001b[39m, x: npt.NDArray) -> \u001b[38;5;28mfloat\u001b[39m:\n\u001b[32m---> \u001b[39m\u001b[32m31\u001b[39m     \u001b[38;5;28;01mreturn\u001b[39;00m \u001b[38;5;28;43mself\u001b[39;49m\u001b[43m.\u001b[49m\u001b[43mfun\u001b[49m\u001b[43m(\u001b[49m\u001b[38;5;28;43mself\u001b[39;49m\u001b[43m.\u001b[49m\u001b[43mmat_o\u001b[49m\u001b[43m \u001b[49m\u001b[43m@\u001b[49m\u001b[43m \u001b[49m\u001b[43mx\u001b[49m\u001b[43m,\u001b[49m\u001b[43m \u001b[49m\u001b[43morder\u001b[49m\u001b[43m=\u001b[49m\u001b[32;43m0\u001b[39;49m\u001b[43m)\u001b[49m.sum() + \u001b[38;5;28mself\u001b[39m.vec_o @ x\n",
      "\u001b[36mFile \u001b[39m\u001b[32m~/Documents/Raking/ihmeuw-msca/raking/src/raking/experimental/distance.py:23\u001b[39m, in \u001b[36mC2Function.__call__\u001b[39m\u001b[34m(self, x, order)\u001b[39m\n\u001b[32m     21\u001b[39m \u001b[38;5;28;01mmatch\u001b[39;00m order:\n\u001b[32m     22\u001b[39m     \u001b[38;5;28;01mcase\u001b[39;00m \u001b[32m0\u001b[39m:\n\u001b[32m---> \u001b[39m\u001b[32m23\u001b[39m         \u001b[38;5;28;01mreturn\u001b[39;00m \u001b[38;5;28;43mself\u001b[39;49m\u001b[43m.\u001b[49m\u001b[43mfun\u001b[49m\u001b[43m(\u001b[49m\u001b[43mx\u001b[49m\u001b[43m)\u001b[49m\n\u001b[32m     24\u001b[39m     \u001b[38;5;28;01mcase\u001b[39;00m \u001b[32m1\u001b[39m:\n\u001b[32m     25\u001b[39m         \u001b[38;5;28;01mreturn\u001b[39;00m \u001b[38;5;28mself\u001b[39m.dfun(x)\n",
      "\u001b[36mFile \u001b[39m\u001b[32m~/Documents/Raking/ihmeuw-msca/raking/src/raking/experimental/distance.py:48\u001b[39m, in \u001b[36mDistance.__init__.<locals>.<lambda>\u001b[39m\u001b[34m(z)\u001b[39m\n\u001b[32m     40\u001b[39m \u001b[38;5;28mself\u001b[39m.y, \u001b[38;5;28mself\u001b[39m.w, \u001b[38;5;28mself\u001b[39m.l, \u001b[38;5;28mself\u001b[39m.u = y, w, l, u\n\u001b[32m     42\u001b[39m \u001b[38;5;28mself\u001b[39m.fun = C2Function(\n\u001b[32m     43\u001b[39m     \u001b[38;5;28;01mlambda\u001b[39;00m x: \u001b[38;5;28mself\u001b[39m.w * \u001b[38;5;28mself\u001b[39m._fun(x),\n\u001b[32m     44\u001b[39m     \u001b[38;5;28;01mlambda\u001b[39;00m x: \u001b[38;5;28mself\u001b[39m.w * \u001b[38;5;28mself\u001b[39m._dfun(x),\n\u001b[32m     45\u001b[39m     \u001b[38;5;28;01mlambda\u001b[39;00m x: \u001b[38;5;28mself\u001b[39m.w * \u001b[38;5;28mself\u001b[39m._d2fun(x),\n\u001b[32m     46\u001b[39m )\n\u001b[32m     47\u001b[39m \u001b[38;5;28mself\u001b[39m.conjugate_fun = C2Function(\n\u001b[32m---> \u001b[39m\u001b[32m48\u001b[39m     \u001b[38;5;28;01mlambda\u001b[39;00m z: \u001b[38;5;28mself\u001b[39m.w * \u001b[38;5;28mself\u001b[39m._conjugate_fun(\u001b[43mz\u001b[49m\u001b[43m \u001b[49m\u001b[43m/\u001b[49m\u001b[43m \u001b[49m\u001b[38;5;28;43mself\u001b[39;49m\u001b[43m.\u001b[49m\u001b[43mw\u001b[49m),\n\u001b[32m     49\u001b[39m     \u001b[38;5;28;01mlambda\u001b[39;00m z: \u001b[38;5;28mself\u001b[39m._conjugate_dfun(z / \u001b[38;5;28mself\u001b[39m.w),\n\u001b[32m     50\u001b[39m     \u001b[38;5;28;01mlambda\u001b[39;00m z: \u001b[38;5;28mself\u001b[39m._conjugate_d2fun(z / \u001b[38;5;28mself\u001b[39m.w) / \u001b[38;5;28mself\u001b[39m.w,\n\u001b[32m     51\u001b[39m )\n",
      "\u001b[31mValueError\u001b[39m: operands could not be broadcast together with shapes (93,) (92,) "
     ]
    }
   ],
   "source": [
    "data_builder = DataBuilder(\n",
    "    dim_specs={'cause': '_all', 'race': 0, 'county': 0},\n",
    "    value='value',\n",
    "    weights='weights',\n",
    ")\n",
    "data = data_builder.build(df)\n",
    "\n",
    "solver = DualSolver(distance='entropic', data=data)\n",
    "soln = solver.solve()"
   ]
  },
  {
   "cell_type": "markdown",
   "id": "b599b3f9-2f6a-422f-af7d-0e14747cefd7",
   "metadata": {},
   "source": [
    "Remove the rows with missing data and rake."
   ]
  },
  {
   "cell_type": "code",
   "execution_count": 9,
   "id": "fb26eb14-fd56-4d1a-9af1-7cd7b5078e27",
   "metadata": {},
   "outputs": [
    {
     "name": "stderr",
     "output_type": "stream",
     "text": [
      "/Users/ducela/Documents/Raking/ihmeuw-msca/raking/src/raking/experimental/data.py:231: FutureWarning: The behavior of DataFrame concatenation with empty or all-NA entries is deprecated. In a future version, this will no longer exclude empty or all-NA columns when determining the result dtypes. To retain the old behavior, exclude the relevant entries before the concat operation.\n",
      "  df_i_to_j = pd.concat(\n"
     ]
    }
   ],
   "source": [
    "df2 = df.copy(deep=True).dropna()\n",
    "\n",
    "data_builder = DataBuilder(\n",
    "    dim_specs={'cause': '_all', 'race': 0, 'county': 0},\n",
    "    value='value',\n",
    "    weights='weights',\n",
    ")\n",
    "data2 = data_builder.build(df2)\n",
    "\n",
    "solver2 = DualSolver(distance='entropic', data=data2)\n",
    "soln2 = solver2.solve()"
   ]
  },
  {
   "cell_type": "markdown",
   "id": "373fe2a0-5267-4654-ad24-0c05b615a5b9",
   "metadata": {},
   "source": [
    "Compute the margins."
   ]
  },
  {
   "cell_type": "code",
   "execution_count": 16,
   "id": "75a4b7f5-d7ca-4c92-872f-7d482db41ccd",
   "metadata": {},
   "outputs": [],
   "source": [
    "sum_over_cause = soln2.groupby(['race', 'county']).agg({'soln': 'sum'}).reset_index()\n",
    "sum_over_cause['cause'] = '_all'\n",
    "\n",
    "sum_over_race = soln2.groupby(['cause', 'county']).agg({'soln': 'sum'}).reset_index()\n",
    "sum_over_race['race'] = 0\n",
    "\n",
    "sum_over_cause_race = soln2.groupby(['county']).agg({'soln': 'sum'}).reset_index()\n",
    "sum_over_cause_race['cause'] = '_all'\n",
    "sum_over_cause_race['race'] = 0\n",
    "\n",
    "sum_over_race_county = soln2.groupby(['cause']).agg({'soln': 'sum'}).reset_index()\n",
    "sum_over_race_county['race'] = 0\n",
    "sum_over_race_county['county'] = 0\n",
    "\n",
    "result = pd.concat([soln2, sum_over_cause, sum_over_race, sum_over_cause_race, sum_over_race_county]). \\\n",
    "    merge(df, how='inner', on=['cause', 'race', 'county'])"
   ]
  },
  {
   "cell_type": "markdown",
   "id": "bab6e67a-cb6d-44da-aaf2-9aeae64fe554",
   "metadata": {},
   "source": [
    "Check if the margins are respected."
   ]
  },
  {
   "cell_type": "code",
   "execution_count": 23,
   "id": "104ba57f-d91f-4f9a-ba65-eb0aa4b5b084",
   "metadata": {},
   "outputs": [
    {
     "data": {
      "text/plain": [
       "True"
      ]
     },
     "execution_count": 23,
     "metadata": {},
     "output_type": "execute_result"
    }
   ],
   "source": [
    "np.allclose(result.loc[(result.race==0)&(result.county==0)].value.to_numpy(), \\\n",
    "            result.loc[(result.race==0)&(result.county==0)].soln.to_numpy())"
   ]
  },
  {
   "cell_type": "code",
   "execution_count": 25,
   "id": "25640aae-e40a-40ce-86b7-3aa4b9893c8a",
   "metadata": {},
   "outputs": [
    {
     "data": {
      "text/plain": [
       "[<matplotlib.lines.Line2D at 0x1602da510>]"
      ]
     },
     "execution_count": 25,
     "metadata": {},
     "output_type": "execute_result"
    },
    {
     "data": {
      "image/png": "[encoded data removed]",
      "text/plain": [
       "<Figure size 640x480 with 1 Axes>"
      ]
     },
     "metadata": {},
     "output_type": "display_data"
    }
   ],
   "source": [
    "plt.plot(result.value.to_numpy(), result.soln.to_numpy(), 'ko')"
   ]
  },
  {
   "cell_type": "markdown",
   "id": "2c97753d-02df-47a9-bf18-beceda578979",
   "metadata": {},
   "source": [
    "Impute some data where they are missing to avoid having an entire row of missing data."
   ]
  },
  {
   "cell_type": "code",
   "execution_count": 49,
   "id": "a95cc73a-1050-4777-9f28-80aefb3bc628",
   "metadata": {},
   "outputs": [
    {
     "name": "stderr",
     "output_type": "stream",
     "text": [
      "/Users/ducela/Documents/Raking/ihmeuw-msca/raking/src/raking/experimental/data.py:231: FutureWarning: The behavior of DataFrame concatenation with empty or all-NA entries is deprecated. In a future version, this will no longer exclude empty or all-NA columns when determining the result dtypes. To retain the old behavior, exclude the relevant entries before the concat operation.\n",
      "  df_i_to_j = pd.concat(\n"
     ]
    },
    {
     "ename": "ValueError",
     "evalue": "operands could not be broadcast together with shapes (93,) (92,) ",
     "output_type": "error",
     "traceback": [
      "\u001b[31m---------------------------------------------------------------------------\u001b[39m",
      "\u001b[31mValueError\u001b[39m                                Traceback (most recent call last)",
      "\u001b[36mCell\u001b[39m\u001b[36m \u001b[39m\u001b[32mIn[49]\u001b[39m\u001b[32m, line 14\u001b[39m\n\u001b[32m     11\u001b[39m data3 = data_builder.build(df3)\n\u001b[32m     13\u001b[39m solver3 = DualSolver(distance=\u001b[33m'\u001b[39m\u001b[33mentropic\u001b[39m\u001b[33m'\u001b[39m, data=data3)\n\u001b[32m---> \u001b[39m\u001b[32m14\u001b[39m soln3 = \u001b[43msolver3\u001b[49m\u001b[43m.\u001b[49m\u001b[43msolve\u001b[49m\u001b[43m(\u001b[49m\u001b[43m)\u001b[49m\n",
      "\u001b[36mFile \u001b[39m\u001b[32m~/Documents/Raking/ihmeuw-msca/raking/src/raking/experimental/solver.py:71\u001b[39m, in \u001b[36mDualSolver.solve\u001b[39m\u001b[34m(self, x0, method, options)\u001b[39m\n\u001b[32m     68\u001b[39m \u001b[38;5;28;01mif\u001b[39;00m method \u001b[38;5;129;01mis\u001b[39;00m \u001b[38;5;28;01mNone\u001b[39;00m:\n\u001b[32m     69\u001b[39m     method = \u001b[33m\"\u001b[39m\u001b[33mNewton-CG\u001b[39m\u001b[33m\"\u001b[39m \u001b[38;5;28;01mif\u001b[39;00m \u001b[38;5;28mself\u001b[39m.vec_c.size == \u001b[32m0\u001b[39m \u001b[38;5;28;01melse\u001b[39;00m \u001b[33m\"\u001b[39m\u001b[33mtrust-constr\u001b[39m\u001b[33m\"\u001b[39m\n\u001b[32m---> \u001b[39m\u001b[32m71\u001b[39m \u001b[38;5;28mself\u001b[39m.result = \u001b[43mminimize\u001b[49m\u001b[43m(\u001b[49m\n\u001b[32m     72\u001b[39m \u001b[43m    \u001b[49m\u001b[38;5;28;43mself\u001b[39;49m\u001b[43m.\u001b[49m\u001b[43mobjective\u001b[49m\u001b[43m,\u001b[49m\n\u001b[32m     73\u001b[39m \u001b[43m    \u001b[49m\u001b[43mx0\u001b[49m\u001b[43m,\u001b[49m\n\u001b[32m     74\u001b[39m \u001b[43m    \u001b[49m\u001b[43mmethod\u001b[49m\u001b[43m=\u001b[49m\u001b[43mmethod\u001b[49m\u001b[43m,\u001b[49m\n\u001b[32m     75\u001b[39m \u001b[43m    \u001b[49m\u001b[43mjac\u001b[49m\u001b[43m=\u001b[49m\u001b[38;5;28;43mself\u001b[39;49m\u001b[43m.\u001b[49m\u001b[43mgradient\u001b[49m\u001b[43m,\u001b[49m\n\u001b[32m     76\u001b[39m \u001b[43m    \u001b[49m\u001b[43mhess\u001b[49m\u001b[43m=\u001b[49m\u001b[38;5;28;43mself\u001b[39;49m\u001b[43m.\u001b[49m\u001b[43mhessian\u001b[49m\u001b[43m,\u001b[49m\n\u001b[32m     77\u001b[39m \u001b[43m    \u001b[49m\u001b[43mconstraints\u001b[49m\u001b[43m=\u001b[49m\u001b[43mconstraints\u001b[49m\u001b[43m,\u001b[49m\n\u001b[32m     78\u001b[39m \u001b[43m    \u001b[49m\u001b[43moptions\u001b[49m\u001b[43m=\u001b[49m\u001b[43moptions\u001b[49m\u001b[43m,\u001b[49m\n\u001b[32m     79\u001b[39m \u001b[43m\u001b[49m\u001b[43m)\u001b[49m\n\u001b[32m     81\u001b[39m soln = \u001b[38;5;28mself\u001b[39m.data[\u001b[33m\"\u001b[39m\u001b[33mspan\u001b[39m\u001b[33m\"\u001b[39m].copy()\n\u001b[32m     82\u001b[39m soln[\u001b[33m\"\u001b[39m\u001b[33msoln\u001b[39m\u001b[33m\"\u001b[39m] = \u001b[38;5;28mself\u001b[39m.dual_to_primal(\u001b[38;5;28mself\u001b[39m.result.x)\n",
      "\u001b[36mFile \u001b[39m\u001b[32m~/anaconda3/envs/env_raking/lib/python3.12/site-packages/scipy/optimize/_minimize.py:753\u001b[39m, in \u001b[36mminimize\u001b[39m\u001b[34m(fun, x0, args, method, jac, hess, hessp, bounds, constraints, tol, callback, options)\u001b[39m\n\u001b[32m    750\u001b[39m     res = _minimize_slsqp(fun, x0, args, jac, bounds,\n\u001b[32m    751\u001b[39m                           constraints, callback=callback, **options)\n\u001b[32m    752\u001b[39m \u001b[38;5;28;01melif\u001b[39;00m meth == \u001b[33m'\u001b[39m\u001b[33mtrust-constr\u001b[39m\u001b[33m'\u001b[39m:\n\u001b[32m--> \u001b[39m\u001b[32m753\u001b[39m     res = \u001b[43m_minimize_trustregion_constr\u001b[49m\u001b[43m(\u001b[49m\u001b[43mfun\u001b[49m\u001b[43m,\u001b[49m\u001b[43m \u001b[49m\u001b[43mx0\u001b[49m\u001b[43m,\u001b[49m\u001b[43m \u001b[49m\u001b[43margs\u001b[49m\u001b[43m,\u001b[49m\u001b[43m \u001b[49m\u001b[43mjac\u001b[49m\u001b[43m,\u001b[49m\u001b[43m \u001b[49m\u001b[43mhess\u001b[49m\u001b[43m,\u001b[49m\u001b[43m \u001b[49m\u001b[43mhessp\u001b[49m\u001b[43m,\u001b[49m\n\u001b[32m    754\u001b[39m \u001b[43m                                       \u001b[49m\u001b[43mbounds\u001b[49m\u001b[43m,\u001b[49m\u001b[43m \u001b[49m\u001b[43mconstraints\u001b[49m\u001b[43m,\u001b[49m\n\u001b[32m    755\u001b[39m \u001b[43m                                       \u001b[49m\u001b[43mcallback\u001b[49m\u001b[43m=\u001b[49m\u001b[43mcallback\u001b[49m\u001b[43m,\u001b[49m\u001b[43m \u001b[49m\u001b[43m*\u001b[49m\u001b[43m*\u001b[49m\u001b[43moptions\u001b[49m\u001b[43m)\u001b[49m\n\u001b[32m    756\u001b[39m \u001b[38;5;28;01melif\u001b[39;00m meth == \u001b[33m'\u001b[39m\u001b[33mdogleg\u001b[39m\u001b[33m'\u001b[39m:\n\u001b[32m    757\u001b[39m     res = _minimize_dogleg(fun, x0, args, jac, hess,\n\u001b[32m    758\u001b[39m                            callback=callback, **options)\n",
      "\u001b[36mFile \u001b[39m\u001b[32m~/anaconda3/envs/env_raking/lib/python3.12/site-packages/scipy/optimize/_trustregion_constr/minimize_trustregion_constr.py:345\u001b[39m, in \u001b[36m_minimize_trustregion_constr\u001b[39m\u001b[34m(fun, x0, args, grad, hess, hessp, bounds, constraints, xtol, gtol, barrier_tol, sparse_jacobian, callback, maxiter, verbose, finite_diff_rel_step, initial_constr_penalty, initial_tr_radius, initial_barrier_parameter, initial_barrier_tolerance, factorization_method, disp)\u001b[39m\n\u001b[32m    342\u001b[39m     finite_diff_bounds = (-np.inf, np.inf)\n\u001b[32m    344\u001b[39m \u001b[38;5;66;03m# Define Objective Function\u001b[39;00m\n\u001b[32m--> \u001b[39m\u001b[32m345\u001b[39m objective = \u001b[43mScalarFunction\u001b[49m\u001b[43m(\u001b[49m\u001b[43mfun\u001b[49m\u001b[43m,\u001b[49m\u001b[43m \u001b[49m\u001b[43mx0\u001b[49m\u001b[43m,\u001b[49m\u001b[43m \u001b[49m\u001b[43margs\u001b[49m\u001b[43m,\u001b[49m\u001b[43m \u001b[49m\u001b[43mgrad\u001b[49m\u001b[43m,\u001b[49m\u001b[43m \u001b[49m\u001b[43mhess\u001b[49m\u001b[43m,\u001b[49m\n\u001b[32m    346\u001b[39m \u001b[43m                           \u001b[49m\u001b[43mfinite_diff_rel_step\u001b[49m\u001b[43m,\u001b[49m\u001b[43m \u001b[49m\u001b[43mfinite_diff_bounds\u001b[49m\u001b[43m)\u001b[49m\n\u001b[32m    348\u001b[39m \u001b[38;5;66;03m# Put constraints in list format when needed.\u001b[39;00m\n\u001b[32m    349\u001b[39m \u001b[38;5;28;01mif\u001b[39;00m \u001b[38;5;28misinstance\u001b[39m(constraints, (NonlinearConstraint | LinearConstraint)):\n",
      "\u001b[36mFile \u001b[39m\u001b[32m~/anaconda3/envs/env_raking/lib/python3.12/site-packages/scipy/optimize/_differentiable_functions.py:223\u001b[39m, in \u001b[36mScalarFunction.__init__\u001b[39m\u001b[34m(self, fun, x0, args, grad, hess, finite_diff_rel_step, finite_diff_bounds, epsilon)\u001b[39m\n\u001b[32m    220\u001b[39m     finite_diff_options[\u001b[33m\"\u001b[39m\u001b[33mas_linear_operator\u001b[39m\u001b[33m\"\u001b[39m] = \u001b[38;5;28;01mTrue\u001b[39;00m\n\u001b[32m    222\u001b[39m \u001b[38;5;66;03m# Initial function evaluation\u001b[39;00m\n\u001b[32m--> \u001b[39m\u001b[32m223\u001b[39m \u001b[38;5;28;43mself\u001b[39;49m\u001b[43m.\u001b[49m\u001b[43m_update_fun\u001b[49m\u001b[43m(\u001b[49m\u001b[43m)\u001b[49m\n\u001b[32m    225\u001b[39m \u001b[38;5;66;03m# Initial gradient evaluation\u001b[39;00m\n\u001b[32m    226\u001b[39m \u001b[38;5;28mself\u001b[39m._wrapped_grad, \u001b[38;5;28mself\u001b[39m._ngev = _wrapper_grad(\n\u001b[32m    227\u001b[39m     grad,\n\u001b[32m    228\u001b[39m     fun=\u001b[38;5;28mself\u001b[39m._wrapped_fun,\n\u001b[32m    229\u001b[39m     args=args,\n\u001b[32m    230\u001b[39m     finite_diff_options=finite_diff_options\n\u001b[32m    231\u001b[39m )\n",
      "\u001b[36mFile \u001b[39m\u001b[32m~/anaconda3/envs/env_raking/lib/python3.12/site-packages/scipy/optimize/_differentiable_functions.py:295\u001b[39m, in \u001b[36mScalarFunction._update_fun\u001b[39m\u001b[34m(self)\u001b[39m\n\u001b[32m    293\u001b[39m \u001b[38;5;28;01mdef\u001b[39;00m\u001b[38;5;250m \u001b[39m\u001b[34m_update_fun\u001b[39m(\u001b[38;5;28mself\u001b[39m):\n\u001b[32m    294\u001b[39m     \u001b[38;5;28;01mif\u001b[39;00m \u001b[38;5;129;01mnot\u001b[39;00m \u001b[38;5;28mself\u001b[39m.f_updated:\n\u001b[32m--> \u001b[39m\u001b[32m295\u001b[39m         fx = \u001b[38;5;28;43mself\u001b[39;49m\u001b[43m.\u001b[49m\u001b[43m_wrapped_fun\u001b[49m\u001b[43m(\u001b[49m\u001b[38;5;28;43mself\u001b[39;49m\u001b[43m.\u001b[49m\u001b[43mx\u001b[49m\u001b[43m)\u001b[49m\n\u001b[32m    296\u001b[39m         \u001b[38;5;28;01mif\u001b[39;00m fx < \u001b[38;5;28mself\u001b[39m._lowest_f:\n\u001b[32m    297\u001b[39m             \u001b[38;5;28mself\u001b[39m._lowest_x = \u001b[38;5;28mself\u001b[39m.x\n",
      "\u001b[36mFile \u001b[39m\u001b[32m~/anaconda3/envs/env_raking/lib/python3.12/site-packages/scipy/optimize/_differentiable_functions.py:21\u001b[39m, in \u001b[36m_wrapper_fun.<locals>.wrapped\u001b[39m\u001b[34m(x)\u001b[39m\n\u001b[32m     17\u001b[39m ncalls[\u001b[32m0\u001b[39m] += \u001b[32m1\u001b[39m\n\u001b[32m     18\u001b[39m \u001b[38;5;66;03m# Send a copy because the user may overwrite it.\u001b[39;00m\n\u001b[32m     19\u001b[39m \u001b[38;5;66;03m# Overwriting results in undefined behaviour because\u001b[39;00m\n\u001b[32m     20\u001b[39m \u001b[38;5;66;03m# fun(self.x) will change self.x, with the two no longer linked.\u001b[39;00m\n\u001b[32m---> \u001b[39m\u001b[32m21\u001b[39m fx = \u001b[43mfun\u001b[49m\u001b[43m(\u001b[49m\u001b[43mnp\u001b[49m\u001b[43m.\u001b[49m\u001b[43mcopy\u001b[49m\u001b[43m(\u001b[49m\u001b[43mx\u001b[49m\u001b[43m)\u001b[49m\u001b[43m,\u001b[49m\u001b[43m \u001b[49m\u001b[43m*\u001b[49m\u001b[43margs\u001b[49m\u001b[43m)\u001b[49m\n\u001b[32m     22\u001b[39m \u001b[38;5;66;03m# Make sure the function returns a true scalar\u001b[39;00m\n\u001b[32m     23\u001b[39m \u001b[38;5;28;01mif\u001b[39;00m \u001b[38;5;129;01mnot\u001b[39;00m np.isscalar(fx):\n",
      "\u001b[36mFile \u001b[39m\u001b[32m~/Documents/Raking/ihmeuw-msca/raking/src/raking/experimental/solver.py:31\u001b[39m, in \u001b[36mDualSolver.objective\u001b[39m\u001b[34m(self, x)\u001b[39m\n\u001b[32m     30\u001b[39m \u001b[38;5;28;01mdef\u001b[39;00m\u001b[38;5;250m \u001b[39m\u001b[34mobjective\u001b[39m(\u001b[38;5;28mself\u001b[39m, x: npt.NDArray) -> \u001b[38;5;28mfloat\u001b[39m:\n\u001b[32m---> \u001b[39m\u001b[32m31\u001b[39m     \u001b[38;5;28;01mreturn\u001b[39;00m \u001b[38;5;28;43mself\u001b[39;49m\u001b[43m.\u001b[49m\u001b[43mfun\u001b[49m\u001b[43m(\u001b[49m\u001b[38;5;28;43mself\u001b[39;49m\u001b[43m.\u001b[49m\u001b[43mmat_o\u001b[49m\u001b[43m \u001b[49m\u001b[43m@\u001b[49m\u001b[43m \u001b[49m\u001b[43mx\u001b[49m\u001b[43m,\u001b[49m\u001b[43m \u001b[49m\u001b[43morder\u001b[49m\u001b[43m=\u001b[49m\u001b[32;43m0\u001b[39;49m\u001b[43m)\u001b[49m.sum() + \u001b[38;5;28mself\u001b[39m.vec_o @ x\n",
      "\u001b[36mFile \u001b[39m\u001b[32m~/Documents/Raking/ihmeuw-msca/raking/src/raking/experimental/distance.py:23\u001b[39m, in \u001b[36mC2Function.__call__\u001b[39m\u001b[34m(self, x, order)\u001b[39m\n\u001b[32m     21\u001b[39m \u001b[38;5;28;01mmatch\u001b[39;00m order:\n\u001b[32m     22\u001b[39m     \u001b[38;5;28;01mcase\u001b[39;00m \u001b[32m0\u001b[39m:\n\u001b[32m---> \u001b[39m\u001b[32m23\u001b[39m         \u001b[38;5;28;01mreturn\u001b[39;00m \u001b[38;5;28;43mself\u001b[39;49m\u001b[43m.\u001b[49m\u001b[43mfun\u001b[49m\u001b[43m(\u001b[49m\u001b[43mx\u001b[49m\u001b[43m)\u001b[49m\n\u001b[32m     24\u001b[39m     \u001b[38;5;28;01mcase\u001b[39;00m \u001b[32m1\u001b[39m:\n\u001b[32m     25\u001b[39m         \u001b[38;5;28;01mreturn\u001b[39;00m \u001b[38;5;28mself\u001b[39m.dfun(x)\n",
      "\u001b[36mFile \u001b[39m\u001b[32m~/Documents/Raking/ihmeuw-msca/raking/src/raking/experimental/distance.py:48\u001b[39m, in \u001b[36mDistance.__init__.<locals>.<lambda>\u001b[39m\u001b[34m(z)\u001b[39m\n\u001b[32m     40\u001b[39m \u001b[38;5;28mself\u001b[39m.y, \u001b[38;5;28mself\u001b[39m.w, \u001b[38;5;28mself\u001b[39m.l, \u001b[38;5;28mself\u001b[39m.u = y, w, l, u\n\u001b[32m     42\u001b[39m \u001b[38;5;28mself\u001b[39m.fun = C2Function(\n\u001b[32m     43\u001b[39m     \u001b[38;5;28;01mlambda\u001b[39;00m x: \u001b[38;5;28mself\u001b[39m.w * \u001b[38;5;28mself\u001b[39m._fun(x),\n\u001b[32m     44\u001b[39m     \u001b[38;5;28;01mlambda\u001b[39;00m x: \u001b[38;5;28mself\u001b[39m.w * \u001b[38;5;28mself\u001b[39m._dfun(x),\n\u001b[32m     45\u001b[39m     \u001b[38;5;28;01mlambda\u001b[39;00m x: \u001b[38;5;28mself\u001b[39m.w * \u001b[38;5;28mself\u001b[39m._d2fun(x),\n\u001b[32m     46\u001b[39m )\n\u001b[32m     47\u001b[39m \u001b[38;5;28mself\u001b[39m.conjugate_fun = C2Function(\n\u001b[32m---> \u001b[39m\u001b[32m48\u001b[39m     \u001b[38;5;28;01mlambda\u001b[39;00m z: \u001b[38;5;28mself\u001b[39m.w * \u001b[38;5;28mself\u001b[39m._conjugate_fun(\u001b[43mz\u001b[49m\u001b[43m \u001b[49m\u001b[43m/\u001b[49m\u001b[43m \u001b[49m\u001b[38;5;28;43mself\u001b[39;49m\u001b[43m.\u001b[49m\u001b[43mw\u001b[49m),\n\u001b[32m     49\u001b[39m     \u001b[38;5;28;01mlambda\u001b[39;00m z: \u001b[38;5;28mself\u001b[39m._conjugate_dfun(z / \u001b[38;5;28mself\u001b[39m.w),\n\u001b[32m     50\u001b[39m     \u001b[38;5;28;01mlambda\u001b[39;00m z: \u001b[38;5;28mself\u001b[39m._conjugate_d2fun(z / \u001b[38;5;28mself\u001b[39m.w) / \u001b[38;5;28mself\u001b[39m.w,\n\u001b[32m     51\u001b[39m )\n",
      "\u001b[31mValueError\u001b[39m: operands could not be broadcast together with shapes (93,) (92,) "
     ]
    }
   ],
   "source": [
    "df3 = df.copy(deep=True)\n",
    "df3.loc[60, 'value'] = result.loc[(result.race==3)&(result.county==533)&(result.cause=='_all')].soln.iloc[0]\n",
    "df3.loc[61, 'value'] = result.loc[(result.race==3)&(result.county==533)&(result.cause=='_comm')].soln.iloc[0]\n",
    "df3.loc[62, 'value'] = result.loc[(result.race==3)&(result.county==533)&(result.cause=='_inj')].soln.iloc[0]\n",
    "\n",
    "data_builder = DataBuilder(\n",
    "    dim_specs={'cause': '_all', 'race': 0, 'county': 0},\n",
    "    value='value',\n",
    "    weights='weights',\n",
    ")\n",
    "data3 = data_builder.build(df3)\n",
    "\n",
    "solver3 = DualSolver(distance='entropic', data=data3)\n",
    "soln3 = solver3.solve()"
   ]
  },
  {
   "cell_type": "code",
   "execution_count": null,
   "id": "b12e9832-7988-41fd-92e4-f870b78a9798",
   "metadata": {},
   "outputs": [],
   "source": []
  }
 ],
 "metadata": {
  "kernelspec": {
   "display_name": "Python 3 (ipykernel)",
   "language": "python",
   "name": "python3"
  },
  "language_info": {
   "codemirror_mode": {
    "name": "ipython",
    "version": 3
   },
   "file_extension": ".py",
   "mimetype": "text/x-python",
   "name": "python",
   "nbconvert_exporter": "python",
   "pygments_lexer": "ipython3",
   "version": "3.12.9"
  }
 },
 "nbformat": 4,
 "nbformat_minor": 5
}
