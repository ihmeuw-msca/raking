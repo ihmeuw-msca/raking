{
 "cells": [
  {
   "cell_type": "markdown",
   "id": "2fbbdf0b-e9d0-4ad5-8337-0a668c556201",
   "metadata": {},
   "source": [
    "# Test experimental code on datasets"
   ]
  },
  {
   "cell_type": "code",
   "execution_count": 1,
   "id": "619f05cd-85d9-4280-9ad8-7dd7956926fa",
   "metadata": {},
   "outputs": [],
   "source": [
    "import altair as alt\n",
    "import numpy as np\n",
    "import pandas as pd\n",
    "import os"
   ]
  },
  {
   "cell_type": "code",
   "execution_count": 2,
   "id": "739aafb5-1eda-458f-b981-cec64a107020",
   "metadata": {},
   "outputs": [],
   "source": [
    "os.chdir('/Users/ducela/Documents/Raking/ihmeuw-msca/raking/src/raking/experimental')"
   ]
  },
  {
   "cell_type": "code",
   "execution_count": 3,
   "id": "7ba89382-168e-4b29-8b19-84263e044767",
   "metadata": {},
   "outputs": [],
   "source": [
    "from data import DataBuilder\n",
    "from solver import DualSolver"
   ]
  },
  {
   "cell_type": "code",
   "execution_count": 4,
   "id": "fe439805-5c96-4079-8c15-f04af79fcdd8",
   "metadata": {},
   "outputs": [],
   "source": [
    "os.chdir('/Users/ducela/Documents/Raking/ihmeuw-msca/raking/tests')"
   ]
  },
  {
   "cell_type": "code",
   "execution_count": 5,
   "id": "34956648-39ca-46b2-a3d3-d4cf498da73b",
   "metadata": {},
   "outputs": [],
   "source": [
    "from conftest import *"
   ]
  },
  {
   "cell_type": "code",
   "execution_count": 6,
   "id": "f22c097f-cade-4eb7-a83b-b13b06c7c350",
   "metadata": {},
   "outputs": [],
   "source": [
    "os.chdir('/Users/ducela/Documents/Raking/ihmeuw-msca/raking/src/raking')"
   ]
  },
  {
   "cell_type": "code",
   "execution_count": 7,
   "id": "2efd5f7b-5e3f-4e26-b844-b423ffd4fee4",
   "metadata": {},
   "outputs": [],
   "source": [
    "from run_raking import run_raking"
   ]
  },
  {
   "cell_type": "markdown",
   "id": "8515b650-cc02-4d65-8a7d-b44f4a6fcd90",
   "metadata": {},
   "source": [
    "# USHD example"
   ]
  },
  {
   "cell_type": "markdown",
   "id": "4e9c9d18-a03a-454c-afd7-f0386654acee",
   "metadata": {},
   "source": [
    "Current version of the code."
   ]
  },
  {
   "cell_type": "code",
   "execution_count": 8,
   "id": "70820c38-61d4-49bb-9a91-daabc3607066",
   "metadata": {},
   "outputs": [],
   "source": [
    "example_USHD = ExampleUSHD()"
   ]
  },
  {
   "cell_type": "code",
   "execution_count": 9,
   "id": "c3821a0e-d1be-4c14-8c4b-b7826fd2e909",
   "metadata": {},
   "outputs": [],
   "source": [
    "(df_raked, Dphi_y, Dphi_s, sigma) = run_raking(\n",
    "    dim='USHD',\n",
    "    df_obs=example_USHD.df_obs,\n",
    "    df_margins=[example_USHD.df_margins],\n",
    "    var_names=None,\n",
    "    method='entropic',\n",
    "    cov_mat=False)"
   ]
  },
  {
   "cell_type": "markdown",
   "id": "5c63794d-9054-46ae-bb23-f6f01bceb6b9",
   "metadata": {},
   "source": [
    "Check if margins are respected."
   ]
  },
  {
   "cell_type": "code",
   "execution_count": 10,
   "id": "071df759-d451-4b08-aafc-eb5f95c21c28",
   "metadata": {},
   "outputs": [
    {
     "data": {
      "text/plain": [
       "True"
      ]
     },
     "execution_count": 10,
     "metadata": {},
     "output_type": "execute_result"
    }
   ],
   "source": [
    "sum_over_race_county = (\n",
    "    df_raked.loc[df_raked.race != 0].groupby(['cause'])\n",
    "    .agg({'raked_value': 'sum'})\n",
    "    .reset_index()\n",
    "    .merge(example_USHD.df_margins, on=['cause'])\n",
    "    )\n",
    "np.allclose(\n",
    "    sum_over_race_county['raked_value'],\n",
    "    sum_over_race_county['value_agg_over_race_county'],\n",
    "    atol=1.0e-5,\n",
    ")"
   ]
  },
  {
   "cell_type": "markdown",
   "id": "b06808c2-bd09-4fe8-8911-d0be23a3d182",
   "metadata": {},
   "source": [
    "Rename values for merging with experimental results."
   ]
  },
  {
   "cell_type": "code",
   "execution_count": 11,
   "id": "096c37ac-801a-43f0-bf64-48478cf218bc",
   "metadata": {},
   "outputs": [],
   "source": [
    "df_raked.replace({'cause': '_all', 'race': 0}, -1, inplace=True)\n",
    "df_raked.drop(columns=['upper'], inplace=True)\n",
    "df_raked.replace({'cause': {'_comm': 1, '_inj': 2, '_ncd': 3}}, inplace=True)"
   ]
  },
  {
   "cell_type": "markdown",
   "id": "8556f02d-799c-412d-b8e7-5aa38f91554c",
   "metadata": {},
   "source": [
    "Experimental version of the code."
   ]
  },
  {
   "cell_type": "code",
   "execution_count": 12,
   "id": "ca929e56-6e24-4f8a-a6d7-10ace9e75a14",
   "metadata": {},
   "outputs": [],
   "source": [
    "example_USHD = ExampleUSHD()"
   ]
  },
  {
   "cell_type": "code",
   "execution_count": 13,
   "id": "d1b41c93-d685-4dd2-991b-553522c5fcdd",
   "metadata": {},
   "outputs": [],
   "source": [
    "df_obs = example_USHD.df_obs\n",
    "df_obs['weights'] = 1.0\n",
    "df_obs.replace({'cause': '_all', 'race': 0}, -1, inplace=True)\n",
    "df_obs.drop(columns=['upper'], inplace=True)\n",
    "df_obs.replace({'cause': {'_comm': 1, '_inj': 2, '_ncd': 3}}, inplace=True)"
   ]
  },
  {
   "cell_type": "code",
   "execution_count": 14,
   "id": "3f7212f2-6eec-4da1-bb59-d1c458c607ce",
   "metadata": {},
   "outputs": [],
   "source": [
    "df_margin = example_USHD.df_margins\n",
    "df_margin['race'] = -1\n",
    "df_margin['county'] = -1\n",
    "df_margin['weights'] = np.inf\n",
    "df_margin.rename(columns={'value_agg_over_race_county': 'value'}, inplace=True)\n",
    "df_margin.replace({'cause': {'_all': -1, '_comm': 1, '_inj': 2, '_ncd': 3}}, inplace=True)"
   ]
  },
  {
   "cell_type": "code",
   "execution_count": 15,
   "id": "a197f86b-d870-4688-899b-b0f5c8e4ca7b",
   "metadata": {},
   "outputs": [],
   "source": [
    "df = pd.concat([df_obs, df_margin])"
   ]
  },
  {
   "cell_type": "code",
   "execution_count": 16,
   "id": "0be1b563-a273-408b-b1b9-4014dce73f23",
   "metadata": {},
   "outputs": [],
   "source": [
    "df = df.astype({'cause': 'int64'})"
   ]
  },
  {
   "cell_type": "code",
   "execution_count": 17,
   "id": "f059a5a5-24e3-4e21-8ced-d6b53b67c6e2",
   "metadata": {},
   "outputs": [],
   "source": [
    "data_builder = DataBuilder(\n",
    "    dim_specs={'cause': -1, 'race': -1, 'county': -1},\n",
    "    value='value',\n",
    "    weights='weights'\n",
    ")"
   ]
  },
  {
   "cell_type": "code",
   "execution_count": 18,
   "id": "c66fdda2-1ef1-479a-b5cf-d60c567393f6",
   "metadata": {},
   "outputs": [
    {
     "name": "stderr",
     "output_type": "stream",
     "text": [
      "/Users/ducela/Documents/Raking/ihmeuw-msca/raking/src/raking/experimental/data.py:230: FutureWarning: The behavior of DataFrame concatenation with empty or all-NA entries is deprecated. In a future version, this will no longer exclude empty or all-NA columns when determining the result dtypes. To retain the old behavior, exclude the relevant entries before the concat operation.\n",
      "  df_i_to_j = pd.concat(\n"
     ]
    }
   ],
   "source": [
    "data = data_builder.build(df)"
   ]
  },
  {
   "cell_type": "code",
   "execution_count": 19,
   "id": "8cd7139d-db67-4d8d-9575-3c540c4618d8",
   "metadata": {},
   "outputs": [],
   "source": [
    "solver = DualSolver(distance='entropic', data=data)"
   ]
  },
  {
   "cell_type": "code",
   "execution_count": 20,
   "id": "44ec2aba-997f-437f-8e8d-129d4a2c19e3",
   "metadata": {},
   "outputs": [],
   "source": [
    "df_exp = solver.solve()"
   ]
  },
  {
   "cell_type": "markdown",
   "id": "9ef708bb-522b-488a-b182-4888eaea82dd",
   "metadata": {},
   "source": [
    "Check if margins are respected."
   ]
  },
  {
   "cell_type": "code",
   "execution_count": 21,
   "id": "733f3b8e-503d-409f-9913-ae4c26ead3df",
   "metadata": {},
   "outputs": [
    {
     "data": {
      "text/plain": [
       "True"
      ]
     },
     "execution_count": 21,
     "metadata": {},
     "output_type": "execute_result"
    }
   ],
   "source": [
    "sum_over_race_county = (\n",
    "    df_exp.groupby(['cause'])\n",
    "    .agg({'soln': 'sum'})\n",
    "    .reset_index()\n",
    "    .merge(df_margin, on=['cause'])\n",
    "    )\n",
    "np.allclose(\n",
    "    sum_over_race_county['soln'],\n",
    "    sum_over_race_county['value'],\n",
    "    atol=1.0e-5,\n",
    ")"
   ]
  },
  {
   "cell_type": "markdown",
   "id": "207ae38e-3a70-4e94-8032-98b5c411311f",
   "metadata": {},
   "source": [
    "Add partial sums to dataset."
   ]
  },
  {
   "cell_type": "code",
   "execution_count": 22,
   "id": "609a2f17-079a-42d8-93c2-0a96d4acd2eb",
   "metadata": {},
   "outputs": [],
   "source": [
    "sum_over_cause = (\n",
    "    df_exp.groupby(['race', 'county'])\n",
    "    .agg({'soln': 'sum'})\n",
    "    .reset_index()\n",
    ")\n",
    "sum_over_cause['cause'] = -1"
   ]
  },
  {
   "cell_type": "code",
   "execution_count": 23,
   "id": "dfd70e00-8432-421d-b3ef-b6f278dc8262",
   "metadata": {},
   "outputs": [],
   "source": [
    "sum_over_race = (\n",
    "    df_exp.groupby(['cause', 'county'])\n",
    "    .agg({'soln': 'sum'})\n",
    "    .reset_index()\n",
    ")\n",
    "sum_over_race['race'] = -1"
   ]
  },
  {
   "cell_type": "code",
   "execution_count": 24,
   "id": "e63c2b9e-21f1-4837-ab48-67b19ae5d7f2",
   "metadata": {},
   "outputs": [],
   "source": [
    "sum_over_cause_race = (\n",
    "    df_exp.groupby(['county'])\n",
    "    .agg({'soln': 'sum'})\n",
    "    .reset_index()\n",
    ")\n",
    "sum_over_cause_race['cause'] = -1\n",
    "sum_over_cause_race['race'] = -1"
   ]
  },
  {
   "cell_type": "code",
   "execution_count": 25,
   "id": "7ffc3144-8e4c-478a-bdfc-cca7c8f7aef2",
   "metadata": {},
   "outputs": [],
   "source": [
    "df_exp = pd.concat([df_exp, sum_over_cause, sum_over_race, sum_over_cause_race])"
   ]
  },
  {
   "cell_type": "markdown",
   "id": "21b6ae58-0974-490a-a7a0-c38c44c2e7f7",
   "metadata": {},
   "source": [
    "Create data frame for plotting."
   ]
  },
  {
   "cell_type": "code",
   "execution_count": 26,
   "id": "52ca9479-985f-4751-957c-752597b68e5d",
   "metadata": {},
   "outputs": [],
   "source": [
    "df_raked['version'] = 'current'\n",
    "df_exp['version'] = 'experimental'"
   ]
  },
  {
   "cell_type": "code",
   "execution_count": 27,
   "id": "f6af2947-321a-49a8-ab32-a6ab33bc75db",
   "metadata": {},
   "outputs": [],
   "source": [
    "df_exp = df_exp.merge(df, how='inner', on=['cause', 'race', 'county'])\n",
    "df_exp = df_exp.drop(columns=['weights']).rename(columns={'soln': 'raked_value'})"
   ]
  },
  {
   "cell_type": "code",
   "execution_count": 28,
   "id": "8f91cec8-d385-4ac9-a31a-f8f27dc12881",
   "metadata": {},
   "outputs": [],
   "source": [
    "df_comp = pd.concat([df_raked, df_exp])"
   ]
  },
  {
   "cell_type": "markdown",
   "id": "d09342bd-2748-4af3-8b77-cdfecaa7acfd",
   "metadata": {},
   "source": [
    "Plot."
   ]
  },
  {
   "cell_type": "code",
   "execution_count": 29,
   "id": "dc068aa4-c8db-4e42-8d5c-9568e0ed77f0",
   "metadata": {},
   "outputs": [],
   "source": [
    "min_value = min(df_comp['raked_value'].min(), df_comp['value'].min())\n",
    "max_value = max(df_comp['raked_value'].max(), df_comp['value'].max())\n",
    "\n",
    "x1, x2 = alt.param(value=min_value), alt.param(value=max_value)\n",
    "y1, y2 = alt.param(value=min_value), alt.param(value=max_value)\n",
    "line = alt.Chart().mark_rule(color='grey').encode(\n",
    "    x=alt.datum(x1, type='quantitative'),\n",
    "    x2=alt.datum(x2, type='quantitative'),\n",
    "    y=alt.datum(y1, type='quantitative'),\n",
    "    y2=alt.datum(y2, type='quantitative')\n",
    ").add_params(x1, x2, y1, y2)\n",
    "\n",
    "mx = alt.Chart().mark_point(size=80, filled=True).encode(\n",
    "        x=alt.X('value:Q', axis=alt.Axis(title='Observations'), scale=alt.Scale(domain=[x1, x2])),\n",
    "        y=alt.Y('raked_value:Q', axis=alt.Axis(title='Raked values'), scale=alt.Scale(domain=[y1, y2])),\n",
    "        color=alt.Color('version:N', legend=alt.Legend(title='Version')),\n",
    "        shape=alt.Shape('version:N', legend=alt.Legend(title='Version'))\n",
    "    )\n",
    "chart = alt.layer(line, mx, data=df_comp).configure_axis(\n",
    "        labelFontSize=18,\n",
    "        titleFontSize=18\n",
    "    ).configure_legend(\n",
    "        labelFontSize=12,\n",
    "        titleFontSize=12\n",
    "    )"
   ]
  },
  {
   "cell_type": "code",
   "execution_count": 30,
   "id": "ed1b8750-0b73-4aa2-a021-7d7e15acae26",
   "metadata": {},
   "outputs": [
    {
     "data": {
      "text/html": [
       "\n",
       "<style>\n",
       "  #altair-viz-ddd6b1eb026a478eb7782af5ac151387.vega-embed {\n",
       "    width: 100%;\n",
       "    display: flex;\n",
       "  }\n",
       "\n",
       "  #altair-viz-ddd6b1eb026a478eb7782af5ac151387.vega-embed details,\n",
       "  #altair-viz-ddd6b1eb026a478eb7782af5ac151387.vega-embed details summary {\n",
       "    position: relative;\n",
       "  }\n",
       "</style>\n",
       "<div id=\"altair-viz-ddd6b1eb026a478eb7782af5ac151387\"></div>\n",
       "<script type=\"text/javascript\">\n",
       "  var VEGA_DEBUG = (typeof VEGA_DEBUG == \"undefined\") ? {} : VEGA_DEBUG;\n",
       "  (function(spec, embedOpt){\n",
       "    let outputDiv = document.currentScript.previousElementSibling;\n",
       "    if (outputDiv.id !== \"altair-viz-ddd6b1eb026a478eb7782af5ac151387\") {\n",
       "      outputDiv = document.getElementById(\"altair-viz-ddd6b1eb026a478eb7782af5ac151387\");\n",
       "    }\n",
       "    const paths = {\n",
       "      \"vega\": \"https://cdn.jsdelivr.net/npm/vega@5?noext\",\n",
       "      \"vega-lib\": \"https://cdn.jsdelivr.net/npm/vega-lib?noext\",\n",
       "      \"vega-lite\": \"https://cdn.jsdelivr.net/npm/vega-lite@5.20.1?noext\",\n",
       "      \"vega-embed\": \"https://cdn.jsdelivr.net/npm/vega-embed@6?noext\",\n",
       "    };\n",
       "\n",
       "    function maybeLoadScript(lib, version) {\n",
       "      var key = `${lib.replace(\"-\", \"\")}_version`;\n",
       "      return (VEGA_DEBUG[key] == version) ?\n",
       "        Promise.resolve(paths[lib]) :\n",
       "        new Promise(function(resolve, reject) {\n",
       "          var s = document.createElement('script');\n",
       "          document.getElementsByTagName(\"head\")[0].appendChild(s);\n",
       "          s.async = true;\n",
       "          s.onload = () => {\n",
       "            VEGA_DEBUG[key] = version;\n",
       "            return resolve(paths[lib]);\n",
       "          };\n",
       "          s.onerror = () => reject(`Error loading script: ${paths[lib]}`);\n",
       "          s.src = paths[lib];\n",
       "        });\n",
       "    }\n",
       "\n",
       "    function showError(err) {\n",
       "      outputDiv.innerHTML = `<div class=\"error\" style=\"color:red;\">${err}</div>`;\n",
       "      throw err;\n",
       "    }\n",
       "\n",
       "    function displayChart(vegaEmbed) {\n",
       "      vegaEmbed(outputDiv, spec, embedOpt)\n",
       "        .catch(err => showError(`Javascript Error: ${err.message}<br>This usually means there's a typo in your chart specification. See the javascript console for the full traceback.`));\n",
       "    }\n",
       "\n",
       "    if(typeof define === \"function\" && define.amd) {\n",
       "      requirejs.config({paths});\n",
       "      require([\"vega-embed\"], displayChart, err => showError(`Error loading script: ${err.message}`));\n",
       "    } else {\n",
       "      maybeLoadScript(\"vega\", \"5\")\n",
       "        .then(() => maybeLoadScript(\"vega-lite\", \"5.20.1\"))\n",
       "        .then(() => maybeLoadScript(\"vega-embed\", \"6\"))\n",
       "        .catch(showError)\n",
       "        .then(() => displayChart(vegaEmbed));\n",
       "    }\n",
       "  })({\"config\": {\"view\": {\"continuousWidth\": 300, \"continuousHeight\": 300}, \"axis\": {\"labelFontSize\": 18, \"titleFontSize\": 18}, \"legend\": {\"labelFontSize\": 12, \"titleFontSize\": 12}}, \"layer\": [{\"mark\": {\"type\": \"rule\", \"color\": \"grey\"}, \"encoding\": {\"x\": {\"type\": \"quantitative\", \"datum\": {\"expr\": \"param_1\"}}, \"x2\": {\"datum\": {\"expr\": \"param_2\"}, \"type\": \"quantitative\"}, \"y\": {\"type\": \"quantitative\", \"datum\": {\"expr\": \"param_3\"}}, \"y2\": {\"datum\": {\"expr\": \"param_4\"}, \"type\": \"quantitative\"}}}, {\"mark\": {\"type\": \"point\", \"filled\": true, \"size\": 80}, \"encoding\": {\"color\": {\"field\": \"version\", \"legend\": {\"title\": \"Version\"}, \"type\": \"nominal\"}, \"shape\": {\"field\": \"version\", \"legend\": {\"title\": \"Version\"}, \"type\": \"nominal\"}, \"x\": {\"axis\": {\"title\": \"Observations\"}, \"field\": \"value\", \"scale\": {\"domain\": [{\"expr\": \"param_1\"}, {\"expr\": \"param_2\"}]}, \"type\": \"quantitative\"}, \"y\": {\"axis\": {\"title\": \"Raked values\"}, \"field\": \"raked_value\", \"scale\": {\"domain\": [{\"expr\": \"param_3\"}, {\"expr\": \"param_4\"}]}, \"type\": \"quantitative\"}}}], \"data\": {\"name\": \"data-ad2458140db46609a69da73e55220bc3\"}, \"params\": [{\"name\": \"param_1\", \"value\": 0.00011757118388692636}, {\"name\": \"param_2\", \"value\": 51.0841745191421}, {\"name\": \"param_3\", \"value\": 0.00011757118388692636}, {\"name\": \"param_4\", \"value\": 51.0841745191421}], \"$schema\": \"https://vega.github.io/schema/vega-lite/v5.20.1.json\", \"datasets\": {\"data-ad2458140db46609a69da73e55220bc3\": [{\"value\": 14.677893078874286, \"cause\": -1, \"race\": -1, \"county\": 301, \"raked_value\": 16.16688838396308, \"version\": \"current\"}, {\"value\": 7.993014151560152, \"cause\": 1, \"race\": -1, \"county\": 301, \"raked_value\": 9.512360793335876, \"version\": \"current\"}, {\"value\": 1.136816028012426, \"cause\": 2, \"race\": -1, \"county\": 301, \"raked_value\": 1.1387929558271705, \"version\": \"current\"}, {\"value\": 5.203133316454257, \"cause\": 3, \"race\": -1, \"county\": 301, \"raked_value\": 5.515734634800043, \"version\": \"current\"}, {\"value\": 7.059582111821383, \"cause\": -1, \"race\": 1, \"county\": 301, \"raked_value\": 7.374846219684568, \"version\": \"current\"}, {\"value\": 3.54645746226416, \"cause\": 1, \"race\": 1, \"county\": 301, \"raked_value\": 3.90313434126342, \"version\": \"current\"}, {\"value\": 0.5812282777162782, \"cause\": 2, \"race\": 1, \"county\": 301, \"raked_value\": 0.5351001330739703, \"version\": \"current\"}, {\"value\": 2.7649797020478637, \"cause\": 3, \"race\": 1, \"county\": 301, \"raked_value\": 2.9366117453471863, \"version\": \"current\"}, {\"value\": 7.096473073487695, \"cause\": -1, \"race\": 2, \"county\": 301, \"raked_value\": 7.39170515311986, \"version\": \"current\"}, {\"value\": 4.3270822589083915, \"cause\": 1, \"race\": 2, \"county\": 301, \"raked_value\": 4.7762361871459555, \"version\": \"current\"}, {\"value\": 0.569003040707177, \"cause\": 2, \"race\": 2, \"county\": 301, \"raked_value\": 0.5253815409708255, \"version\": \"current\"}, {\"value\": 1.962176044479792, \"cause\": 3, \"race\": 2, \"county\": 301, \"raked_value\": 2.0900874250030914, \"version\": \"current\"}, {\"value\": 0.0490881206077501, \"cause\": -1, \"race\": 3, \"county\": 301, \"raked_value\": 0.04939203452294067, \"version\": \"current\"}, {\"value\": 0.0177587403768576, \"cause\": 1, \"race\": 3, \"county\": 301, \"raked_value\": 0.020291977243838355, \"version\": \"current\"}, {\"value\": 0.0042833823146504, \"cause\": 2, \"race\": 3, \"county\": 301, \"raked_value\": 0.004094195975511745, \"version\": \"current\"}, {\"value\": 0.0226774265957626, \"cause\": 3, \"race\": 3, \"county\": 301, \"raked_value\": 0.025005861303590587, \"version\": \"current\"}, {\"value\": 0.1623514401991393, \"cause\": -1, \"race\": 4, \"county\": 301, \"raked_value\": 0.17469785400280222, \"version\": \"current\"}, {\"value\": 0.1015859699634812, \"cause\": 1, \"race\": 4, \"county\": 301, \"raked_value\": 0.10854130187043091, \"version\": \"current\"}, {\"value\": 0.0086562054651239, \"cause\": 2, \"race\": 4, \"county\": 301, \"raked_value\": 0.007736747626290255, \"version\": \"current\"}, {\"value\": 0.0566582250394634, \"cause\": 3, \"race\": 4, \"county\": 301, \"raked_value\": 0.058419804506081086, \"version\": \"current\"}, {\"value\": 1.0700035264010763, \"cause\": -1, \"race\": 7, \"county\": 301, \"raked_value\": 1.1762471226329114, \"version\": \"current\"}, {\"value\": 0.6732713560907986, \"cause\": 1, \"race\": 7, \"county\": 301, \"raked_value\": 0.7041569858122442, \"version\": \"current\"}, {\"value\": 0.0759878727053878, \"cause\": 2, \"race\": 7, \"county\": 301, \"raked_value\": 0.06648033818057277, \"version\": \"current\"}, {\"value\": 0.4018770857318859, \"cause\": 3, \"race\": 7, \"county\": 301, \"raked_value\": 0.4056097986400952, \"version\": \"current\"}, {\"value\": 40.19466928193167, \"cause\": -1, \"race\": -1, \"county\": 302, \"raked_value\": 46.969120534250926, \"version\": \"current\"}, {\"value\": 25.48724593978178, \"cause\": 1, \"race\": -1, \"county\": 302, \"raked_value\": 29.480011574942036, \"version\": \"current\"}, {\"value\": 3.0336506278697297, \"cause\": 2, \"race\": -1, \"county\": 302, \"raked_value\": 3.001492220309262, \"version\": \"current\"}, {\"value\": 14.120819163105876, \"cause\": 3, \"race\": -1, \"county\": 302, \"raked_value\": 14.487616738999636, \"version\": \"current\"}, {\"value\": 15.284045454433103, \"cause\": -1, \"race\": 1, \"county\": 302, \"raked_value\": 15.932865508937118, \"version\": \"current\"}, {\"value\": 8.09506618481639, \"cause\": 1, \"race\": 1, \"county\": 302, \"raked_value\": 8.658632302424, \"version\": \"current\"}, {\"value\": 1.1863663398873456, \"cause\": 2, \"race\": 1, \"county\": 302, \"raked_value\": 1.0445451625837445, \"version\": \"current\"}, {\"value\": 6.009982478241061, \"cause\": 3, \"race\": 1, \"county\": 302, \"raked_value\": 6.229688043929372, \"version\": \"current\"}, {\"value\": 22.016990638655596, \"cause\": -1, \"race\": 2, \"county\": 302, \"raked_value\": 23.892289092894497, \"version\": \"current\"}, {\"value\": 16.031272437197103, \"cause\": 1, \"race\": 2, \"county\": 302, \"raked_value\": 16.47223973868961, \"version\": \"current\"}, {\"value\": 1.923215047207301, \"cause\": 2, \"race\": 2, \"county\": 302, \"raked_value\": 1.6266421459181426, \"version\": \"current\"}, {\"value\": 5.818153770466452, \"cause\": 3, \"race\": 2, \"county\": 302, \"raked_value\": 5.7934072082867445, \"version\": \"current\"}, {\"value\": 0.0300939313679438, \"cause\": -1, \"race\": 3, \"county\": 302, \"raked_value\": 0.03209385416157297, \"version\": \"current\"}, {\"value\": 0.0156249529797551, \"cause\": 1, \"race\": 3, \"county\": 302, \"raked_value\": 0.016336545757216134, \"version\": \"current\"}, {\"value\": 0.0031605347975274, \"cause\": 2, \"race\": 3, \"county\": 302, \"raked_value\": 0.002720079536665117, \"version\": \"current\"}, {\"value\": 0.0128670673690589, \"cause\": 3, \"race\": 3, \"county\": 302, \"raked_value\": 0.013037228867691712, \"version\": \"current\"}, {\"value\": 1.736007988742877, \"cause\": -1, \"race\": 4, \"county\": 302, \"raked_value\": 1.9090554031229638, \"version\": \"current\"}, {\"value\": 1.2080820158512535, \"cause\": 1, \"race\": 4, \"county\": 302, \"raked_value\": 1.2249378922273992, \"version\": \"current\"}, {\"value\": 0.0848565770176806, \"cause\": 2, \"race\": 4, \"county\": 302, \"raked_value\": 0.07082436210295241, \"version\": \"current\"}, {\"value\": 0.6241461022397048, \"cause\": 3, \"race\": 4, \"county\": 302, \"raked_value\": 0.6132931487926122, \"version\": \"current\"}, {\"value\": 4.850779585750163, \"cause\": -1, \"race\": 7, \"county\": 302, \"raked_value\": 5.202816675134788, \"version\": \"current\"}, {\"value\": 2.9895421310981765, \"cause\": 1, \"race\": 7, \"county\": 302, \"raked_value\": 3.107865095843813, \"version\": \"current\"}, {\"value\": 0.3000482989662547, \"cause\": 2, \"race\": 7, \"county\": 302, \"raked_value\": 0.25676047016775677, \"version\": \"current\"}, {\"value\": 1.8246055019885947, \"cause\": 3, \"race\": 7, \"county\": 302, \"raked_value\": 1.8381911091232188, \"version\": \"current\"}, {\"value\": 13.912294004256838, \"cause\": -1, \"race\": -1, \"county\": 303, \"raked_value\": 14.63781426103406, \"version\": \"current\"}, {\"value\": 7.410078585904202, \"cause\": 1, \"race\": -1, \"county\": 303, \"raked_value\": 8.451345716550724, \"version\": \"current\"}, {\"value\": 1.1755414073102264, \"cause\": 2, \"race\": -1, \"county\": 303, \"raked_value\": 1.1331728324970296, \"version\": \"current\"}, {\"value\": 4.881196971742203, \"cause\": 3, \"race\": -1, \"county\": 303, \"raked_value\": 5.053295711986297, \"version\": \"current\"}, {\"value\": 6.241849162845116, \"cause\": -1, \"race\": 1, \"county\": 303, \"raked_value\": 6.8580862685660335, \"version\": \"current\"}, {\"value\": 3.236550592575251, \"cause\": 1, \"race\": 1, \"county\": 303, \"raked_value\": 3.699519821613794, \"version\": \"current\"}, {\"value\": 0.5538425228532007, \"cause\": 2, \"race\": 1, \"county\": 303, \"raked_value\": 0.5274004761827077, \"version\": \"current\"}, {\"value\": 2.430715297187142, \"cause\": 3, \"race\": 1, \"county\": 303, \"raked_value\": 2.631165970769515, \"version\": \"current\"}, {\"value\": 5.004894421171879, \"cause\": -1, \"race\": 2, \"county\": 303, \"raked_value\": 5.2089253757493985, \"version\": \"current\"}, {\"value\": 2.6617000240631903, \"cause\": 1, \"race\": 2, \"county\": 303, \"raked_value\": 3.211874193758354, \"version\": \"current\"}, {\"value\": 0.4183673880597572, \"cause\": 2, \"race\": 2, \"county\": 303, \"raked_value\": 0.4205798903571147, \"version\": \"current\"}, {\"value\": 1.379543685834585, \"cause\": 3, \"race\": 2, \"county\": 303, \"raked_value\": 1.5764712916339216, \"version\": \"current\"}, {\"value\": 0.0698547617989175, \"cause\": -1, \"race\": 3, \"county\": 303, \"raked_value\": 0.06767364810283626, \"version\": \"current\"}, {\"value\": 0.0191755738368906, \"cause\": 1, \"race\": 3, \"county\": 303, \"raked_value\": 0.02485864368211609, \"version\": \"current\"}, {\"value\": 0.004482726843721, \"cause\": 2, \"race\": 3, \"county\": 303, \"raked_value\": 0.004841306719688733, \"version\": \"current\"}, {\"value\": 0.0309316179619552, \"cause\": 3, \"race\": 3, \"county\": 303, \"raked_value\": 0.03797369770103141, \"version\": \"current\"}, {\"value\": 0.1357038752629502, \"cause\": -1, \"race\": 4, \"county\": 303, \"raked_value\": 0.15434025307959925, \"version\": \"current\"}, {\"value\": 0.088222602057403, \"cause\": 1, \"race\": 4, \"county\": 303, \"raked_value\": 0.09741941950062362, \"version\": \"current\"}, {\"value\": 0.0079691613194681, \"cause\": 2, \"race\": 4, \"county\": 303, \"raked_value\": 0.007331106948029011, \"version\": \"current\"}, {\"value\": 0.0474214521021569, \"cause\": 3, \"race\": 4, \"county\": 303, \"raked_value\": 0.04958972663094656, \"version\": \"current\"}, {\"value\": 2.055415037390876, \"cause\": -1, \"race\": 7, \"county\": 303, \"raked_value\": 2.348788715536193, \"version\": \"current\"}, {\"value\": 1.2899356724879472, \"cause\": 1, \"race\": 7, \"county\": 303, \"raked_value\": 1.4176736379958221, \"version\": \"current\"}, {\"value\": 0.1889717853463372, \"cause\": 2, \"race\": 7, \"county\": 303, \"raked_value\": 0.1730200522894896, \"version\": \"current\"}, {\"value\": 0.7283904533236634, \"cause\": 3, \"race\": 7, \"county\": 303, \"raked_value\": 0.7580950252508795, \"version\": \"current\"}, {\"value\": 3.54645746226416, \"cause\": 1, \"race\": 1, \"county\": 301, \"raked_value\": 0.30706435145388955, \"version\": \"experimental\"}, {\"value\": 4.3270822589083915, \"cause\": 1, \"race\": 2, \"county\": 301, \"raked_value\": 0.41340864589057535, \"version\": \"experimental\"}, {\"value\": 0.0177587403768576, \"cause\": 1, \"race\": 3, \"county\": 301, \"raked_value\": 0.8349007486742763, \"version\": \"experimental\"}, {\"value\": 0.1015859699634812, \"cause\": 1, \"race\": 4, \"county\": 301, \"raked_value\": 0.006214718207859681, \"version\": \"experimental\"}, {\"value\": 0.6732713560907986, \"cause\": 1, \"race\": 7, \"county\": 301, \"raked_value\": 0.025210124519267157, \"version\": \"experimental\"}, {\"value\": 8.09506618481639, \"cause\": 1, \"race\": 1, \"county\": 302, \"raked_value\": 0.03345487457350399, \"version\": \"experimental\"}, {\"value\": 16.031272437197103, \"cause\": 1, \"race\": 2, \"county\": 302, \"raked_value\": 2.2197960947237174, \"version\": \"experimental\"}, {\"value\": 0.0156249529797551, \"cause\": 1, \"race\": 3, \"county\": 302, \"raked_value\": 7.07846057958924, \"version\": \"experimental\"}, {\"value\": 1.2080820158512535, \"cause\": 1, \"race\": 4, \"county\": 302, \"raked_value\": 6.29668980837348, \"version\": \"experimental\"}, {\"value\": 2.9895421310981765, \"cause\": 1, \"race\": 7, \"county\": 302, \"raked_value\": 0.020151881584294658, \"version\": \"experimental\"}, {\"value\": 3.236550592575251, \"cause\": 1, \"race\": 1, \"county\": 303, \"raked_value\": 0.37776541184261553, \"version\": \"experimental\"}, {\"value\": 2.6617000240631903, \"cause\": 1, \"race\": 2, \"county\": 303, \"raked_value\": 1.736862337372387, \"version\": \"experimental\"}, {\"value\": 0.0191755738368906, \"cause\": 1, \"race\": 3, \"county\": 303, \"raked_value\": 15.783142164114036, \"version\": \"experimental\"}, {\"value\": 0.088222602057403, \"cause\": 1, \"race\": 4, \"county\": 303, \"raked_value\": 7.036578238952705, \"version\": \"experimental\"}, {\"value\": 1.2899356724879472, \"cause\": 1, \"race\": 7, \"county\": 303, \"raked_value\": 5.274018102446329, \"version\": \"experimental\"}, {\"value\": 0.5812282777162782, \"cause\": 2, \"race\": 1, \"county\": 301, \"raked_value\": 0.0017074042465661085, \"version\": \"experimental\"}, {\"value\": 0.569003040707177, \"cause\": 2, \"race\": 2, \"county\": 301, \"raked_value\": 0.009284691365213727, \"version\": \"experimental\"}, {\"value\": 0.0042833823146504, \"cause\": 2, \"race\": 3, \"county\": 301, \"raked_value\": 0.2825312439347326, \"version\": \"experimental\"}, {\"value\": 0.0086562054651239, \"cause\": 2, \"race\": 4, \"county\": 301, \"raked_value\": 1.1823070495549606, \"version\": \"experimental\"}, {\"value\": 0.0759878727053878, \"cause\": 2, \"race\": 7, \"county\": 301, \"raked_value\": 0.6434106735942948, \"version\": \"experimental\"}, {\"value\": 1.1863663398873456, \"cause\": 2, \"race\": 1, \"county\": 302, \"raked_value\": 0.016218603559529154, \"version\": \"experimental\"}, {\"value\": 1.923215047207301, \"cause\": 2, \"race\": 2, \"county\": 302, \"raked_value\": 0.00011757118388692636, \"version\": \"experimental\"}, {\"value\": 0.0031605347975274, \"cause\": 2, \"race\": 3, \"county\": 302, \"raked_value\": 0.005639990062579145, \"version\": \"experimental\"}, {\"value\": 0.0848565770176806, \"cause\": 2, \"race\": 4, \"county\": 302, \"raked_value\": 0.02308280536189685, \"version\": \"experimental\"}, {\"value\": 0.3000482989662547, \"cause\": 2, \"race\": 7, \"county\": 302, \"raked_value\": 2.0459908913773455, \"version\": \"experimental\"}, {\"value\": 0.5538425228532007, \"cause\": 2, \"race\": 1, \"county\": 303, \"raked_value\": 0.15565731424603524, \"version\": \"experimental\"}, {\"value\": 0.4183673880597572, \"cause\": 2, \"race\": 2, \"county\": 303, \"raked_value\": 0.5072248333441246, \"version\": \"experimental\"}, {\"value\": 0.004482726843721, \"cause\": 2, \"race\": 3, \"county\": 303, \"raked_value\": 0.001566361851288172, \"version\": \"experimental\"}, {\"value\": 0.0079691613194681, \"cause\": 2, \"race\": 4, \"county\": 303, \"raked_value\": 0.12034369100513612, \"version\": \"experimental\"}, {\"value\": 0.1889717853463372, \"cause\": 2, \"race\": 7, \"county\": 303, \"raked_value\": 0.27837487224707247, \"version\": \"experimental\"}, {\"value\": 2.7649797020478637, \"cause\": 3, \"race\": 1, \"county\": 301, \"raked_value\": 0.8049266947377546, \"version\": \"experimental\"}, {\"value\": 1.962176044479792, \"cause\": 3, \"race\": 2, \"county\": 301, \"raked_value\": 0.9841262084703575, \"version\": \"experimental\"}, {\"value\": 0.0226774265957626, \"cause\": 3, \"race\": 3, \"county\": 301, \"raked_value\": 1.6259951142238147, \"version\": \"experimental\"}, {\"value\": 0.0566582250394634, \"cause\": 3, \"race\": 4, \"county\": 301, \"raked_value\": 0.012605533825635416, \"version\": \"experimental\"}, {\"value\": 0.4018770857318859, \"cause\": 3, \"race\": 7, \"county\": 301, \"raked_value\": 0.07113224973291378, \"version\": \"experimental\"}, {\"value\": 6.009982478241061, \"cause\": 3, \"race\": 1, \"county\": 302, \"raked_value\": 0.13085644770750438, \"version\": \"experimental\"}, {\"value\": 5.818153770466452, \"cause\": 3, \"race\": 2, \"county\": 302, \"raked_value\": 0.20369843289343081, \"version\": \"experimental\"}, {\"value\": 0.0128670673690589, \"cause\": 3, \"race\": 3, \"county\": 302, \"raked_value\": 0.8733736981753004, \"version\": \"experimental\"}, {\"value\": 0.6241461022397048, \"cause\": 3, \"race\": 4, \"county\": 302, \"raked_value\": 0.5279852684344359, \"version\": \"experimental\"}, {\"value\": 1.8246055019885947, \"cause\": 3, \"race\": 7, \"county\": 302, \"raked_value\": 0.009306285933206591, \"version\": \"experimental\"}, {\"value\": 2.430715297187142, \"cause\": 3, \"race\": 1, \"county\": 303, \"raked_value\": 0.005460324738183874, \"version\": \"experimental\"}, {\"value\": 1.379543685834585, \"cause\": 3, \"race\": 2, \"county\": 303, \"raked_value\": 0.07887122510342584, \"version\": \"experimental\"}, {\"value\": 0.0309316179619552, \"cause\": 3, \"race\": 3, \"county\": 303, \"raked_value\": 9.97655792707494, \"version\": \"experimental\"}, {\"value\": 0.0474214521021569, \"cause\": 3, \"race\": 4, \"county\": 303, \"raked_value\": 3.876925995673906, \"version\": \"experimental\"}, {\"value\": 0.7283904533236634, \"cause\": 3, \"race\": 7, \"county\": 303, \"raked_value\": 5.874825719129915, \"version\": \"experimental\"}, {\"value\": 7.059582111821383, \"cause\": -1, \"race\": 1, \"county\": 301, \"raked_value\": 1.1136984504382101, \"version\": \"experimental\"}, {\"value\": 15.284045454433103, \"cause\": -1, \"race\": 1, \"county\": 302, \"raked_value\": 0.1805299258405375, \"version\": \"experimental\"}, {\"value\": 6.241849162845116, \"cause\": -1, \"race\": 1, \"county\": 303, \"raked_value\": 0.5388830508268346, \"version\": \"experimental\"}, {\"value\": 7.096473073487695, \"cause\": -1, \"race\": 2, \"county\": 301, \"raked_value\": 1.4068195457261465, \"version\": \"experimental\"}, {\"value\": 22.016990638655596, \"cause\": -1, \"race\": 2, \"county\": 302, \"raked_value\": 2.4236120988010352, \"version\": \"experimental\"}, {\"value\": 5.004894421171879, \"cause\": -1, \"race\": 2, \"county\": 303, \"raked_value\": 2.3229583958199376, \"version\": \"experimental\"}, {\"value\": 0.0490881206077501, \"cause\": -1, \"race\": 3, \"county\": 301, \"raked_value\": 2.7434271068328235, \"version\": \"experimental\"}, {\"value\": 0.0300939313679438, \"cause\": -1, \"race\": 3, \"county\": 302, \"raked_value\": 7.95747426782712, \"version\": \"experimental\"}, {\"value\": 0.0698547617989175, \"cause\": -1, \"race\": 3, \"county\": 303, \"raked_value\": 25.761266453040264, \"version\": \"experimental\"}, {\"value\": 0.1623514401991393, \"cause\": -1, \"race\": 4, \"county\": 301, \"raked_value\": 1.2011273015884556, \"version\": \"experimental\"}, {\"value\": 1.736007988742877, \"cause\": -1, \"race\": 4, \"county\": 302, \"raked_value\": 6.847757882169812, \"version\": \"experimental\"}, {\"value\": 0.1357038752629502, \"cause\": -1, \"race\": 4, \"county\": 303, \"raked_value\": 11.033847925631747, \"version\": \"experimental\"}, {\"value\": 1.0700035264010763, \"cause\": -1, \"race\": 7, \"county\": 301, \"raked_value\": 0.7397530478464758, \"version\": \"experimental\"}, {\"value\": 4.850779585750163, \"cause\": -1, \"race\": 7, \"county\": 302, \"raked_value\": 2.0754490588948467, \"version\": \"experimental\"}, {\"value\": 2.055415037390876, \"cause\": -1, \"race\": 7, \"county\": 303, \"raked_value\": 11.427218693823317, \"version\": \"experimental\"}, {\"value\": 7.993014151560152, \"cause\": 1, \"race\": -1, \"county\": 301, \"raked_value\": 1.586798588745868, \"version\": \"experimental\"}, {\"value\": 25.48724593978178, \"cause\": 1, \"race\": -1, \"county\": 302, \"raked_value\": 15.648553238844237, \"version\": \"experimental\"}, {\"value\": 7.410078585904202, \"cause\": 1, \"race\": -1, \"county\": 303, \"raked_value\": 30.208366254728073, \"version\": \"experimental\"}, {\"value\": 1.136816028012426, \"cause\": 2, \"race\": -1, \"county\": 301, \"raked_value\": 2.119241062695768, \"version\": \"experimental\"}, {\"value\": 3.0336506278697297, \"cause\": 2, \"race\": -1, \"county\": 302, \"raked_value\": 2.0910498615452378, \"version\": \"experimental\"}, {\"value\": 1.1755414073102264, \"cause\": 2, \"race\": -1, \"county\": 303, \"raked_value\": 1.0631670726936566, \"version\": \"experimental\"}, {\"value\": 5.203133316454257, \"cause\": 3, \"race\": -1, \"county\": 301, \"raked_value\": 3.498785800990476, \"version\": \"experimental\"}, {\"value\": 14.120819163105876, \"cause\": 3, \"race\": -1, \"county\": 302, \"raked_value\": 1.7452201331438781, \"version\": \"experimental\"}, {\"value\": 4.881196971742203, \"cause\": 3, \"race\": -1, \"county\": 303, \"raked_value\": 19.81264119172037, \"version\": \"experimental\"}, {\"value\": 14.677893078874286, \"cause\": -1, \"race\": -1, \"county\": 301, \"raked_value\": 7.204825452432112, \"version\": \"experimental\"}, {\"value\": 40.19466928193167, \"cause\": -1, \"race\": -1, \"county\": 302, \"raked_value\": 19.48482323353335, \"version\": \"experimental\"}, {\"value\": 13.912294004256838, \"cause\": -1, \"race\": -1, \"county\": 303, \"raked_value\": 51.0841745191421, \"version\": \"experimental\"}]}}, {\"mode\": \"vega-lite\"});\n",
       "</script>"
      ],
      "text/plain": [
       "alt.LayerChart(...)"
      ]
     },
     "execution_count": 30,
     "metadata": {},
     "output_type": "execute_result"
    }
   ],
   "source": [
    "chart"
   ]
  },
  {
   "cell_type": "code",
   "execution_count": null,
   "id": "c2d22087-7899-45aa-9753-b63bef5b16da",
   "metadata": {},
   "outputs": [],
   "source": []
  }
 ],
 "metadata": {
  "kernelspec": {
   "display_name": "Python 3 (ipykernel)",
   "language": "python",
   "name": "python3"
  },
  "language_info": {
   "codemirror_mode": {
    "name": "ipython",
    "version": 3
   },
   "file_extension": ".py",
   "mimetype": "text/x-python",
   "name": "python",
   "nbconvert_exporter": "python",
   "pygments_lexer": "ipython3",
   "version": "3.12.5"
  }
 },
 "nbformat": 4,
 "nbformat_minor": 5
}
