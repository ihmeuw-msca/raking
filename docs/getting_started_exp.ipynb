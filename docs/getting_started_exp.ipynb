{
 "cells": [
  {
   "cell_type": "markdown",
   "id": "2fbbdf0b-e9d0-4ad5-8337-0a668c556201",
   "metadata": {},
   "source": [
    "# Getting started with the experimental version of raking"
   ]
  },
  {
   "cell_type": "markdown",
   "id": "b211167f-414a-4102-9b73-d7cd97636a08",
   "metadata": {},
   "source": [
    "Let us start by importing the raking function to run the raking."
   ]
  },
  {
   "cell_type": "code",
   "execution_count": 1,
   "id": "619f05cd-85d9-4280-9ad8-7dd7956926fa",
   "metadata": {},
   "outputs": [],
   "source": [
    "import numpy as np\n",
    "import pandas as pd\n",
    "from raking.experimental import DataBuilder\n",
    "from raking.experimental import DualSolver"
   ]
  },
  {
   "cell_type": "markdown",
   "id": "576f6c16-723e-4501-9605-0307f342d54e",
   "metadata": {},
   "source": [
    "Here modify the path to indicate the directory where you have installed the GitHub repository."
   ]
  },
  {
   "cell_type": "code",
   "execution_count": 2,
   "id": "7ba89382-168e-4b29-8b19-84263e044767",
   "metadata": {},
   "outputs": [],
   "source": [
    "YOUR_PATH = \"/Users/ducela/Documents/Raking/ihmeuw-msca/raking/\""
   ]
  },
  {
   "cell_type": "markdown",
   "id": "ca276f4a-36a4-46d2-9afa-8a2b353ffa50",
   "metadata": {},
   "source": [
    "## Examples\n",
    "\n",
    "In this examples, we only want the raked values. The experimental version of the raking package does not contain uncertainty propagation yet."
   ]
  },
  {
   "cell_type": "markdown",
   "id": "1d8410c6-12af-47ea-bf74-176db2fa7727",
   "metadata": {},
   "source": [
    "### 1D example"
   ]
  },
  {
   "cell_type": "code",
   "execution_count": 3,
   "id": "1de0807f-ce80-4105-b8f4-b4063497e1b0",
   "metadata": {},
   "outputs": [],
   "source": [
    "# Read the observations and margin data sets\n",
    "df_obs = pd.read_csv(YOUR_PATH + \"tests/examples/example_1D/observations.csv\")\n",
    "df_margin = pd.read_csv(YOUR_PATH + \"tests/examples/example_1D/margin.csv\")\n",
    "df_obs['weights'] = 1.0\n",
    "df_margin['var1'] = -1\n",
    "df_margin['weights'] = np.inf\n",
    "df_margin.rename(columns={'value_agg_over_var1': 'value'}, inplace=True)\n",
    "df = pd.concat([df_obs, df_margin])"
   ]
  },
  {
   "cell_type": "code",
   "execution_count": 4,
   "id": "85caf732-3f6c-4627-8663-a05b76e11900",
   "metadata": {},
   "outputs": [],
   "source": [
    "# Build the raking data\n",
    "data_builder = DataBuilder(\n",
    "    dim_specs={'var1': -1},\n",
    "    value='value',\n",
    "    weights='weights'\n",
    ")\n",
    "data = data_builder.build(df)"
   ]
  },
  {
   "cell_type": "code",
   "execution_count": 5,
   "id": "0f5a4cb1-2c9e-42e9-a0e6-740d2810c8e8",
   "metadata": {},
   "outputs": [],
   "source": [
    "# Solve the raking problem\n",
    "solver = DualSolver(distance='entropic', data=data)\n",
    "df_raked = solver.solve()"
   ]
  },
  {
   "cell_type": "code",
   "execution_count": 6,
   "id": "6015d6c9-5bae-4ac3-94e8-84cee39738bf",
   "metadata": {},
   "outputs": [
    {
     "data": {
      "text/plain": [
       "  message: CONVERGENCE: RELATIVE REDUCTION OF F <= FACTR*EPSMCH\n",
       "  success: True\n",
       "   status: 0\n",
       "      fun: 6.9408010589989875\n",
       "        x: [-9.961e-04]\n",
       "      nit: 3\n",
       "      jac: [ 1.084e-11]\n",
       "     nfev: 5\n",
       "     njev: 5\n",
       " hess_inv: <1x1 LbfgsInvHessProduct with dtype=float64>"
      ]
     },
     "execution_count": 6,
     "metadata": {},
     "output_type": "execute_result"
    }
   ],
   "source": [
    "# Check the result of the solver\n",
    "solver.result"
   ]
  },
  {
   "cell_type": "code",
   "execution_count": 7,
   "id": "a6544d48-3fd4-4a4b-a433-8ec47cc2b6d9",
   "metadata": {},
   "outputs": [
    {
     "name": "stdout",
     "output_type": "stream",
     "text": [
      "True\n"
     ]
    }
   ],
   "source": [
    "# We can verify that the raked values add up to the margin\n",
    "print(\n",
    "    np.allclose(\n",
    "        df_raked['soln'].sum(), df_margin['value'].iloc[0]\n",
    "    )\n",
    ")"
   ]
  },
  {
   "cell_type": "markdown",
   "id": "541b2475-8ef7-4845-b0a7-8add8c8f05bc",
   "metadata": {},
   "source": [
    "### 2D example"
   ]
  },
  {
   "cell_type": "code",
   "execution_count": 8,
   "id": "241a267f-15e5-42af-963f-0c1a346d0808",
   "metadata": {},
   "outputs": [],
   "source": [
    "# Read the observations and margins data sets\n",
    "df_obs = pd.read_csv(YOUR_PATH + \"tests/examples/example_2D/observations.csv\")\n",
    "df_margins_1 = pd.read_csv(\n",
    "    YOUR_PATH + \"tests/examples/example_2D/margins_1.csv\"\n",
    ")\n",
    "df_margins_2 = pd.read_csv(\n",
    "    YOUR_PATH + \"tests/examples/example_2D/margins_2.csv\"\n",
    ")\n",
    "df_obs['weights'] = 1.0\n",
    "df_margins_1['var1'] = -1\n",
    "df_margins_1['weights'] = np.inf\n",
    "df_margins_1.rename(columns={'value_agg_over_var1': 'value'}, inplace=True)\n",
    "df_margins_2['var2'] = -1\n",
    "df_margins_2['weights'] = np.inf\n",
    "df_margins_2.rename(columns={'value_agg_over_var2': 'value'}, inplace=True)\n",
    "df = pd.concat([df_obs, df_margins_1, df_margins_2])"
   ]
  },
  {
   "cell_type": "code",
   "execution_count": 9,
   "id": "8e870179-8e4a-452e-b793-7e8f3bbb5fd3",
   "metadata": {},
   "outputs": [],
   "source": [
    "# Build the raking data\n",
    "data_builder = DataBuilder(\n",
    "    dim_specs={'var1': -1, 'var2': -1},\n",
    "    value='value',\n",
    "    weights='weights'\n",
    ")\n",
    "data = data_builder.build(df)"
   ]
  },
  {
   "cell_type": "code",
   "execution_count": 10,
   "id": "866fe2ef-f51f-4113-9bf7-ff108920f1ec",
   "metadata": {},
   "outputs": [],
   "source": [
    "# Solve the raking problem\n",
    "solver = DualSolver(distance='entropic', data=data)\n",
    "df_raked = solver.solve()"
   ]
  },
  {
   "cell_type": "code",
   "execution_count": 11,
   "id": "5cc40cee-4312-40e9-ba96-e9961b1668d4",
   "metadata": {},
   "outputs": [
    {
     "data": {
      "text/plain": [
       "  message: CONVERGENCE: RELATIVE REDUCTION OF F <= FACTR*EPSMCH\n",
       "  success: True\n",
       "   status: 0\n",
       "      fun: 37.92727783633624\n",
       "        x: [-4.717e-03 -1.792e-02 -1.830e-02 -5.281e-03  3.278e-02\n",
       "             2.807e-02  1.769e-02]\n",
       "      nit: 9\n",
       "      jac: [-3.106e-07  3.427e-07  2.581e-07 -3.306e-07  1.547e-07\n",
       "            -7.824e-07  1.385e-06]\n",
       "     nfev: 12\n",
       "     njev: 12\n",
       " hess_inv: <7x7 LbfgsInvHessProduct with dtype=float64>"
      ]
     },
     "execution_count": 11,
     "metadata": {},
     "output_type": "execute_result"
    }
   ],
   "source": [
    "# Check the result of the solver\n",
    "solver.result"
   ]
  },
  {
   "cell_type": "code",
   "execution_count": 12,
   "id": "ffe8e5fe-ef23-4a7f-920b-56388456bc4f",
   "metadata": {},
   "outputs": [
    {
     "name": "stdout",
     "output_type": "stream",
     "text": [
      "True True\n"
     ]
    }
   ],
   "source": [
    "# We can verify that the raked values add up to the margins\n",
    "sum_over_var1 = (\n",
    "    df_raked.groupby([\"var2\"])\n",
    "    .agg({\"soln\": \"sum\"})\n",
    "    .reset_index()\n",
    "    .merge(df_margins_1, on=\"var2\")\n",
    ")\n",
    "sum_over_var2 = (\n",
    "    df_raked.groupby([\"var1\"])\n",
    "    .agg({\"soln\": \"sum\"})\n",
    "    .reset_index()\n",
    "    .merge(df_margins_2, on=\"var1\")\n",
    ")\n",
    "print(\n",
    "    np.allclose(\n",
    "        sum_over_var1[\"soln\"], sum_over_var1[\"value\"]\n",
    "    ),\n",
    "    np.allclose(\n",
    "        sum_over_var2[\"soln\"], sum_over_var2[\"value\"]\n",
    "    ),\n",
    ")"
   ]
  },
  {
   "cell_type": "markdown",
   "id": "0aa95d84-c48a-4471-bb2b-34ec3ed79002",
   "metadata": {},
   "source": [
    "### 3D example"
   ]
  },
  {
   "cell_type": "code",
   "execution_count": 13,
   "id": "d5052a6b-5205-46fe-bc7d-8c098522d9b1",
   "metadata": {},
   "outputs": [],
   "source": [
    "# Read the observations and margins data sets\n",
    "df_obs = pd.read_csv(YOUR_PATH + \"tests/examples/example_3D/observations.csv\")\n",
    "df_margins_1 = pd.read_csv(\n",
    "    YOUR_PATH + \"tests/examples/example_3D/margins_1.csv\"\n",
    ")\n",
    "df_margins_2 = pd.read_csv(\n",
    "    YOUR_PATH + \"tests/examples/example_3D/margins_2.csv\"\n",
    ")\n",
    "df_margins_3 = pd.read_csv(\n",
    "    YOUR_PATH + \"tests/examples/example_3D/margins_3.csv\"\n",
    ")\n",
    "df_obs['weights'] = 1.0\n",
    "df_margins_1['var1'] = -1\n",
    "df_margins_1['weights'] = np.inf\n",
    "df_margins_1.rename(columns={'value_agg_over_var1': 'value'}, inplace=True)\n",
    "df_margins_2['var2'] = -1\n",
    "df_margins_2['weights'] = np.inf\n",
    "df_margins_2.rename(columns={'value_agg_over_var2': 'value'}, inplace=True)\n",
    "df_margins_3['var3'] = -1\n",
    "df_margins_3['weights'] = np.inf\n",
    "df_margins_3.rename(columns={'value_agg_over_var3': 'value'}, inplace=True)\n",
    "df = pd.concat([df_obs, df_margins_1, df_margins_2, df_margins_3])"
   ]
  },
  {
   "cell_type": "code",
   "execution_count": 14,
   "id": "c2c14417-1169-45ec-b7a9-c182cdb3782e",
   "metadata": {},
   "outputs": [],
   "source": [
    "# Build the raking data\n",
    "data_builder = DataBuilder(\n",
    "    dim_specs={'var1': -1, 'var2': -1, 'var3': -1},\n",
    "    value='value',\n",
    "    weights='weights'\n",
    ")\n",
    "data = data_builder.build(df)"
   ]
  },
  {
   "cell_type": "code",
   "execution_count": 15,
   "id": "17bbcf53-301f-49f2-b0d5-02e40e70e9ae",
   "metadata": {},
   "outputs": [],
   "source": [
    "# Solve the raking problem\n",
    "solver = DualSolver(distance='entropic', data=data)\n",
    "df_raked = solver.solve()"
   ]
  },
  {
   "cell_type": "code",
   "execution_count": 16,
   "id": "5e47f1c7-df93-4cd7-a9f8-dc35355c5703",
   "metadata": {},
   "outputs": [
    {
     "data": {
      "text/plain": [
       "  message: CONVERGENCE: RELATIVE REDUCTION OF F <= FACTR*EPSMCH\n",
       "  success: True\n",
       "   status: 0\n",
       "      fun: 150.7699855612442\n",
       "        x: [-4.606e-02 -9.952e-03 ...  2.920e-02  3.608e-02]\n",
       "      nit: 26\n",
       "      jac: [-7.671e-07  3.663e-06 ...  2.683e-06  1.457e-05]\n",
       "     nfev: 30\n",
       "     njev: 30\n",
       " hess_inv: <36x36 LbfgsInvHessProduct with dtype=float64>"
      ]
     },
     "execution_count": 16,
     "metadata": {},
     "output_type": "execute_result"
    }
   ],
   "source": [
    "# Check the result of the solver\n",
    "solver.result"
   ]
  },
  {
   "cell_type": "code",
   "execution_count": 17,
   "id": "33d47ea2-d3b8-46c7-975e-82502b05a6dd",
   "metadata": {},
   "outputs": [
    {
     "name": "stdout",
     "output_type": "stream",
     "text": [
      "True True True\n"
     ]
    }
   ],
   "source": [
    "# We can verify that the raked values add up to the margins\n",
    "sum_over_var1 = (\n",
    "    df_raked.groupby([\"var2\", \"var3\"])\n",
    "    .agg({\"soln\": \"sum\"})\n",
    "    .reset_index()\n",
    "    .merge(df_margins_1, on=[\"var2\", \"var3\"])\n",
    ")\n",
    "sum_over_var2 = (\n",
    "    df_raked.groupby([\"var1\", \"var3\"])\n",
    "    .agg({\"soln\": \"sum\"})\n",
    "    .reset_index()\n",
    "    .merge(df_margins_2, on=[\"var1\", \"var3\"])\n",
    ")\n",
    "sum_over_var3 = (\n",
    "    df_raked.groupby([\"var1\", \"var2\"])\n",
    "    .agg({\"soln\": \"sum\"})\n",
    "    .reset_index()\n",
    "    .merge(df_margins_3, on=[\"var1\", \"var2\"])\n",
    ")\n",
    "print(\n",
    "    np.allclose(\n",
    "        sum_over_var1[\"soln\"], sum_over_var1[\"value\"]\n",
    "    ),\n",
    "    np.allclose(\n",
    "        sum_over_var2[\"soln\"], sum_over_var2[\"value\"]\n",
    "    ),\n",
    "    np.allclose(\n",
    "        sum_over_var3[\"soln\"], sum_over_var3[\"value\"]\n",
    "    ),\n",
    ")"
   ]
  },
  {
   "cell_type": "markdown",
   "id": "8515b650-cc02-4d65-8a7d-b44f4a6fcd90",
   "metadata": {},
   "source": [
    "### USHD example"
   ]
  },
  {
   "cell_type": "code",
   "execution_count": 18,
   "id": "d1b41c93-d685-4dd2-991b-553522c5fcdd",
   "metadata": {},
   "outputs": [],
   "source": [
    "# Read the observations and margins data sets\n",
    "df_obs = pd.read_csv(YOUR_PATH + \"tests/examples/example_USHD/observations.csv\")\n",
    "df_margin = pd.read_csv(YOUR_PATH + \"tests/examples/example_USHD/margins.csv\")\n",
    "df_obs['weights'] = 1.0\n",
    "df_obs.replace({'cause': '_all', 'race': 1}, -1, inplace=True)\n",
    "df_obs.drop(columns=['upper'], inplace=True)\n",
    "df_obs.replace({'cause': {'_comm': 1, '_inj': 2, '_ncd': 3}}, inplace=True)\n",
    "df_margin['race'] = -1\n",
    "df_margin['county'] = -1\n",
    "df_margin['weights'] = np.inf\n",
    "df_margin.rename(columns={'value_agg_over_race_county': 'value'}, inplace=True)\n",
    "df_margin.replace({'cause': {'_all': -1, '_comm': 1, '_inj': 2, '_ncd': 3}}, inplace=True)\n",
    "df = pd.concat([df_obs, df_margin])\n",
    "df = df.astype({'cause': 'int64'})"
   ]
  },
  {
   "cell_type": "code",
   "execution_count": 19,
   "id": "f059a5a5-24e3-4e21-8ced-d6b53b67c6e2",
   "metadata": {},
   "outputs": [],
   "source": [
    "# Build the raking data\n",
    "data_builder = DataBuilder(\n",
    "    dim_specs={'cause': -1, 'race': -1, 'county': -1},\n",
    "    value='value',\n",
    "    weights='weights'\n",
    ")\n",
    "data = data_builder.build(df)"
   ]
  },
  {
   "cell_type": "code",
   "execution_count": 20,
   "id": "8cd7139d-db67-4d8d-9575-3c540c4618d8",
   "metadata": {},
   "outputs": [],
   "source": [
    "# Solve the raking problem\n",
    "solver = DualSolver(distance='entropic', data=data)\n",
    "df_raked = solver.solve()"
   ]
  },
  {
   "cell_type": "code",
   "execution_count": 21,
   "id": "190dc242-19e1-49cc-be2d-2f80fcaebca0",
   "metadata": {},
   "outputs": [
    {
     "data": {
      "text/plain": [
       "  message: CONVERGENCE: RELATIVE REDUCTION OF F <= FACTR*EPSMCH\n",
       "  success: True\n",
       "   status: 0\n",
       "      fun: 159.6193588261129\n",
       "        x: [ 5.457e-02  1.679e-02 ... -4.723e-01 -5.950e-01]\n",
       "      nit: 125\n",
       "      jac: [-5.167e-05 -2.049e-05 ... -1.178e-05  1.735e-06]\n",
       "     nfev: 134\n",
       "     njev: 134\n",
       " hess_inv: <30x30 LbfgsInvHessProduct with dtype=float64>"
      ]
     },
     "execution_count": 21,
     "metadata": {},
     "output_type": "execute_result"
    }
   ],
   "source": [
    "# Check the result of the solver\n",
    "solver.result"
   ]
  },
  {
   "cell_type": "code",
   "execution_count": 22,
   "id": "9ad3f823-2893-4796-b2cd-3302dfa9b4c3",
   "metadata": {},
   "outputs": [
    {
     "name": "stdout",
     "output_type": "stream",
     "text": [
      "True\n"
     ]
    }
   ],
   "source": [
    "# We can verify that the raked values add up to the margins\n",
    "sum_over_race_county = (\n",
    "    df_raked\n",
    "    .groupby([\"cause\"], observed=True)\n",
    "    .agg({\"soln\": \"sum\"})\n",
    "    .reset_index()\n",
    "    .merge(df_margin, on=[\"cause\"])\n",
    ")\n",
    "print(\n",
    "    np.allclose(\n",
    "        sum_over_race_county[\"soln\"],\n",
    "        sum_over_race_county[\"value\"],\n",
    "        atol=1.0e-5,\n",
    "    ),\n",
    ")"
   ]
  },
  {
   "cell_type": "markdown",
   "id": "42e0864a-0a56-45a6-9d92-e9dc8f404cc4",
   "metadata": {},
   "source": [
    "### USHD lower example"
   ]
  },
  {
   "cell_type": "code",
   "execution_count": 23,
   "id": "fbd058dd-60a3-4761-b52f-32c6d56a379d",
   "metadata": {},
   "outputs": [],
   "source": [
    "# Read the observations and margins data sets\n",
    "df_obs = pd.read_csv(\n",
    "    YOUR_PATH + \"tests/examples/example_USHD_lower/observations.csv\"\n",
    ")\n",
    "df_margin_cause = pd.read_csv(\n",
    "    YOUR_PATH + \"tests/examples/example_USHD_lower/margins_cause.csv\"\n",
    ")\n",
    "df_margin_county = pd.read_csv(\n",
    "    YOUR_PATH + \"tests/examples/example_USHD_lower/margins_county.csv\"\n",
    ")\n",
    "df_margin_all_causes = pd.read_csv(\n",
    "    YOUR_PATH + \"tests/examples/example_USHD_lower/margins_all_causes.csv\"\n",
    ")\n",
    "df_obs['weights'] = 1.0\n",
    "df_obs.replace({'race': 1}, -1, inplace=True)\n",
    "df_obs.drop(columns=['upper'], inplace=True)\n",
    "df_obs.replace({'cause': {'_intent': 1, '_unintent': 2, 'inj_trans': 3}}, inplace=True)\n",
    "df_margin_cause['race'] = -1\n",
    "df_margin_cause['county'] = -1\n",
    "df_margin_cause['weights'] = np.inf\n",
    "df_margin_cause.rename(columns={'value_agg_over_race_county': 'value'}, inplace=True)\n",
    "df_margin_cause.replace({'cause': {'_intent': 1, '_unintent': 2, 'inj_trans': 3}}, inplace=True)\n",
    "df_margin_county['cause'] = -1\n",
    "df_margin_county['race'] = -1\n",
    "df_margin_county['weights'] = np.inf\n",
    "df_margin_county.rename(columns={'value_agg_over_cause_race': 'value'}, inplace=True)\n",
    "df_margin_all_causes['cause'] = -1\n",
    "df_margin_all_causes['weights'] = np.inf\n",
    "df_margin_all_causes.rename(columns={'value_agg_over_cause': 'value'}, inplace=True)\n",
    "df = pd.concat([df_obs, df_margin_cause, df_margin_county, df_margin_all_causes])\n",
    "df = df.astype({'cause': 'int64'})"
   ]
  },
  {
   "cell_type": "code",
   "execution_count": 24,
   "id": "3c3ab5ec-2863-4fae-b0d7-02783bab8064",
   "metadata": {},
   "outputs": [],
   "source": [
    "# Build the raking data\n",
    "data_builder = DataBuilder(\n",
    "    dim_specs={'cause': -1, 'race': -1, 'county': -1},\n",
    "    value='value',\n",
    "    weights='weights'\n",
    ")\n",
    "data = data_builder.build(df)"
   ]
  },
  {
   "cell_type": "code",
   "execution_count": 25,
   "id": "78046284-91e5-4275-a334-51532d39aaef",
   "metadata": {},
   "outputs": [],
   "source": [
    "# Solve the raking problem\n",
    "solver = DualSolver(distance='entropic', data=data)\n",
    "df_raked = solver.solve()"
   ]
  },
  {
   "cell_type": "code",
   "execution_count": 26,
   "id": "193e298f-66b4-42e2-aab9-bcef39c48897",
   "metadata": {},
   "outputs": [
    {
     "data": {
      "text/plain": [
       "  message: CONVERGENCE: RELATIVE REDUCTION OF F <= FACTR*EPSMCH\n",
       "  success: True\n",
       "   status: 0\n",
       "      fun: 4.6554862448094285\n",
       "        x: [ 1.410e-02  3.647e-02 ... -4.615e-01 -6.325e-01]\n",
       "      nit: 133\n",
       "      jac: [ 5.744e-07  5.623e-07 ... -2.453e-06 -1.261e-06]\n",
       "     nfev: 140\n",
       "     njev: 140\n",
       " hess_inv: <27x27 LbfgsInvHessProduct with dtype=float64>"
      ]
     },
     "execution_count": 26,
     "metadata": {},
     "output_type": "execute_result"
    }
   ],
   "source": [
    "# Check the result of the solver\n",
    "solver.result"
   ]
  },
  {
   "cell_type": "code",
   "execution_count": 27,
   "id": "4b8f4b32-29a5-40e7-bc33-8f51a0dd7281",
   "metadata": {},
   "outputs": [
    {
     "name": "stdout",
     "output_type": "stream",
     "text": [
      "True True True\n"
     ]
    }
   ],
   "source": [
    "# We can verify that the raked values add up to the margins\n",
    "sum_over_cause = (\n",
    "    df_raked\n",
    "    .groupby([\"race\", \"county\"], observed=True)\n",
    "    .agg({\"soln\": \"sum\"})\n",
    "    .reset_index()\n",
    "    .merge(df_margin_all_causes, on=[\"race\", \"county\"])\n",
    ")\n",
    "sum_over_cause_race = (\n",
    "    df_raked\n",
    "    .groupby([\"county\"], observed=True)\n",
    "    .agg({\"soln\": \"sum\"})\n",
    "    .reset_index()\n",
    "    .merge(df_margin_county, on=[\"county\"])\n",
    ")\n",
    "sum_over_race_county = (\n",
    "    df_raked\n",
    "    .groupby([\"cause\"], observed=True)\n",
    "    .agg({\"soln\": \"sum\"})\n",
    "    .reset_index()\n",
    "    .merge(df_margin_cause, on=[\"cause\"])\n",
    ")\n",
    "print(\n",
    "    np.allclose(\n",
    "        sum_over_cause[\"soln\"],\n",
    "        sum_over_cause[\"value\"],\n",
    "        atol=1.0e-4,\n",
    "    ),\n",
    "    np.allclose(\n",
    "        sum_over_cause_race[\"soln\"],\n",
    "        sum_over_cause_race[\"value\"],\n",
    "        atol=1.0e-4,\n",
    "    ),\n",
    "    np.allclose(\n",
    "        sum_over_race_county[\"soln\"],\n",
    "        sum_over_race_county[\"value\"],\n",
    "        atol=1.0e-5,\n",
    "    ),\n",
    ")"
   ]
  },
  {
   "cell_type": "code",
   "execution_count": null,
   "id": "8740a3e7-f1d7-45bd-a636-062c79748c28",
   "metadata": {},
   "outputs": [],
   "source": []
  }
 ],
 "metadata": {
  "kernelspec": {
   "display_name": "Python 3 (ipykernel)",
   "language": "python",
   "name": "python3"
  },
  "language_info": {
   "codemirror_mode": {
    "name": "ipython",
    "version": 3
   },
   "file_extension": ".py",
   "mimetype": "text/x-python",
   "name": "python",
   "nbconvert_exporter": "python",
   "pygments_lexer": "ipython3",
   "version": "3.11.12"
  }
 },
 "nbformat": 4,
 "nbformat_minor": 5
}
